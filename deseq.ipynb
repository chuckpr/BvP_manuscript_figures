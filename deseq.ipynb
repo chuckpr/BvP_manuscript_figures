{
 "metadata": {
  "name": "",
  "signature": "sha256:7218757a3bf1cc6b2bfe82a5543b4dcadab8a050f42510ef2f50425ffb48caba"
 },
 "nbformat": 3,
 "nbformat_minor": 0,
 "worksheets": [
  {
   "cells": [
    {
     "cell_type": "code",
     "collapsed": false,
     "input": [
      "from IPython.display import FileLink"
     ],
     "language": "python",
     "metadata": {},
     "outputs": [],
     "prompt_number": 1
    },
    {
     "cell_type": "code",
     "collapsed": false,
     "input": [
      "%load_ext rmagic"
     ],
     "language": "python",
     "metadata": {},
     "outputs": [
      {
       "output_type": "stream",
       "stream": "stderr",
       "text": [
        "/opt/anaconda/lib/python2.7/site-packages/pytz/__init__.py:29: UserWarning: Module argparse was already imported from /opt/anaconda/lib/python2.7/argparse.pyc, but /opt/anaconda/lib/python2.7/site-packages is being added to sys.path\n",
        "  from pkg_resources import resource_stream\n"
       ]
      }
     ],
     "prompt_number": 2
    },
    {
     "cell_type": "code",
     "collapsed": false,
     "input": [
      "%%R\n",
      "library(DESeq2)\n",
      "library(phyloseq)\n",
      "library(ggplot2)\n",
      "library(RColorBrewer)\n",
      "library(gridExtra)\n",
      "library(plyr)\n",
      "library(dplyr)"
     ],
     "language": "python",
     "metadata": {},
     "outputs": [],
     "prompt_number": 19
    },
    {
     "cell_type": "code",
     "collapsed": false,
     "input": [
      "%%R\n",
      "print(sessionInfo())"
     ],
     "language": "python",
     "metadata": {},
     "outputs": [
      {
       "metadata": {},
       "output_type": "display_data",
       "text": [
        "R version 3.1.0 (2014-04-10)\n",
        "Platform: x86_64-pc-linux-gnu (64-bit)\n",
        "\n",
        "locale:\n",
        " [1] LC_CTYPE=en_US.UTF-8       LC_NUMERIC=C              \n",
        " [3] LC_TIME=en_US.UTF-8        LC_COLLATE=en_US.UTF-8    \n",
        " [5] LC_MONETARY=en_US.UTF-8    LC_MESSAGES=en_US.UTF-8   \n",
        " [7] LC_PAPER=en_US.UTF-8       LC_NAME=C                 \n",
        " [9] LC_ADDRESS=C               LC_TELEPHONE=C            \n",
        "[11] LC_MEASUREMENT=en_US.UTF-8 LC_IDENTIFICATION=C       \n",
        "\n",
        "attached base packages:\n",
        " [1] grid      parallel  tools     stats     graphics  grDevices utils    \n",
        " [8] datasets  methods   base     \n",
        "\n",
        "other attached packages:\n",
        " [1] dplyr_0.2                 plyr_1.8.1               \n",
        " [3] gridExtra_0.9.1           RColorBrewer_1.0-5       \n",
        " [5] ggplot2_0.9.3.1           phyloseq_1.7.12          \n",
        " [7] DESeq2_1.2.10             RcppArmadillo_0.4.100.2.1\n",
        " [9] Rcpp_0.11.1               GenomicRanges_1.14.4     \n",
        "[11] XVector_0.2.0             IRanges_1.20.7           \n",
        "[13] BiocGenerics_0.8.0       \n",
        "\n",
        "loaded via a namespace (and not attached):\n",
        " [1] ade4_1.6-2           annotate_1.40.1      AnnotationDbi_1.24.0\n",
        " [4] ape_3.1-1            assertthat_0.1       Biobase_2.22.0      \n",
        " [7] biom_0.3.12          Biostrings_2.30.1    cluster_1.15.2      \n",
        "[10] codetools_0.2-8      colorspace_1.2-4     DBI_0.2-7           \n",
        "[13] dichromat_2.0-0      digest_0.6.4         foreach_1.4.1       \n",
        "[16] genefilter_1.44.0    gtable_0.1.2         igraph_0.7.0        \n",
        "[19] iterators_1.0.6      labeling_0.2         lattice_0.20-29     \n",
        "[22] locfit_1.5-9.1       MASS_7.3-33          Matrix_1.1-3        \n",
        "[25] multtest_2.18.0      munsell_0.4.2        nlme_3.1-117        \n",
        "[28] permute_0.8-3        proto_0.3-10         reshape2_1.2.2      \n",
        "[31] RJSONIO_1.0-3        RSQLite_0.11.4       scales_0.2.3        \n",
        "[34] splines_3.1.0        stats4_3.1.0         stringr_0.6.2       \n",
        "[37] survival_2.37-7      vegan_2.0-10         XML_3.98-1.1        \n",
        "[40] xtable_1.7-3        \n"
       ]
      }
     ],
     "prompt_number": 20
    },
    {
     "cell_type": "code",
     "collapsed": false,
     "input": [
      "%%R\n",
      "physeq.bact = import_biom(\"../data/B/otu_table.wtax_wsd.biom\")\n",
      "physeq.thresh.bact = filter_taxa(physeq.bact, function(x) sum(x > 0) > length(x) / 4, TRUE)\n",
      "physeq.euk = import_biom(\"../data/A/otu_table.wtax_wsd.biom\")\n",
      "physeq.euk = subset_taxa(physeq.euk, Rank1 == \"Eukaryota\")\n",
      "physeq.thresh.euk = filter_taxa(physeq.euk, function(x) sum(x > 0) > length(x) / 4, TRUE)\n",
      "print(physeq.thresh.euk)\n",
      "print(physeq.thresh.bact)"
     ],
     "language": "python",
     "metadata": {},
     "outputs": [
      {
       "metadata": {},
       "output_type": "display_data",
       "text": [
        "phyloseq-class experiment-level object\n",
        "otu_table()   OTU Table:         [ 83 taxa and 14 samples ]\n",
        "sample_data() Sample Data:       [ 14 samples by 8 sample variables ]\n",
        "tax_table()   Taxonomy Table:    [ 83 taxa by 9 taxonomic ranks ]\n",
        "phyloseq-class experiment-level object\n",
        "otu_table()   OTU Table:         [ 233 taxa and 14 samples ]\n",
        "sample_data() Sample Data:       [ 14 samples by 9 sample variables ]\n",
        "tax_table()   Taxonomy Table:    [ 233 taxa by 7 taxonomic ranks ]\n"
       ]
      }
     ],
     "prompt_number": 6
    },
    {
     "cell_type": "code",
     "collapsed": false,
     "input": [
      "%%R\n",
      "get_Ps = function(physeq.obj, sparsity.threshold) {\n",
      "    \n",
      "    ps = filter_taxa(physeq.obj, function(x) sum(x > 0) > length(x) * sparsity.threshold, TRUE)\n",
      "        \n",
      "    dds = phyloseq_to_deseq2(ps, ~EnvironmentType)\n",
      "    dds = suppressMessages(DESeq(dds, quiet = FALSE))\n",
      "    r = results(dds, independentFiltering = FALSE)\n",
      "    r$sp.thresh = as.character(sparsity.threshold)\n",
      "        \n",
      "    supp = tax_table(ps)\n",
      "    if( !setequal(row.names(r), row.names(supp)) ){\n",
      "        stop(\"Ordination and supplementary data indices differ on the following:\\n.\",\n",
      "        setdiff(row.names(r), row.names(supp)))\n",
      "    }\n",
      "\n",
      "    DF <- data.frame(data.frame(r), supp)\n",
      "    DF$OTU = rownames(DF)\n",
      "    DF\n",
      "}\n",
      "                     \n",
      "df.l2fc.bact = ldply(seq(0.05, 0.75, 0.05), get_Ps, physeq.obj = physeq.bact)                     "
     ],
     "language": "python",
     "metadata": {},
     "outputs": [],
     "prompt_number": 11
    },
    {
     "cell_type": "code",
     "collapsed": false,
     "input": [
      "%%R -w 450 -h 300\n",
      "FDR = 0.10\n",
      "df = df.l2fc.bact %.% group_by(sp.thresh) %.% summarize(S = sum(padj <= FDR, na.rm = TRUE))\n",
      "p = ggplot(df, aes(x = sp.thresh, y = S)) + geom_point(size = 4)\n",
      "p"
     ],
     "language": "python",
     "metadata": {},
     "outputs": [
      {
       "metadata": {},
       "output_type": "display_data",
       "png": "[encoded data removed]"
      }
     ],
     "prompt_number": 12
    },
    {
     "cell_type": "code",
     "collapsed": false,
     "input": [
      "%%R\n",
      "write.table(subset(df.l2fc.bact, sp.thresh == \"0.25\"), \n",
      "            \"../data/BvP.l2fc.bact.csv\",\n",
      "            row.names = FALSE,\n",
      "            sep = \",\")"
     ],
     "language": "python",
     "metadata": {},
     "outputs": [],
     "prompt_number": 16
    },
    {
     "cell_type": "code",
     "collapsed": false,
     "input": [
      "%%R\n",
      "df.l2fc.euk = ldply(seq(0.05, 0.75, 0.05), get_Ps, physeq.obj = physeq.euk)"
     ],
     "language": "python",
     "metadata": {},
     "outputs": [],
     "prompt_number": 13
    },
    {
     "cell_type": "code",
     "collapsed": false,
     "input": [
      "%%R -w 450 -h 300\n",
      "df = df.l2fc.euk %.% group_by(sp.thresh) %.% summarize(S = sum(padj <= FDR, na.rm = TRUE))\n",
      "p = ggplot(df, aes(x = sp.thresh, y = S)) + geom_point(size = 4)\n",
      "p"
     ],
     "language": "python",
     "metadata": {},
     "outputs": [
      {
       "metadata": {},
       "output_type": "display_data",
       "png": "[encoded data removed]"
      }
     ],
     "prompt_number": 14
    },
    {
     "cell_type": "code",
     "collapsed": false,
     "input": [
      "%%R\n",
      "write.table(subset(df.l2fc.euk, sp.thresh == \"0.25\"), \n",
      "            \"../data/BvP.l2fc.euk.csv\",\n",
      "            row.names = FALSE,\n",
      "            sep = \",\")"
     ],
     "language": "python",
     "metadata": {},
     "outputs": [],
     "prompt_number": 18
    }
   ],
   "metadata": {}
  }
 ]
}