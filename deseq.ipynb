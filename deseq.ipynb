{
 "metadata": {
  "name": "",
  "signature": "sha256:efaa55789b6848859f01592c5cb80689ba89e040196e363467e603ca5daa9e80"
 },
 "nbformat": 3,
 "nbformat_minor": 0,
 "worksheets": [
  {
   "cells": [
    {
     "cell_type": "code",
     "collapsed": false,
     "input": [
      "from IPython.display import FileLink"
     ],
     "language": "python",
     "metadata": {},
     "outputs": [],
     "prompt_number": 1
    },
    {
     "cell_type": "code",
     "collapsed": false,
     "input": [
      "%load_ext rmagic"
     ],
     "language": "python",
     "metadata": {},
     "outputs": [
      {
       "output_type": "stream",
       "stream": "stderr",
       "text": [
        "/opt/anaconda/lib/python2.7/site-packages/pytz/__init__.py:29: UserWarning: Module argparse was already imported from /opt/anaconda/lib/python2.7/argparse.pyc, but /opt/anaconda/lib/python2.7/site-packages is being added to sys.path\n",
        "  from pkg_resources import resource_stream\n"
       ]
      }
     ],
     "prompt_number": 2
    },
    {
     "cell_type": "code",
     "collapsed": false,
     "input": [
      "%%R\n",
      "library(DESeq2)\n",
      "library(phyloseq)\n",
      "library(ggplot2)\n",
      "library(RColorBrewer)\n",
      "library(gridExtra)\n",
      "library(plyr)\n",
      "library(dplyr)"
     ],
     "language": "python",
     "metadata": {},
     "outputs": [
      {
       "metadata": {},
       "output_type": "display_data",
       "text": [
        "Loading required package: GenomicRanges\n",
        "Loading required package: BiocGenerics\n",
        "Loading required package: parallel\n",
        "\n",
        "Attaching package: \u2018BiocGenerics\u2019\n",
        "\n",
        "The following objects are masked from \u2018package:parallel\u2019:\n",
        "\n",
        "    clusterApply, clusterApplyLB, clusterCall, clusterEvalQ,\n",
        "    clusterExport, clusterMap, parApply, parCapply, parLapply,\n",
        "    parLapplyLB, parRapply, parSapply, parSapplyLB\n",
        "\n",
        "The following object is masked from \u2018package:stats\u2019:\n",
        "\n",
        "    xtabs\n",
        "\n",
        "The following objects are masked from \u2018package:base\u2019:\n",
        "\n",
        "    anyDuplicated, append, as.data.frame, as.vector, cbind, colnames,\n",
        "    duplicated, eval, evalq, Filter, Find, get, intersect, is.unsorted,\n",
        "    lapply, Map, mapply, match, mget, order, paste, pmax, pmax.int,\n",
        "    pmin, pmin.int, Position, rank, rbind, Reduce, rep.int, rownames,\n",
        "    sapply, setdiff, sort, table, tapply, union, unique, unlist\n",
        "\n",
        "Loading required package: IRanges\n",
        "Loading required package: XVector\n",
        "Loading required package: Rcpp\n",
        "Loading required package: RcppArmadillo\n",
        "\n",
        "Attaching package: \u2018phyloseq\u2019\n",
        "\n",
        "The following object is masked from \u2018package:GenomicRanges\u2019:\n",
        "\n",
        "    distance\n",
        "\n",
        "The following object is masked from \u2018package:IRanges\u2019:\n",
        "\n",
        "    distance\n",
        "\n",
        "Loading required package: grid\n",
        "\n",
        "Attaching package: \u2018plyr\u2019\n",
        "\n",
        "The following object is masked from \u2018package:XVector\u2019:\n",
        "\n",
        "    compact\n",
        "\n",
        "The following objects are masked from \u2018package:IRanges\u2019:\n",
        "\n",
        "    desc, rename\n",
        "\n",
        "\n",
        "Attaching package: \u2018dplyr\u2019\n",
        "\n",
        "The following objects are masked from \u2018package:plyr\u2019:\n",
        "\n",
        "    arrange, desc, failwith, id, mutate, summarise, summarize\n",
        "\n",
        "The following objects are masked from \u2018package:GenomicRanges\u2019:\n",
        "\n",
        "    first, intersect, last, setdiff, union\n",
        "\n",
        "The following objects are masked from \u2018package:IRanges\u2019:\n",
        "\n",
        "    collapse, desc, intersect, setdiff, union\n",
        "\n",
        "The following objects are masked from \u2018package:BiocGenerics\u2019:\n",
        "\n",
        "    intersect, setdiff, union\n",
        "\n",
        "The following objects are masked from \u2018package:stats\u2019:\n",
        "\n",
        "    filter, lag\n",
        "\n",
        "The following objects are masked from \u2018package:base\u2019:\n",
        "\n",
        "    intersect, setdiff, setequal, union\n",
        "\n"
       ]
      }
     ],
     "prompt_number": 3
    },
    {
     "cell_type": "code",
     "collapsed": false,
     "input": [
      "%%R\n",
      "print(sessionInfo())"
     ],
     "language": "python",
     "metadata": {},
     "outputs": [
      {
       "metadata": {},
       "output_type": "display_data",
       "text": [
        "R version 3.1.0 (2014-04-10)\n",
        "Platform: x86_64-pc-linux-gnu (64-bit)\n",
        "\n",
        "locale:\n",
        " [1] LC_CTYPE=en_US.UTF-8       LC_NUMERIC=C              \n",
        " [3] LC_TIME=en_US.UTF-8        LC_COLLATE=en_US.UTF-8    \n",
        " [5] LC_MONETARY=en_US.UTF-8    LC_MESSAGES=en_US.UTF-8   \n",
        " [7] LC_PAPER=en_US.UTF-8       LC_NAME=C                 \n",
        " [9] LC_ADDRESS=C               LC_TELEPHONE=C            \n",
        "[11] LC_MEASUREMENT=en_US.UTF-8 LC_IDENTIFICATION=C       \n",
        "\n",
        "attached base packages:\n",
        " [1] grid      parallel  tools     stats     graphics  grDevices utils    \n",
        " [8] datasets  methods   base     \n",
        "\n",
        "other attached packages:\n",
        " [1] dplyr_0.2                 plyr_1.8.1               \n",
        " [3] gridExtra_0.9.1           RColorBrewer_1.0-5       \n",
        " [5] ggplot2_1.0.0             phyloseq_1.7.12          \n",
        " [7] DESeq2_1.2.10             RcppArmadillo_0.4.300.8.0\n",
        " [9] Rcpp_0.11.2               GenomicRanges_1.14.4     \n",
        "[11] XVector_0.2.0             IRanges_1.20.7           \n",
        "[13] BiocGenerics_0.8.0       \n",
        "\n",
        "loaded via a namespace (and not attached):\n",
        " [1] ade4_1.6-2           annotate_1.40.1      AnnotationDbi_1.24.0\n",
        " [4] ape_3.1-2            assertthat_0.1       Biobase_2.22.0      \n",
        " [7] biom_0.3.12          Biostrings_2.30.1    cluster_1.15.2      \n",
        "[10] codetools_0.2-8      colorspace_1.2-4     DBI_0.2-7           \n",
        "[13] digest_0.6.4         foreach_1.4.2        genefilter_1.44.0   \n",
        "[16] gtable_0.1.2         igraph_0.7.1         iterators_1.0.7     \n",
        "[19] lattice_0.20-29      locfit_1.5-9.1       MASS_7.3-33         \n",
        "[22] Matrix_1.1-4         multtest_2.18.0      munsell_0.4.2       \n",
        "[25] nlme_3.1-117         permute_0.8-3        proto_0.3-10        \n",
        "[28] reshape2_1.4         RJSONIO_1.2-0.2      RSQLite_0.11.4      \n",
        "[31] scales_0.2.4         splines_3.1.0        stats4_3.1.0        \n",
        "[34] stringr_0.6.2        survival_2.37-7      vegan_2.0-10        \n",
        "[37] XML_3.98-1.1         xtable_1.7-3        \n"
       ]
      }
     ],
     "prompt_number": 4
    },
    {
     "cell_type": "code",
     "collapsed": false,
     "input": [
      "%%R\n",
      "physeq.bact = import_biom(\"../data/B/otu_table.wtax_wsd.biom\")\n",
      "physeq.thresh.bact = filter_taxa(physeq.bact, function(x) sum(x > 0) > length(x) / 4, TRUE)\n",
      "physeq.euk = import_biom(\"../data/A/otu_table.wtax_wsd.biom\")\n",
      "physeq.euk = subset_taxa(physeq.euk, Rank1 == \"Eukaryota\")\n",
      "physeq.thresh.euk = filter_taxa(physeq.euk, function(x) sum(x > 0) > length(x) / 4, TRUE)\n",
      "print(physeq.thresh.euk)\n",
      "print(physeq.thresh.bact)"
     ],
     "language": "python",
     "metadata": {},
     "outputs": [
      {
       "metadata": {},
       "output_type": "display_data",
       "text": [
        "phyloseq-class experiment-level object\n",
        "otu_table()   OTU Table:         [ 83 taxa and 14 samples ]\n",
        "sample_data() Sample Data:       [ 14 samples by 8 sample variables ]\n",
        "tax_table()   Taxonomy Table:    [ 83 taxa by 9 taxonomic ranks ]\n",
        "phyloseq-class experiment-level object\n",
        "otu_table()   OTU Table:         [ 233 taxa and 14 samples ]\n",
        "sample_data() Sample Data:       [ 14 samples by 9 sample variables ]\n",
        "tax_table()   Taxonomy Table:    [ 233 taxa by 7 taxonomic ranks ]\n"
       ]
      }
     ],
     "prompt_number": 5
    },
    {
     "cell_type": "code",
     "collapsed": false,
     "input": [
      "%%R\n",
      "sample_variables(physeq.bact)"
     ],
     "language": "python",
     "metadata": {},
     "outputs": [
      {
       "metadata": {},
       "output_type": "display_data",
       "text": [
        "[1] \"LinkerPrimerSequence\" \"CarbonToPhosphorous\"  \"Description\"         \n",
        "[4] \"BarcodeSequence\"      \"Variable\"             \"Experiment\"          \n",
        "[7] \"Date\"                 \"ReversePrimer\"        \"EnvironmentType\"     \n"
       ]
      }
     ],
     "prompt_number": 52
    },
    {
     "cell_type": "code",
     "collapsed": false,
     "input": [
      "%%R\n",
      "d = data.frame(otu_table(physeq.bact))\n",
      "d$OTU = rownames(d)\n",
      "d %.% filter(OTU == \"OTU.11\")"
     ],
     "language": "python",
     "metadata": {},
     "outputs": [
      {
       "metadata": {},
       "output_type": "display_data",
       "text": [
        "  B1.15.7.10 B3.15.7.10 B2.15.7.10 B3.24.7.10 P1.15.7.10 B1.24.7.10 P1.24.7.70\n",
        "1          0          0          1          0          0          0          0\n",
        "  B4.24.7.10 B2.24.7.10 P2.24.7.10 P4.24.7.10 P2.15.7.10 P3.15.7.10 P3.24.7.10\n",
        "1          0          0        144          5         21         20         62\n",
        "     OTU\n",
        "1 OTU.11\n"
       ]
      }
     ],
     "prompt_number": 66
    },
    {
     "cell_type": "code",
     "collapsed": false,
     "input": [
      "%%R\n",
      "ps = filter_taxa(physeq.bact, function(x) sum(x > 0, na.rm = TRUE) > length(x) * 0.25, TRUE)\n",
      "dds = phyloseq_to_deseq2(ps, ~EnvironmentType)\n",
      "dds.sf  = estimateSizeFactors(dds)\n",
      "dds.ed = estimateDispersions(dds.sf)\n",
      "dds.nb = nbinomWaldTest(dds.ed)\n",
      "#attributes(rowData(dds.nb))\n",
      "d = mcols(rowData(dds.nb)) #elementMetadata(rowData(dds.ed))\n",
      "d$OTU = names(rowData(dds.ed))\n",
      "#rowData(dds.nb)$conditionuntreated"
     ],
     "language": "python",
     "metadata": {},
     "outputs": [
      {
       "metadata": {},
       "output_type": "display_data",
       "text": [
        "gene-wise dispersion estimates\n",
        "mean-dispersion relationship\n",
        "final dispersion estimates\n"
       ]
      }
     ],
     "prompt_number": 153
    },
    {
     "cell_type": "code",
     "collapsed": false,
     "input": [
      "%%R\n",
      "subset(d, OTU == \"OTU.36\")"
     ],
     "language": "python",
     "metadata": {},
     "outputs": [
      {
       "metadata": {},
       "output_type": "display_data",
       "text": [
        "DataFrame with 1 row and 24 columns\n",
        "   baseMean   baseVar   allZero dispGeneEst dispGeneEstConv   dispFit\n",
        "  <numeric> <numeric> <logical>   <numeric>       <logical> <numeric>\n",
        "1  8.133107  103.9875     FALSE   0.3938579            TRUE 0.7381218\n",
        "  dispersion  dispIter  dispConv dispOutlier   dispMAP Intercept\n",
        "   <numeric> <integer> <logical>   <logical> <numeric> <numeric>\n",
        "1  0.5606683        10      TRUE       FALSE 0.5606683 0.5355962\n",
        "  EnvironmentType_planktonic_vs_biofilm SE_Intercept\n",
        "                              <numeric>    <numeric>\n",
        "1                              3.195923     0.552727\n",
        "  SE_EnvironmentType_planktonic_vs_biofilm WaldStatistic_Intercept\n",
        "                                 <numeric>               <numeric>\n",
        "1                                0.6365821               0.9690068\n",
        "  WaldStatistic_EnvironmentType_planktonic_vs_biofilm WaldPvalue_Intercept\n",
        "                                            <numeric>            <numeric>\n",
        "1                                            5.020441            0.3325418\n",
        "  WaldPvalue_EnvironmentType_planktonic_vs_biofilm  betaConv  betaIter\n",
        "                                         <numeric> <logical> <numeric>\n",
        "1                                      5.15529e-07      TRUE        11\n",
        "   deviance  maxCooks         OTU\n",
        "  <numeric> <numeric> <character>\n",
        "1  65.50181    1.4529      OTU.36\n"
       ]
      }
     ],
     "prompt_number": 167
    },
    {
     "cell_type": "code",
     "collapsed": false,
     "input": [
      "%%R\n",
      "get_Ps = function(physeq.obj, sparsity.threshold) {\n",
      "    \n",
      "    ps = filter_taxa(physeq.obj, function(x) sum(x > 0) > length(x) * sparsity.threshold, TRUE)\n",
      "        \n",
      "    dds = phyloseq_to_deseq2(ps, ~EnvironmentType)\n",
      "    dds = DESeq(dds, quiet = TRUE)\n",
      "    r = results(dds, independentFiltering = FALSE,  cooksCutoff = FALSE)\n",
      "    r$sp.thresh = as.character(sparsity.threshold)\n",
      "        \n",
      "    supp = tax_table(ps)\n",
      "    if( !setequal(row.names(r), row.names(supp)) ){\n",
      "        stop(\"Ordination and supplementary data indices differ on the following:\\n.\",\n",
      "        setdiff(row.names(r), row.names(supp)))\n",
      "    }\n",
      "\n",
      "    DF <- data.frame(data.frame(r), supp)\n",
      "    DF$OTU = rownames(DF)\n",
      "    DF\n",
      "}"
     ],
     "language": "python",
     "metadata": {},
     "outputs": [],
     "prompt_number": 168
    },
    {
     "cell_type": "code",
     "collapsed": false,
     "input": [
      "%%R\n",
      "df.l2fc.bact = ldply(seq(0.05, 0.75, 0.05), get_Ps, physeq.obj = physeq.bact)                     "
     ],
     "language": "python",
     "metadata": {},
     "outputs": [],
     "prompt_number": 169
    },
    {
     "cell_type": "code",
     "collapsed": false,
     "input": [
      "%%R -w 450 -h 300\n",
      "FDR = 0.10\n",
      "df = df.l2fc.bact %.% group_by(sp.thresh) %.% summarize(S = sum(padj <= FDR, na.rm = TRUE))\n",
      "p = ggplot(df, aes(x = sp.thresh, y = S)) + geom_point(size = 4)\n",
      "p"
     ],
     "language": "python",
     "metadata": {},
     "outputs": [
      {
       "metadata": {},
       "output_type": "display_data",
       "png": "[encoded data removed]"
      }
     ],
     "prompt_number": 170
    },
    {
     "cell_type": "code",
     "collapsed": false,
     "input": [
      "%%R\n",
      "df.l2fc.bact %.% \n",
      "    filter(sp.thresh == \"0.1\") %.%\n",
      "    arrange(desc(abs(log2FoldChange))) %.%\n",
      "    select(OTU, Rank2, Rank3, Rank4, log2FoldChange) %.%\n",
      "    filter(row_number() <= 10)"
     ],
     "language": "python",
     "metadata": {},
     "outputs": [
      {
       "metadata": {},
       "output_type": "display_data",
       "text": [
        "      OTU          Rank2               Rank3             Rank4 log2FoldChange\n",
        "1  OTU.19 Proteobacteria Gammaproteobacteria Oceanospirillales       3.053349\n",
        "2  OTU.11 Proteobacteria  Betaproteobacteria              <NA>       2.993512\n",
        "3  OTU.20 Proteobacteria Alphaproteobacteria   Rhodobacterales       2.942389\n",
        "4  OTU.31  Bacteroidetes      Flavobacteriia  Flavobacteriales       2.888836\n",
        "5   OTU.3 Proteobacteria Gammaproteobacteria Oceanospirillales       2.699399\n",
        "6  OTU.26 Actinobacteria      Acidimicrobiia  Acidimicrobiales       2.671702\n",
        "7  OTU.36 Actinobacteria      Actinobacteria   Actinomycetales       2.639603\n",
        "8  OTU.32  Bacteroidetes      Flavobacteriia  Flavobacteriales       2.625093\n",
        "9  OTU.21 Proteobacteria Alphaproteobacteria   Rhodobacterales      -2.620364\n",
        "10 OTU.15 Proteobacteria Gammaproteobacteria Oceanospirillales       2.589786\n"
       ]
      }
     ],
     "prompt_number": 183
    },
    {
     "cell_type": "code",
     "collapsed": false,
     "input": [
      "%%R\n",
      "write.table(subset(df.l2fc.bact, sp.thresh == \"0.1\"), \n",
      "            \"../data/BvP.l2fc.bact.csv\",\n",
      "            row.names = FALSE,\n",
      "            sep = \",\")"
     ],
     "language": "python",
     "metadata": {},
     "outputs": [],
     "prompt_number": 174
    },
    {
     "cell_type": "code",
     "collapsed": false,
     "input": [
      "%%R\n",
      "df.l2fc.euk = ldply(seq(0.05, 0.75, 0.05), get_Ps, physeq.obj = physeq.euk)"
     ],
     "language": "python",
     "metadata": {},
     "outputs": [],
     "prompt_number": 172
    },
    {
     "cell_type": "code",
     "collapsed": false,
     "input": [
      "%%R -w 450 -h 300\n",
      "df = df.l2fc.euk %.% group_by(sp.thresh) %.% summarize(S = sum(padj <= FDR, na.rm = TRUE))\n",
      "p = ggplot(df, aes(x = sp.thresh, y = S)) + geom_point(size = 4)\n",
      "p"
     ],
     "language": "python",
     "metadata": {},
     "outputs": [
      {
       "metadata": {},
       "output_type": "display_data",
       "png": "[encoded data removed]"
      }
     ],
     "prompt_number": 173
    },
    {
     "cell_type": "code",
     "collapsed": false,
     "input": [
      "%%R\n",
      "write.table(subset(df.l2fc.euk, sp.thresh == \"0.1\"), \n",
      "            \"../data/BvP.l2fc.euk.csv\",\n",
      "            row.names = FALSE,\n",
      "            sep = \",\")"
     ],
     "language": "python",
     "metadata": {},
     "outputs": [],
     "prompt_number": 175
    },
    {
     "cell_type": "code",
     "collapsed": false,
     "input": [
      "%%R\n",
      "df.l2fc.euk %.% \n",
      "    filter(sp.thresh == \"0.1\") %.%\n",
      "    arrange(desc(abs(log2FoldChange))) %.%\n",
      "    select(OTU, Rank2, Rank3, Rank4, log2FoldChange) %.%\n",
      "    filter(row_number() <= 10)"
     ],
     "language": "python",
     "metadata": {},
     "outputs": [
      {
       "metadata": {},
       "output_type": "display_data",
       "text": [
        "       OTU         Rank2           Rank3               Rank4 log2FoldChange\n",
        "1   OTU.19 Viridiplantae     Chlorophyta     Mamiellophyceae       4.843943\n",
        "2   OTU.16 Viridiplantae     Chlorophyta     Mamiellophyceae       4.726014\n",
        "3   OTU.12  Haptophyceae   Phaeocystales                <NA>       4.602615\n",
        "4   OTU.15  Haptophyceae   Phaeocystales                <NA>       4.388291\n",
        "5   OTU.18 Viridiplantae     Chlorophyta                <NA>       4.340239\n",
        "6   OTU.10 Stramenopiles Bacillariophyta Coscinodiscophyceae      -4.085344\n",
        "7   OTU.42 Viridiplantae     Chlorophyta     Mamiellophyceae       3.974100\n",
        "8  OTU.144  Haptophyceae   Phaeocystales      Phaeocystaceae       3.862220\n",
        "9   OTU.39   Cryptophyta Pyrenomonadales    Pyrenomonadaceae       3.821520\n",
        "10  OTU.34   Cryptophyta Pyrenomonadales      Geminigeraceae       3.482002\n"
       ]
      }
     ],
     "prompt_number": 181
    }
   ],
   "metadata": {}
  }
 ]
}