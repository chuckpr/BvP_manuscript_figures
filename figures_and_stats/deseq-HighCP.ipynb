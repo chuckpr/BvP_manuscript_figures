{
 "metadata": {
  "name": "",
  "signature": "sha256:92f0b6c85c87f9e5f5c701ab9ab7b314301416106d083c18437e89681a502c02"
 },
 "nbformat": 3,
 "nbformat_minor": 0,
 "worksheets": [
  {
   "cells": [
    {
     "cell_type": "code",
     "collapsed": false,
     "input": [
      "from IPython.display import FileLink"
     ],
     "language": "python",
     "metadata": {},
     "outputs": [],
     "prompt_number": 2
    },
    {
     "cell_type": "code",
     "collapsed": false,
     "input": [
      "%load_ext rpy2.ipython"
     ],
     "language": "python",
     "metadata": {},
     "outputs": [
      {
       "output_type": "stream",
       "stream": "stderr",
       "text": [
        "/opt/anaconda/lib/python2.7/site-packages/pytz/__init__.py:29: UserWarning: Module argparse was already imported from /opt/anaconda/lib/python2.7/argparse.pyc, but /opt/anaconda/lib/python2.7/site-packages is being added to sys.path\n",
        "  from pkg_resources import resource_stream\n"
       ]
      }
     ],
     "prompt_number": 3
    },
    {
     "cell_type": "code",
     "collapsed": false,
     "input": [
      "%%R\n",
      "library(DESeq2)\n",
      "library(phyloseq)\n",
      "library(ggplot2)\n",
      "library(RColorBrewer)\n",
      "library(gridExtra)\n",
      "library(plyr)\n",
      "library(dplyr)"
     ],
     "language": "python",
     "metadata": {},
     "outputs": [
      {
       "metadata": {},
       "output_type": "display_data",
       "text": [
        "Loading required package: S4Vectors\n",
        "Loading required package: stats4\n",
        "Loading required package: BiocGenerics\n",
        "Loading required package: parallel\n",
        "\n",
        "Attaching package: \u2018BiocGenerics\u2019\n",
        "\n",
        "The following objects are masked from \u2018package:parallel\u2019:\n",
        "\n",
        "    clusterApply, clusterApplyLB, clusterCall, clusterEvalQ,\n",
        "    clusterExport, clusterMap, parApply, parCapply, parLapply,\n",
        "    parLapplyLB, parRapply, parSapply, parSapplyLB\n",
        "\n",
        "The following object is masked from \u2018package:stats\u2019:\n",
        "\n",
        "    xtabs\n",
        "\n",
        "The following objects are masked from \u2018package:base\u2019:\n",
        "\n",
        "    anyDuplicated, append, as.data.frame, as.vector, cbind, colnames,\n",
        "    do.call, duplicated, eval, evalq, Filter, Find, get, intersect,\n",
        "    is.unsorted, lapply, Map, mapply, match, mget, order, paste, pmax,\n",
        "    pmax.int, pmin, pmin.int, Position, rank, rbind, Reduce, rep.int,\n",
        "    rownames, sapply, setdiff, sort, table, tapply, union, unique,\n",
        "    unlist, unsplit\n",
        "\n",
        "Loading required package: IRanges\n",
        "Loading required package: GenomicRanges\n",
        "Loading required package: GenomeInfoDb\n",
        "Loading required package: Rcpp\n",
        "Loading required package: RcppArmadillo\n",
        "\n",
        "Attaching package: \u2018phyloseq\u2019\n",
        "\n",
        "The following object is masked from \u2018package:GenomicRanges\u2019:\n",
        "\n",
        "    distance\n",
        "\n",
        "The following object is masked from \u2018package:IRanges\u2019:\n",
        "\n",
        "    distance\n",
        "\n",
        "Loading required package: grid\n",
        "\n",
        "Attaching package: \u2018plyr\u2019\n",
        "\n",
        "The following object is masked from \u2018package:IRanges\u2019:\n",
        "\n",
        "    desc\n",
        "\n",
        "The following object is masked from \u2018package:S4Vectors\u2019:\n",
        "\n",
        "    rename\n",
        "\n",
        "\n",
        "Attaching package: \u2018dplyr\u2019\n",
        "\n",
        "The following objects are masked from \u2018package:plyr\u2019:\n",
        "\n",
        "    arrange, count, desc, failwith, id, mutate, rename, summarise,\n",
        "    summarize\n",
        "\n",
        "The following objects are masked from \u2018package:GenomicRanges\u2019:\n",
        "\n",
        "    intersect, setdiff, union\n",
        "\n",
        "The following object is masked from \u2018package:GenomeInfoDb\u2019:\n",
        "\n",
        "    intersect\n",
        "\n",
        "The following objects are masked from \u2018package:IRanges\u2019:\n",
        "\n",
        "    collapse, desc, intersect, setdiff, slice, union\n",
        "\n",
        "The following object is masked from \u2018package:S4Vectors\u2019:\n",
        "\n",
        "    rename\n",
        "\n",
        "The following objects are masked from \u2018package:BiocGenerics\u2019:\n",
        "\n",
        "    intersect, setdiff, union\n",
        "\n",
        "The following object is masked from \u2018package:stats\u2019:\n",
        "\n",
        "    filter\n",
        "\n",
        "The following objects are masked from \u2018package:base\u2019:\n",
        "\n",
        "    intersect, setdiff, setequal, union\n",
        "\n"
       ]
      }
     ],
     "prompt_number": 4
    },
    {
     "cell_type": "code",
     "collapsed": false,
     "input": [
      "%%R\n",
      "physeq.bact = import_biom(\"../data/B/otu_table.wtax_wsd.biom\")\n",
      "physeq.bact = subset_taxa(physeq.bact, Rank2 != \"Cyanobacteria\")"
     ],
     "language": "python",
     "metadata": {},
     "outputs": [],
     "prompt_number": 5
    },
    {
     "cell_type": "code",
     "collapsed": false,
     "input": [
      "%%R\n",
      "TT = tax_table(physeq.bact)\n",
      "TT = data.frame(TT)\n",
      "TT$OTU = rownames(TT)\n",
      "dds = phyloseq_to_deseq2(physeq.bact, ~HighLow)\n",
      "dds = DESeq(dds, quiet = TRUE)\n",
      "r = results(dds, cooksCutoff = FALSE)\n",
      "r$OTU = rownames(r)\n",
      "r = data.frame(r)\n",
      "r = left_join(r, TT)"
     ],
     "language": "python",
     "metadata": {},
     "outputs": [
      {
       "metadata": {},
       "output_type": "display_data",
       "text": [
        "converting counts to integer mode\n",
        "Joining by: \"OTU\"\n"
       ]
      }
     ],
     "prompt_number": 6
    },
    {
     "cell_type": "code",
     "collapsed": false,
     "input": [
      "%%R\n",
      "FDR = 0.10\n",
      "r %>% \n",
      "    filter(padj <= FDR, log2FoldChange < 0) %>%\n",
      "    group_by(Rank4) %>%\n",
      "    summarize(N = n())"
     ],
     "language": "python",
     "metadata": {},
     "outputs": [
      {
       "metadata": {},
       "output_type": "display_data",
       "text": [
        "Source: local data frame [4 x 2]\n",
        "\n",
        "              Rank4 N\n",
        "1   Alteromonadales 4\n",
        "2 Campylobacterales 3\n",
        "3   Pseudomonadales 1\n",
        "4       Vibrionales 1\n"
       ]
      }
     ],
     "prompt_number": 7
    },
    {
     "cell_type": "code",
     "collapsed": false,
     "input": [
      "%%R\n",
      "r %>%\n",
      "    arrange(desc(log2FoldChange)) %>%\n",
      "    filter(rank(desc(log2FoldChange))==1) %>%\n",
      "    select(OTU, log2FoldChange, Rank3, Rank4) "
     ],
     "language": "python",
     "metadata": {},
     "outputs": [
      {
       "metadata": {},
       "output_type": "display_data",
       "text": [
        "     OTU log2FoldChange               Rank3    Rank4\n",
        "1 OTU.27       11.02128 Gammaproteobacteria HTCC2188\n"
       ]
      }
     ],
     "prompt_number": 17
    },
    {
     "cell_type": "code",
     "collapsed": false,
     "input": [
      "%%R\n",
      "sessionInfo()"
     ],
     "language": "python",
     "metadata": {},
     "outputs": [
      {
       "metadata": {},
       "output_type": "display_data",
       "text": [
        "R version 3.1.2 (2014-10-31)\n",
        "Platform: x86_64-pc-linux-gnu (64-bit)\n",
        "\n",
        "locale:\n",
        " [1] LC_CTYPE=en_US.UTF-8       LC_NUMERIC=C              \n",
        " [3] LC_TIME=en_US.UTF-8        LC_COLLATE=en_US.UTF-8    \n",
        " [5] LC_MONETARY=en_US.UTF-8    LC_MESSAGES=en_US.UTF-8   \n",
        " [7] LC_PAPER=en_US.UTF-8       LC_NAME=C                 \n",
        " [9] LC_ADDRESS=C               LC_TELEPHONE=C            \n",
        "[11] LC_MEASUREMENT=en_US.UTF-8 LC_IDENTIFICATION=C       \n",
        "\n",
        "attached base packages:\n",
        " [1] grid      parallel  stats4    tools     stats     graphics  grDevices\n",
        " [8] utils     datasets  methods   base     \n",
        "\n",
        "other attached packages:\n",
        " [1] dplyr_0.3.0.2           plyr_1.8.1              gridExtra_0.9.1        \n",
        " [4] RColorBrewer_1.0-5      ggplot2_1.0.0           phyloseq_1.10.0        \n",
        " [7] DESeq2_1.6.1            RcppArmadillo_0.4.500.0 Rcpp_0.11.3            \n",
        "[10] GenomicRanges_1.18.1    GenomeInfoDb_1.2.2      IRanges_2.0.0          \n",
        "[13] S4Vectors_0.4.0         BiocGenerics_0.12.0    \n",
        "\n",
        "loaded via a namespace (and not attached):\n",
        " [1] acepack_1.3-3.3      ade4_1.6-2           annotate_1.44.0     \n",
        " [4] AnnotationDbi_1.28.1 ape_3.1-4            assertthat_0.1      \n",
        " [7] base64enc_0.1-2      BatchJobs_1.5        BBmisc_1.8          \n",
        "[10] Biobase_2.26.0       BiocParallel_1.0.0   biom_0.3.12         \n",
        "[13] Biostrings_2.34.0    brew_1.0-6           checkmate_1.5.0     \n",
        "[16] chron_2.3-45         cluster_1.15.3       codetools_0.2-9     \n",
        "[19] colorspace_1.2-4     data.table_1.9.4     DBI_0.3.1           \n",
        "[22] digest_0.6.4         fail_1.2             foreach_1.4.2       \n",
        "[25] foreign_0.8-61       Formula_1.1-2        genefilter_1.48.1   \n",
        "[28] geneplotter_1.44.0   gtable_0.1.2         Hmisc_3.14-5        \n",
        "[31] igraph_0.7.1         iterators_1.0.7      lattice_0.20-29     \n",
        "[34] latticeExtra_0.6-26  lazyeval_0.1.9       locfit_1.5-9.1      \n",
        "[37] magrittr_1.0.1       MASS_7.3-35          Matrix_1.1-4        \n",
        "[40] multtest_2.22.0      munsell_0.4.2        nlme_3.1-118        \n",
        "[43] nnet_7.3-8           permute_0.8-3        proto_0.3-10        \n",
        "[46] reshape2_1.4         RJSONIO_1.3-0        rpart_4.1-8         \n",
        "[49] RSQLite_1.0.0        scales_0.2.4         sendmailR_1.2-1     \n",
        "[52] splines_3.1.2        stringr_0.6.2        survival_2.37-7     \n",
        "[55] vegan_2.0-10         XML_3.98-1.1         xtable_1.7-4        \n",
        "[58] XVector_0.6.0        zlibbioc_1.12.0     \n"
       ]
      }
     ],
     "prompt_number": 9
    }
   ],
   "metadata": {}
  }
 ]
}