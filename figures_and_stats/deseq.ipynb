{
 "metadata": {
  "name": "",
  "signature": "sha256:a7a10d13ac92188caebe3f4a0e5c9dfae3f3218294bde794d0684139b308eabe"
 },
 "nbformat": 3,
 "nbformat_minor": 0,
 "worksheets": [
  {
   "cells": [
    {
     "cell_type": "code",
     "collapsed": false,
     "input": [
      "from IPython.display import FileLink"
     ],
     "language": "python",
     "metadata": {},
     "outputs": [],
     "prompt_number": 1
    },
    {
     "cell_type": "code",
     "collapsed": false,
     "input": [
      "%load_ext rpy2.ipython"
     ],
     "language": "python",
     "metadata": {},
     "outputs": [
      {
       "output_type": "stream",
       "stream": "stderr",
       "text": [
        "/opt/anaconda/lib/python2.7/site-packages/pytz/__init__.py:29: UserWarning: Module argparse was already imported from /opt/anaconda/lib/python2.7/argparse.pyc, but /opt/anaconda/lib/python2.7/site-packages is being added to sys.path\n",
        "  from pkg_resources import resource_stream\n"
       ]
      }
     ],
     "prompt_number": 2
    },
    {
     "cell_type": "code",
     "collapsed": false,
     "input": [
      "%%R\n",
      "library(DESeq2)\n",
      "library(phyloseq)\n",
      "library(ggplot2)\n",
      "library(RColorBrewer)\n",
      "library(gridExtra)\n",
      "library(plyr)\n",
      "library(dplyr)"
     ],
     "language": "python",
     "metadata": {},
     "outputs": [
      {
       "metadata": {},
       "output_type": "display_data",
       "text": [
        "Loading required package: S4Vectors\n",
        "Loading required package: stats4\n",
        "Loading required package: BiocGenerics\n",
        "Loading required package: parallel\n",
        "\n",
        "Attaching package: \u2018BiocGenerics\u2019\n",
        "\n",
        "The following objects are masked from \u2018package:parallel\u2019:\n",
        "\n",
        "    clusterApply, clusterApplyLB, clusterCall, clusterEvalQ,\n",
        "    clusterExport, clusterMap, parApply, parCapply, parLapply,\n",
        "    parLapplyLB, parRapply, parSapply, parSapplyLB\n",
        "\n",
        "The following object is masked from \u2018package:stats\u2019:\n",
        "\n",
        "    xtabs\n",
        "\n",
        "The following objects are masked from \u2018package:base\u2019:\n",
        "\n",
        "    anyDuplicated, append, as.data.frame, as.vector, cbind, colnames,\n",
        "    do.call, duplicated, eval, evalq, Filter, Find, get, intersect,\n",
        "    is.unsorted, lapply, Map, mapply, match, mget, order, paste, pmax,\n",
        "    pmax.int, pmin, pmin.int, Position, rank, rbind, Reduce, rep.int,\n",
        "    rownames, sapply, setdiff, sort, table, tapply, union, unique,\n",
        "    unlist, unsplit\n",
        "\n",
        "Loading required package: IRanges\n",
        "Loading required package: GenomicRanges\n",
        "Loading required package: GenomeInfoDb\n",
        "Loading required package: Rcpp\n",
        "Loading required package: RcppArmadillo\n",
        "\n",
        "Attaching package: \u2018phyloseq\u2019\n",
        "\n",
        "The following object is masked from \u2018package:GenomicRanges\u2019:\n",
        "\n",
        "    distance\n",
        "\n",
        "The following object is masked from \u2018package:IRanges\u2019:\n",
        "\n",
        "    distance\n",
        "\n",
        "Loading required package: grid\n",
        "\n",
        "Attaching package: \u2018plyr\u2019\n",
        "\n",
        "The following object is masked from \u2018package:IRanges\u2019:\n",
        "\n",
        "    desc\n",
        "\n",
        "The following object is masked from \u2018package:S4Vectors\u2019:\n",
        "\n",
        "    rename\n",
        "\n",
        "\n",
        "Attaching package: \u2018dplyr\u2019\n",
        "\n",
        "The following objects are masked from \u2018package:plyr\u2019:\n",
        "\n",
        "    arrange, count, desc, failwith, id, mutate, rename, summarise,\n",
        "    summarize\n",
        "\n",
        "The following objects are masked from \u2018package:GenomicRanges\u2019:\n",
        "\n",
        "    intersect, setdiff, union\n",
        "\n",
        "The following object is masked from \u2018package:GenomeInfoDb\u2019:\n",
        "\n",
        "    intersect\n",
        "\n",
        "The following objects are masked from \u2018package:IRanges\u2019:\n",
        "\n",
        "    collapse, desc, intersect, setdiff, slice, union\n",
        "\n",
        "The following object is masked from \u2018package:S4Vectors\u2019:\n",
        "\n",
        "    rename\n",
        "\n",
        "The following objects are masked from \u2018package:BiocGenerics\u2019:\n",
        "\n",
        "    intersect, setdiff, union\n",
        "\n",
        "The following object is masked from \u2018package:stats\u2019:\n",
        "\n",
        "    filter\n",
        "\n",
        "The following objects are masked from \u2018package:base\u2019:\n",
        "\n",
        "    intersect, setdiff, setequal, union\n",
        "\n"
       ]
      }
     ],
     "prompt_number": 3
    },
    {
     "cell_type": "code",
     "collapsed": false,
     "input": [
      "%%R\n",
      "physeq.bact = import_biom(\"../data/B/otu_table.wtax_wsd.biom\")\n",
      "physeq.bact = subset_taxa(physeq.bact, Rank2 != \"Cyanobacteria\")\n",
      "\n",
      "physeq.euk = import_biom(\"../data/A/otu_table.wtax_wsd.biom\")\n",
      "physeq.euk = subset_taxa(physeq.euk, Rank1==\"Eukaryota\" | Rank2==\"Cyanobacteria\")\n",
      "\n",
      "print(physeq.thresh.bact)\n",
      "print(physeq.thresh.euk)"
     ],
     "language": "python",
     "metadata": {},
     "outputs": [
      {
       "output_type": "stream",
       "stream": "stdout",
       "text": [
        "Error in print(physeq.thresh.bact) : \n",
        "  object 'physeq.thresh.bact' not found\n"
       ]
      }
     ],
     "prompt_number": 4
    },
    {
     "cell_type": "code",
     "collapsed": false,
     "input": [
      "%%R\n",
      "get_Ps = function(physeq.obj, sparsity.threshold) {\n",
      "    \n",
      "    ps = filter_taxa(physeq.obj, function(x) sum(x > 0) > length(x) * sparsity.threshold, TRUE)\n",
      "        \n",
      "    dds = phyloseq_to_deseq2(ps, ~EnvironmentType)\n",
      "    dds = DESeq(dds, quiet = TRUE, fitType = \"local\")\n",
      "    r = results(dds, independentFiltering = FALSE,  cooksCutoff = FALSE)\n",
      "    r$sp.thresh = as.character(sparsity.threshold)\n",
      "        \n",
      "    supp = tax_table(ps)\n",
      "    if( !setequal(row.names(r), row.names(supp)) ){\n",
      "        stop(\"Ordination and supplementary data indices differ on the following:\\n.\",\n",
      "        setdiff(row.names(r), row.names(supp)))\n",
      "    }\n",
      "\n",
      "    DF <- data.frame(data.frame(r), supp)\n",
      "    DF$OTU = rownames(DF)\n",
      "    DF\n",
      "}"
     ],
     "language": "python",
     "metadata": {},
     "outputs": [],
     "prompt_number": 5
    },
    {
     "cell_type": "code",
     "collapsed": false,
     "input": [
      "%%R\n",
      "df.l2fc.bact = ldply(seq(0.05, 0.75, 0.05), get_Ps, physeq.obj = physeq.bact)                     "
     ],
     "language": "python",
     "metadata": {},
     "outputs": [
      {
       "metadata": {},
       "output_type": "display_data",
       "text": [
        "converting counts to integer mode\n",
        "converting counts to integer mode\n",
        "converting counts to integer mode\n",
        "converting counts to integer mode\n",
        "converting counts to integer mode\n",
        "converting counts to integer mode\n",
        "converting counts to integer mode\n",
        "converting counts to integer mode\n",
        "converting counts to integer mode\n",
        "converting counts to integer mode\n",
        "converting counts to integer mode\n",
        "converting counts to integer mode\n",
        "converting counts to integer mode\n",
        "converting counts to integer mode\n",
        "converting counts to integer mode\n"
       ]
      }
     ],
     "prompt_number": 6
    },
    {
     "cell_type": "code",
     "collapsed": false,
     "input": [
      "%%R -w 450 -h 300\n",
      "FDR = 0.10\n",
      "df = df.l2fc.bact %.% group_by(sp.thresh) %.% dplyr::summarize(S = sum(padj <= FDR, na.rm = TRUE))\n",
      "p = ggplot(df, aes(x = sp.thresh, y = S)) + geom_point(size = 4)\n",
      "p"
     ],
     "language": "python",
     "metadata": {},
     "outputs": [
      {
       "metadata": {},
       "output_type": "display_data",
       "png": "[encoded data removed]"
      }
     ],
     "prompt_number": 7
    },
    {
     "cell_type": "code",
     "collapsed": false,
     "input": [
      "%%R\n",
      "df.l2fc.bact %.% \n",
      "    filter(sp.thresh == \"0.25\") %.%\n",
      "    arrange(desc(abs(log2FoldChange))) %.%\n",
      "    select(OTU, Rank2, Rank3, Rank4, log2FoldChange) %.%\n",
      "    filter(row_number() <= 10)"
     ],
     "language": "python",
     "metadata": {},
     "outputs": [
      {
       "metadata": {},
       "output_type": "display_data",
       "text": [
        "       OTU          Rank2               Rank3             Rank4 log2FoldChange\n",
        "1   OTU.31  Bacteroidetes      Flavobacteriia  Flavobacteriales       9.630824\n",
        "2   OTU.11 Proteobacteria  Betaproteobacteria              <NA>       9.586249\n",
        "3   OTU.36 Actinobacteria      Actinobacteria   Actinomycetales       9.548607\n",
        "4   OTU.69 Proteobacteria Alphaproteobacteria              <NA>       9.335597\n",
        "5   OTU.19 Proteobacteria Gammaproteobacteria Oceanospirillales       9.311911\n",
        "6  OTU.207 Proteobacteria  Betaproteobacteria              <NA>       9.304277\n",
        "7   OTU.20 Proteobacteria Alphaproteobacteria   Rhodobacterales       9.071800\n",
        "8  OTU.123 Proteobacteria Alphaproteobacteria     Rickettsiales       8.955041\n",
        "9   OTU.44 Proteobacteria Gammaproteobacteria   Alteromonadales       8.922804\n",
        "10  OTU.32  Bacteroidetes      Flavobacteriia  Flavobacteriales       8.902827\n"
       ]
      }
     ],
     "prompt_number": 8
    },
    {
     "cell_type": "code",
     "collapsed": false,
     "input": [
      "%%R\n",
      "write.table(subset(df.l2fc.bact, sp.thresh == \"0.25\"), \n",
      "            \"../data/BvP.l2fc.bact.csv\",\n",
      "            row.names = FALSE,\n",
      "            sep = \",\")"
     ],
     "language": "python",
     "metadata": {},
     "outputs": [],
     "prompt_number": 9
    },
    {
     "cell_type": "code",
     "collapsed": false,
     "input": [
      "%%R\n",
      "df.l2fc.euk = ldply(seq(0.05, 0.75, 0.05), get_Ps, physeq.obj = physeq.euk)"
     ],
     "language": "python",
     "metadata": {},
     "outputs": [
      {
       "metadata": {},
       "output_type": "display_data",
       "text": [
        "converting counts to integer mode\n",
        "converting counts to integer mode\n",
        "converting counts to integer mode\n",
        "converting counts to integer mode\n",
        "converting counts to integer mode\n",
        "converting counts to integer mode\n",
        "converting counts to integer mode\n",
        "converting counts to integer mode\n",
        "converting counts to integer mode\n",
        "converting counts to integer mode\n",
        "converting counts to integer mode\n",
        "converting counts to integer mode\n",
        "converting counts to integer mode\n",
        "converting counts to integer mode\n",
        "converting counts to integer mode\n"
       ]
      }
     ],
     "prompt_number": 10
    },
    {
     "cell_type": "code",
     "collapsed": false,
     "input": [
      "%%R -w 450 -h 300\n",
      "df = df.l2fc.euk %.% group_by(sp.thresh) %.% summarize(S = sum(padj <= FDR, na.rm = TRUE))\n",
      "p = ggplot(df, aes(x = sp.thresh, y = S)) + geom_point(size = 4)\n",
      "p"
     ],
     "language": "python",
     "metadata": {},
     "outputs": [
      {
       "metadata": {},
       "output_type": "display_data",
       "png": "[encoded data removed]"
      }
     ],
     "prompt_number": 11
    },
    {
     "cell_type": "code",
     "collapsed": false,
     "input": [
      "%%R\n",
      "write.table(subset(df.l2fc.euk, sp.thresh == \"0.2\"), \n",
      "            \"../data/BvP.l2fc.euk.csv\",\n",
      "            row.names = FALSE,\n",
      "            sep = \",\")"
     ],
     "language": "python",
     "metadata": {},
     "outputs": [],
     "prompt_number": 12
    },
    {
     "cell_type": "code",
     "collapsed": false,
     "input": [
      "%%R\n",
      "df.l2fc.euk %.% \n",
      "    filter(sp.thresh == \"0.2\") %.%\n",
      "    arrange(desc(abs(log2FoldChange))) %.%\n",
      "    select(OTU, Rank2, Rank3, Rank4, log2FoldChange) %.%\n",
      "    filter(row_number() <= 10)"
     ],
     "language": "python",
     "metadata": {},
     "outputs": [
      {
       "metadata": {},
       "output_type": "display_data",
       "text": [
        "       OTU         Rank2           Rank3               Rank4 log2FoldChange\n",
        "1   OTU.39   Cryptophyta Pyrenomonadales    Pyrenomonadaceae       7.827962\n",
        "2   OTU.42 Viridiplantae     Chlorophyta     Mamiellophyceae       7.817524\n",
        "3   OTU.45 Stramenopiles Bacillariophyta   Bacillariophyceae      -7.775310\n",
        "4   OTU.83 Stramenopiles Bacillariophyta Coscinodiscophyceae      -7.556676\n",
        "5  OTU.183 Stramenopiles Bacillariophyta   Bacillariophyceae      -7.535492\n",
        "6   OTU.70 Stramenopiles Bacillariophyta        Mediophyceae      -7.278180\n",
        "7   OTU.54 Stramenopiles Bacillariophyta   Bacillariophyceae      -7.238075\n",
        "8   OTU.59 Stramenopiles Bacillariophyta   Bacillariophyceae       7.217326\n",
        "9    OTU.2 Cyanobacteria   Chroococcales           Cyanobium       7.081879\n",
        "10  OTU.19 Viridiplantae     Chlorophyta     Mamiellophyceae       6.872926\n"
       ]
      }
     ],
     "prompt_number": 13
    },
    {
     "cell_type": "code",
     "collapsed": false,
     "input": [
      "%%R\n",
      "sessionInfo()"
     ],
     "language": "python",
     "metadata": {},
     "outputs": [
      {
       "metadata": {},
       "output_type": "display_data",
       "text": [
        "R version 3.1.2 (2014-10-31)\n",
        "Platform: x86_64-pc-linux-gnu (64-bit)\n",
        "\n",
        "locale:\n",
        " [1] LC_CTYPE=en_US.UTF-8       LC_NUMERIC=C              \n",
        " [3] LC_TIME=en_US.UTF-8        LC_COLLATE=en_US.UTF-8    \n",
        " [5] LC_MONETARY=en_US.UTF-8    LC_MESSAGES=en_US.UTF-8   \n",
        " [7] LC_PAPER=en_US.UTF-8       LC_NAME=C                 \n",
        " [9] LC_ADDRESS=C               LC_TELEPHONE=C            \n",
        "[11] LC_MEASUREMENT=en_US.UTF-8 LC_IDENTIFICATION=C       \n",
        "\n",
        "attached base packages:\n",
        " [1] grid      parallel  stats4    tools     stats     graphics  grDevices\n",
        " [8] utils     datasets  methods   base     \n",
        "\n",
        "other attached packages:\n",
        " [1] dplyr_0.3.0.2           plyr_1.8.1              gridExtra_0.9.1        \n",
        " [4] RColorBrewer_1.0-5      ggplot2_1.0.0           phyloseq_1.10.0        \n",
        " [7] DESeq2_1.6.1            RcppArmadillo_0.4.500.0 Rcpp_0.11.3            \n",
        "[10] GenomicRanges_1.18.1    GenomeInfoDb_1.2.2      IRanges_2.0.0          \n",
        "[13] S4Vectors_0.4.0         BiocGenerics_0.12.0    \n",
        "\n",
        "loaded via a namespace (and not attached):\n",
        " [1] acepack_1.3-3.3      ade4_1.6-2           annotate_1.44.0     \n",
        " [4] AnnotationDbi_1.28.1 ape_3.1-4            assertthat_0.1      \n",
        " [7] base64enc_0.1-2      BatchJobs_1.5        BBmisc_1.8          \n",
        "[10] Biobase_2.26.0       BiocParallel_1.0.0   biom_0.3.12         \n",
        "[13] Biostrings_2.34.0    brew_1.0-6           checkmate_1.5.0     \n",
        "[16] chron_2.3-45         cluster_1.15.3       codetools_0.2-9     \n",
        "[19] colorspace_1.2-4     data.table_1.9.4     DBI_0.3.1           \n",
        "[22] digest_0.6.4         fail_1.2             foreach_1.4.2       \n",
        "[25] foreign_0.8-61       Formula_1.1-2        genefilter_1.48.1   \n",
        "[28] geneplotter_1.44.0   gtable_0.1.2         Hmisc_3.14-5        \n",
        "[31] igraph_0.7.1         iterators_1.0.7      labeling_0.3        \n",
        "[34] lattice_0.20-29      latticeExtra_0.6-26  lazyeval_0.1.9      \n",
        "[37] locfit_1.5-9.1       magrittr_1.0.1       MASS_7.3-35         \n",
        "[40] Matrix_1.1-4         multtest_2.22.0      munsell_0.4.2       \n",
        "[43] nlme_3.1-118         nnet_7.3-8           permute_0.8-3       \n",
        "[46] proto_0.3-10         reshape2_1.4         RJSONIO_1.3-0       \n",
        "[49] rpart_4.1-8          RSQLite_1.0.0        scales_0.2.4        \n",
        "[52] sendmailR_1.2-1      splines_3.1.2        stringr_0.6.2       \n",
        "[55] survival_2.37-7      vegan_2.0-10         XML_3.98-1.1        \n",
        "[58] xtable_1.7-4         XVector_0.6.0        zlibbioc_1.12.0     \n"
       ]
      }
     ],
     "prompt_number": 14
    }
   ],
   "metadata": {}
  }
 ]
}