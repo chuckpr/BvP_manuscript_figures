{
 "cells": [
  {
   "cell_type": "code",
   "execution_count": 1,
   "metadata": {
    "collapsed": false
   },
   "outputs": [],
   "source": [
    "%load_ext rpy2.ipython"
   ]
  },
  {
   "cell_type": "code",
   "execution_count": 2,
   "metadata": {
    "collapsed": false
   },
   "outputs": [
    {
     "data": {
      "text/plain": [
       "Loading required package: permute\n",
       "Loading required package: lattice\n",
       "This is vegan 2.2-1\n"
      ]
     },
     "metadata": {},
     "output_type": "display_data"
    }
   ],
   "source": [
    "%%R\n",
    "library(phyloseq)\n",
    "library(vegan)"
   ]
  },
  {
   "cell_type": "code",
   "execution_count": 3,
   "metadata": {
    "collapsed": false
   },
   "outputs": [
    {
     "data": {
      "text/plain": [
       "phyloseq-class experiment-level object\n",
       "otu_table()   OTU Table:         [ 359 taxa and 14 samples ]\n",
       "sample_data() Sample Data:       [ 14 samples by 9 sample variables ]\n",
       "tax_table()   Taxonomy Table:    [ 359 taxa by 9 taxonomic ranks ]\n",
       "phyloseq-class experiment-level object\n",
       "otu_table()   OTU Table:         [ 91 taxa and 14 samples ]\n",
       "sample_data() Sample Data:       [ 14 samples by 9 sample variables ]\n",
       "tax_table()   Taxonomy Table:    [ 91 taxa by 9 taxonomic ranks ]\n"
      ]
     },
     "metadata": {},
     "output_type": "display_data"
    }
   ],
   "source": [
    "%%R\n",
    "physeq = import_biom(\"../data/A/otu_table.wtax_wsd.biom\")\n",
    "physeq.snorm = transform_sample_counts(physeq, function(x) x/sum(x))\n",
    "physeq.euks = subset_taxa(physeq.snorm, Rank1==\"Eukaryota\" | Rank2==\"Cyanobacteria\")\n",
    "physeq.thresh.euks = filter_taxa(physeq.euks, function(x) sum(x > 0) > length(x) * 0.25, TRUE)\n",
    "print(physeq)\n",
    "print(physeq.thresh.euks)"
   ]
  },
  {
   "cell_type": "code",
   "execution_count": 4,
   "metadata": {
    "collapsed": false
   },
   "outputs": [
    {
     "data": {
      "text/plain": [
       "phyloseq-class experiment-level object\n",
       "otu_table()   OTU Table:         [ 636 taxa and 14 samples ]\n",
       "sample_data() Sample Data:       [ 14 samples by 10 sample variables ]\n",
       "tax_table()   Taxonomy Table:    [ 636 taxa by 7 taxonomic ranks ]\n",
       "phyloseq-class experiment-level object\n",
       "otu_table()   OTU Table:         [ 222 taxa and 14 samples ]\n",
       "sample_data() Sample Data:       [ 14 samples by 10 sample variables ]\n",
       "tax_table()   Taxonomy Table:    [ 222 taxa by 7 taxonomic ranks ]\n"
      ]
     },
     "metadata": {},
     "output_type": "display_data"
    }
   ],
   "source": [
    "%%R\n",
    "physeq = import_biom(\"../data/B/otu_table.wtax_wsd.biom\")\n",
    "physeq.snorm = transform_sample_counts(physeq, function(x) x/sum(x))\n",
    "physeq.snorm = subset_taxa(physeq.snorm, Rank2 != \"Cyanobacteria\")\n",
    "physeq.thresh.bact = filter_taxa(physeq.snorm, function(x) sum(x > 0) > length(x) * 0.25, TRUE)\n",
    "print(physeq)\n",
    "print(physeq.thresh.bact)"
   ]
  },
  {
   "cell_type": "code",
   "execution_count": 5,
   "metadata": {
    "collapsed": false
   },
   "outputs": [],
   "source": [
    "%%R\n",
    "dist.bact = distance(physeq.thresh.bact, method = \"bray\")\n",
    "dist.euks = distance(physeq.thresh.euks, method = \"bray\")"
   ]
  },
  {
   "cell_type": "code",
   "execution_count": 6,
   "metadata": {
    "collapsed": false
   },
   "outputs": [
    {
     "data": {
      "text/plain": [
       "\n",
       "Call:\n",
       "adonis(formula = dist.bact ~ EnvironmentType, data = data.frame(sample_data(physeq.thresh.bact)),      method = \"bray\") \n",
       "\n",
       "Permutation: free\n",
       "Number of permutations: 999\n",
       "\n",
       "Terms added sequentially (first to last)\n",
       "\n",
       "                Df SumsOfSqs MeanSqs F.Model      R2 Pr(>F)   \n",
       "EnvironmentType  1    0.7946 0.79463  2.6233 0.17939  0.007 **\n",
       "Residuals       12    3.6349 0.30291         0.82061          \n",
       "Total           13    4.4296                 1.00000          \n",
       "---\n",
       "Signif. codes:  0 ‘***’ 0.001 ‘**’ 0.01 ‘*’ 0.05 ‘.’ 0.1 ‘ ’ 1\n"
      ]
     },
     "metadata": {},
     "output_type": "display_data"
    }
   ],
   "source": [
    "%%R\n",
    "adonis(dist.bact ~ EnvironmentType, data.frame(sample_data(physeq.thresh.bact)), method = \"bray\")"
   ]
  },
  {
   "cell_type": "code",
   "execution_count": 10,
   "metadata": {
    "collapsed": false
   },
   "outputs": [
    {
     "data": {
      "text/plain": [
       "\n",
       "Call:\n",
       "adonis(formula = dist.bact ~ HighLow, data = data.frame(sample_data(physeq.thresh.bact)),      method = \"bray\") \n",
       "\n",
       "Permutation: free\n",
       "Number of permutations: 999\n",
       "\n",
       "Terms added sequentially (first to last)\n",
       "\n",
       "          Df SumsOfSqs MeanSqs F.Model      R2 Pr(>F)  \n",
       "HighLow    1    0.7231 0.72311  2.3411 0.16325  0.018 *\n",
       "Residuals 12    3.7064 0.30887         0.83675         \n",
       "Total     13    4.4296                 1.00000         \n",
       "---\n",
       "Signif. codes:  0 ‘***’ 0.001 ‘**’ 0.01 ‘*’ 0.05 ‘.’ 0.1 ‘ ’ 1\n"
      ]
     },
     "metadata": {},
     "output_type": "display_data"
    }
   ],
   "source": [
    "%%R\n",
    "adonis(dist.bact ~ HighLow, data.frame(sample_data(physeq.thresh.bact)), method = \"bray\")"
   ]
  },
  {
   "cell_type": "code",
   "execution_count": 7,
   "metadata": {
    "collapsed": false
   },
   "outputs": [
    {
     "data": {
      "text/plain": [
       "\n",
       "Call:\n",
       "adonis(formula = dist.euks ~ EnvironmentType, data = data.frame(sample_data(physeq.thresh.euks)),      method = \"bray\") \n",
       "\n",
       "Permutation: free\n",
       "Number of permutations: 999\n",
       "\n",
       "Terms added sequentially (first to last)\n",
       "\n",
       "                Df SumsOfSqs MeanSqs F.Model      R2 Pr(>F)    \n",
       "EnvironmentType  1    1.4830 1.48301  9.6386 0.44544  0.001 ***\n",
       "Residuals       12    1.8463 0.15386         0.55456           \n",
       "Total           13    3.3293                 1.00000           \n",
       "---\n",
       "Signif. codes:  0 ‘***’ 0.001 ‘**’ 0.01 ‘*’ 0.05 ‘.’ 0.1 ‘ ’ 1\n"
      ]
     },
     "metadata": {},
     "output_type": "display_data"
    }
   ],
   "source": [
    "%%R\n",
    "adonis(dist.euks ~ EnvironmentType, data.frame(sample_data(physeq.thresh.euks)), method = \"bray\")"
   ]
  },
  {
   "cell_type": "code",
   "execution_count": 11,
   "metadata": {
    "collapsed": false
   },
   "outputs": [
    {
     "data": {
      "text/plain": [
       "\n",
       "Call:\n",
       "adonis(formula = dist.euks ~ HighLow, data = data.frame(sample_data(physeq.thresh.euks)),      method = \"bray\") \n",
       "\n",
       "Permutation: free\n",
       "Number of permutations: 999\n",
       "\n",
       "Terms added sequentially (first to last)\n",
       "\n",
       "          Df SumsOfSqs MeanSqs F.Model     R2 Pr(>F)\n",
       "HighLow    1    0.1888 0.18877 0.72127 0.0567  0.588\n",
       "Residuals 12    3.1406 0.26171         0.9433       \n",
       "Total     13    3.3293                 1.0000       \n"
      ]
     },
     "metadata": {},
     "output_type": "display_data"
    }
   ],
   "source": [
    "%%R\n",
    "adonis(dist.euks ~ HighLow, data.frame(sample_data(physeq.thresh.euks)), method = \"bray\")"
   ]
  },
  {
   "cell_type": "code",
   "execution_count": 8,
   "metadata": {
    "collapsed": false
   },
   "outputs": [
    {
     "data": {
      "text/plain": [
       "R version 3.1.2 (2014-10-31)\n",
       "Platform: x86_64-pc-linux-gnu (64-bit)\n",
       "\n",
       "locale:\n",
       " [1] LC_CTYPE=en_US.UTF-8       LC_NUMERIC=C              \n",
       " [3] LC_TIME=en_US.UTF-8        LC_COLLATE=en_US.UTF-8    \n",
       " [5] LC_MONETARY=en_US.UTF-8    LC_MESSAGES=en_US.UTF-8   \n",
       " [7] LC_PAPER=en_US.UTF-8       LC_NAME=C                 \n",
       " [9] LC_ADDRESS=C               LC_TELEPHONE=C            \n",
       "[11] LC_MEASUREMENT=en_US.UTF-8 LC_IDENTIFICATION=C       \n",
       "\n",
       "attached base packages:\n",
       "[1] tools     stats     graphics  grDevices utils     datasets  methods  \n",
       "[8] base     \n",
       "\n",
       "other attached packages:\n",
       "[1] vegan_2.2-1     lattice_0.20-30 permute_0.8-3   phyloseq_1.10.0\n",
       "\n",
       "loaded via a namespace (and not attached):\n",
       " [1] acepack_1.3-3.3           ade4_1.6-2               \n",
       " [3] annotate_1.44.0           AnnotationDbi_1.28.1     \n",
       " [5] ape_3.2                   base64enc_0.1-2          \n",
       " [7] BatchJobs_1.5             BBmisc_1.9               \n",
       " [9] Biobase_2.26.0            BiocGenerics_0.12.1      \n",
       "[11] BiocParallel_1.0.3        biom_0.3.12              \n",
       "[13] Biostrings_2.34.1         brew_1.0-6               \n",
       "[15] checkmate_1.5.1           chron_2.3-45             \n",
       "[17] cluster_2.0.1             codetools_0.2-10         \n",
       "[19] colorspace_1.2-4          data.table_1.9.4         \n",
       "[21] DBI_0.3.1                 DESeq2_1.6.3             \n",
       "[23] digest_0.6.8              fail_1.2                 \n",
       "[25] foreach_1.4.2             foreign_0.8-63           \n",
       "[27] Formula_1.2-0             genefilter_1.48.1        \n",
       "[29] geneplotter_1.44.0        GenomeInfoDb_1.2.4       \n",
       "[31] GenomicRanges_1.18.4      ggplot2_1.0.0            \n",
       "[33] grid_3.1.2                gtable_0.1.2             \n",
       "[35] Hmisc_3.15-0              igraph_0.7.1             \n",
       "[37] IRanges_2.0.1             iterators_1.0.7          \n",
       "[39] latticeExtra_0.6-26       locfit_1.5-9.1           \n",
       "[41] MASS_7.3-39               Matrix_1.1-5             \n",
       "[43] mgcv_1.8-4                multtest_2.22.0          \n",
       "[45] munsell_0.4.2             nlme_3.1-120             \n",
       "[47] nnet_7.3-9                parallel_3.1.2           \n",
       "[49] plyr_1.8.1                proto_0.3-10             \n",
       "[51] RColorBrewer_1.1-2        Rcpp_0.11.4              \n",
       "[53] RcppArmadillo_0.4.600.4.0 reshape2_1.4.1           \n",
       "[55] RJSONIO_1.3-0             rpart_4.1-9              \n",
       "[57] RSQLite_1.0.0             S4Vectors_0.4.0          \n",
       "[59] scales_0.2.4              sendmailR_1.2-1          \n",
       "[61] splines_3.1.2             stats4_3.1.2             \n",
       "[63] stringr_0.6.2             survival_2.38-1          \n",
       "[65] XML_3.98-1.1              xtable_1.7-4             \n",
       "[67] XVector_0.6.0             zlibbioc_1.12.0          \n"
      ]
     },
     "metadata": {},
     "output_type": "display_data"
    }
   ],
   "source": [
    "%%R\n",
    "sessionInfo()"
   ]
  }
 ],
 "metadata": {
  "kernelspec": {
   "display_name": "Python 2",
   "language": "python",
   "name": "python2"
  },
  "language_info": {
   "codemirror_mode": {
    "name": "ipython",
    "version": 2
   },
   "file_extension": ".py",
   "mimetype": "text/x-python",
   "name": "python",
   "nbconvert_exporter": "python",
   "pygments_lexer": "ipython2",
   "version": "2.7.9"
  }
 },
 "nbformat": 4,
 "nbformat_minor": 0
}
