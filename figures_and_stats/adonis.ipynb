{
 "metadata": {
  "name": "",
  "signature": "sha256:8f6de325da81e93927480d9150e46ae486018fd3da40f5bfa77ddc33df37724b"
 },
 "nbformat": 3,
 "nbformat_minor": 0,
 "worksheets": [
  {
   "cells": [
    {
     "cell_type": "code",
     "collapsed": false,
     "input": [
      "%load_ext rpy2.ipython"
     ],
     "language": "python",
     "metadata": {},
     "outputs": [
      {
       "output_type": "stream",
       "stream": "stderr",
       "text": [
        "/opt/anaconda/lib/python2.7/site-packages/pytz/__init__.py:29: UserWarning: Module argparse was already imported from /opt/anaconda/lib/python2.7/argparse.pyc, but /opt/anaconda/lib/python2.7/site-packages is being added to sys.path\n",
        "  from pkg_resources import resource_stream\n"
       ]
      }
     ],
     "prompt_number": 1
    },
    {
     "cell_type": "code",
     "collapsed": false,
     "input": [
      "%%R\n",
      "library(phyloseq)\n",
      "library(vegan)"
     ],
     "language": "python",
     "metadata": {},
     "outputs": [
      {
       "metadata": {},
       "output_type": "display_data",
       "text": [
        "Loading required package: permute\n",
        "Loading required package: lattice\n",
        "This is vegan 2.0-10\n"
       ]
      }
     ],
     "prompt_number": 2
    },
    {
     "cell_type": "code",
     "collapsed": false,
     "input": [
      "%%R\n",
      "physeq = import_biom(\"../data/A/otu_table.wtax_wsd.biom\")\n",
      "physeq.snorm = transform_sample_counts(physeq, function(x) x/sum(x))\n",
      "physeq.euks = subset_taxa(physeq.snorm, Rank1==\"Eukaryota\" | Rank2==\"Cyanobacteria\")\n",
      "physeq.thresh.euks = filter_taxa(physeq.euks, function(x) sum(x > 0) > length(x) * 0.25, TRUE)\n",
      "print(physeq)\n",
      "print(physeq.thresh.euks)"
     ],
     "language": "python",
     "metadata": {},
     "outputs": [
      {
       "metadata": {},
       "output_type": "display_data",
       "text": [
        "phyloseq-class experiment-level object\n",
        "otu_table()   OTU Table:         [ 359 taxa and 14 samples ]\n",
        "sample_data() Sample Data:       [ 14 samples by 9 sample variables ]\n",
        "tax_table()   Taxonomy Table:    [ 359 taxa by 9 taxonomic ranks ]\n",
        "phyloseq-class experiment-level object\n",
        "otu_table()   OTU Table:         [ 91 taxa and 14 samples ]\n",
        "sample_data() Sample Data:       [ 14 samples by 9 sample variables ]\n",
        "tax_table()   Taxonomy Table:    [ 91 taxa by 9 taxonomic ranks ]\n"
       ]
      }
     ],
     "prompt_number": 3
    },
    {
     "cell_type": "code",
     "collapsed": false,
     "input": [
      "%%R\n",
      "physeq = import_biom(\"../data/B/otu_table.wtax_wsd.biom\")\n",
      "physeq.snorm = transform_sample_counts(physeq, function(x) x/sum(x))\n",
      "physeq.snorm = subset_taxa(physeq.snorm, Rank2 != \"Cyanobacteria\")\n",
      "physeq.thresh.bact = filter_taxa(physeq.snorm, function(x) sum(x > 0) > length(x) * 0.25, TRUE)\n",
      "print(physeq)\n",
      "print(physeq.thresh.bact)"
     ],
     "language": "python",
     "metadata": {},
     "outputs": [
      {
       "metadata": {},
       "output_type": "display_data",
       "text": [
        "phyloseq-class experiment-level object\n",
        "otu_table()   OTU Table:         [ 636 taxa and 14 samples ]\n",
        "sample_data() Sample Data:       [ 14 samples by 10 sample variables ]\n",
        "tax_table()   Taxonomy Table:    [ 636 taxa by 7 taxonomic ranks ]\n",
        "phyloseq-class experiment-level object\n",
        "otu_table()   OTU Table:         [ 222 taxa and 14 samples ]\n",
        "sample_data() Sample Data:       [ 14 samples by 10 sample variables ]\n",
        "tax_table()   Taxonomy Table:    [ 222 taxa by 7 taxonomic ranks ]\n"
       ]
      }
     ],
     "prompt_number": 4
    },
    {
     "cell_type": "code",
     "collapsed": false,
     "input": [
      "%%R\n",
      "dist.bact = distance(physeq.thresh.bact, method = \"bray\")\n",
      "dist.euks = distance(physeq.thresh.euks, method = \"bray\")"
     ],
     "language": "python",
     "metadata": {},
     "outputs": [],
     "prompt_number": 5
    },
    {
     "cell_type": "code",
     "collapsed": false,
     "input": [
      "%%R\n",
      "adonis(dist.bact ~ EnvironmentType, data.frame(sample_data(physeq.thresh.bact)), method = \"bray\")"
     ],
     "language": "python",
     "metadata": {},
     "outputs": [
      {
       "metadata": {},
       "output_type": "display_data",
       "text": [
        "\n",
        "Call:\n",
        "adonis(formula = dist.bact ~ EnvironmentType, data = data.frame(sample_data(physeq.thresh.bact)),      method = \"bray\") \n",
        "\n",
        "Terms added sequentially (first to last)\n",
        "\n",
        "                Df SumsOfSqs MeanSqs F.Model      R2 Pr(>F)   \n",
        "EnvironmentType  1    0.7946 0.79463  2.6233 0.17939  0.003 **\n",
        "Residuals       12    3.6349 0.30291         0.82061          \n",
        "Total           13    4.4296                 1.00000          \n",
        "---\n",
        "Signif. codes:  0 \u2018***\u2019 0.001 \u2018**\u2019 0.01 \u2018*\u2019 0.05 \u2018.\u2019 0.1 \u2018 \u2019 1\n"
       ]
      }
     ],
     "prompt_number": 6
    },
    {
     "cell_type": "code",
     "collapsed": false,
     "input": [
      "%%R\n",
      "adonis(dist.euks ~ EnvironmentType, data.frame(sample_data(physeq.thresh.euks)), method = \"bray\")"
     ],
     "language": "python",
     "metadata": {},
     "outputs": [
      {
       "metadata": {},
       "output_type": "display_data",
       "text": [
        "\n",
        "Call:\n",
        "adonis(formula = dist.euks ~ EnvironmentType, data = data.frame(sample_data(physeq.thresh.euks)),      method = \"bray\") \n",
        "\n",
        "Terms added sequentially (first to last)\n",
        "\n",
        "                Df SumsOfSqs MeanSqs F.Model      R2 Pr(>F)   \n",
        "EnvironmentType  1    1.4830 1.48301  9.6386 0.44544  0.002 **\n",
        "Residuals       12    1.8463 0.15386         0.55456          \n",
        "Total           13    3.3293                 1.00000          \n",
        "---\n",
        "Signif. codes:  0 \u2018***\u2019 0.001 \u2018**\u2019 0.01 \u2018*\u2019 0.05 \u2018.\u2019 0.1 \u2018 \u2019 1\n"
       ]
      }
     ],
     "prompt_number": 7
    },
    {
     "cell_type": "code",
     "collapsed": false,
     "input": [
      "%%R\n",
      "sessionInfo()"
     ],
     "language": "python",
     "metadata": {},
     "outputs": [
      {
       "metadata": {},
       "output_type": "display_data",
       "text": [
        "R version 3.1.2 (2014-10-31)\n",
        "Platform: x86_64-pc-linux-gnu (64-bit)\n",
        "\n",
        "locale:\n",
        " [1] LC_CTYPE=en_US.UTF-8       LC_NUMERIC=C              \n",
        " [3] LC_TIME=en_US.UTF-8        LC_COLLATE=en_US.UTF-8    \n",
        " [5] LC_MONETARY=en_US.UTF-8    LC_MESSAGES=en_US.UTF-8   \n",
        " [7] LC_PAPER=en_US.UTF-8       LC_NAME=C                 \n",
        " [9] LC_ADDRESS=C               LC_TELEPHONE=C            \n",
        "[11] LC_MEASUREMENT=en_US.UTF-8 LC_IDENTIFICATION=C       \n",
        "\n",
        "attached base packages:\n",
        "[1] tools     stats     graphics  grDevices utils     datasets  methods  \n",
        "[8] base     \n",
        "\n",
        "other attached packages:\n",
        "[1] vegan_2.0-10    lattice_0.20-29 permute_0.8-3   phyloseq_1.10.0\n",
        "\n",
        "loaded via a namespace (and not attached):\n",
        " [1] acepack_1.3-3.3         ade4_1.6-2              annotate_1.44.0        \n",
        " [4] AnnotationDbi_1.28.1    ape_3.1-4               base64enc_0.1-2        \n",
        " [7] BatchJobs_1.5           BBmisc_1.8              Biobase_2.26.0         \n",
        "[10] BiocGenerics_0.12.0     BiocParallel_1.0.0      biom_0.3.12            \n",
        "[13] Biostrings_2.34.0       brew_1.0-6              checkmate_1.5.0        \n",
        "[16] chron_2.3-45            cluster_1.15.3          codetools_0.2-9        \n",
        "[19] colorspace_1.2-4        data.table_1.9.4        DBI_0.3.1              \n",
        "[22] DESeq2_1.6.1            digest_0.6.4            fail_1.2               \n",
        "[25] foreach_1.4.2           foreign_0.8-61          Formula_1.1-2          \n",
        "[28] genefilter_1.48.1       geneplotter_1.44.0      GenomeInfoDb_1.2.2     \n",
        "[31] GenomicRanges_1.18.1    ggplot2_1.0.0           grid_3.1.2             \n",
        "[34] gtable_0.1.2            Hmisc_3.14-5            igraph_0.7.1           \n",
        "[37] IRanges_2.0.0           iterators_1.0.7         latticeExtra_0.6-26    \n",
        "[40] locfit_1.5-9.1          MASS_7.3-35             Matrix_1.1-4           \n",
        "[43] multtest_2.22.0         munsell_0.4.2           nlme_3.1-118           \n",
        "[46] nnet_7.3-8              parallel_3.1.2          plyr_1.8.1             \n",
        "[49] proto_0.3-10            RColorBrewer_1.0-5      Rcpp_0.11.3            \n",
        "[52] RcppArmadillo_0.4.500.0 reshape2_1.4            RJSONIO_1.3-0          \n",
        "[55] rpart_4.1-8             RSQLite_1.0.0           S4Vectors_0.4.0        \n",
        "[58] scales_0.2.4            sendmailR_1.2-1         splines_3.1.2          \n",
        "[61] stats4_3.1.2            stringr_0.6.2           survival_2.37-7        \n",
        "[64] XML_3.98-1.1            xtable_1.7-4            XVector_0.6.0          \n",
        "[67] zlibbioc_1.12.0        \n"
       ]
      }
     ],
     "prompt_number": 8
    }
   ],
   "metadata": {}
  }
 ]
}