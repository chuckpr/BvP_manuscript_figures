{
 "metadata": {
  "name": "",
  "signature": "sha256:dd326823ccc56b5ff118a1ffe9534c9af1b6a1b452cbc1709d65eaa7992dbf63"
 },
 "nbformat": 3,
 "nbformat_minor": 0,
 "worksheets": [
  {
   "cells": [
    {
     "cell_type": "code",
     "collapsed": false,
     "input": [
      "from Bio.Blast.Applications import NcbiblastnCommandline as blast"
     ],
     "language": "python",
     "metadata": {},
     "outputs": [],
     "prompt_number": 1
    },
    {
     "cell_type": "code",
     "collapsed": false,
     "input": [
      "cline = blast(query = \"data/B/otusn.fasta\",\n",
      "              db = \"/var/seq_data/silva/silva_blastdb/silva_RefNR_115\",\n",
      "              outfmt = 6,\n",
      "              out = \"data/tmp/blast_out_otusn_silvaRefNR115.m6\",\n",
      "              num_threads = 20)\n",
      "print cline\n",
      "cline()"
     ],
     "language": "python",
     "metadata": {},
     "outputs": [
      {
       "output_type": "stream",
       "stream": "stdout",
       "text": [
        "blastn -out data/tmp/blast_out_otusn_silvaRefNR115.m6 -outfmt 6 -query data/B/otusn.fasta -db /var/seq_data/silva/silva_blastdb/silva_RefNR_115 -num_threads 20\n"
       ]
      },
      {
       "metadata": {},
       "output_type": "pyout",
       "prompt_number": 3,
       "text": [
        "('', '')"
       ]
      }
     ],
     "prompt_number": 3
    },
    {
     "cell_type": "code",
     "collapsed": false,
     "input": [
      "!head -n1 data/tmp/blast_out_otusn_silvaRefNR115.m6\n",
      "!wc -l data/tmp/blast_out_otusn_silvaRefNR115.m6"
     ],
     "language": "python",
     "metadata": {},
     "outputs": [
      {
       "output_type": "stream",
       "stream": "stdout",
       "text": [
        "OTU.1\tY13830\t98.68\t151\t2\t0\t1\t151\t20\t170\t1e-70\t  268\r\n"
       ]
      },
      {
       "output_type": "stream",
       "stream": "stdout",
       "text": [
        "310863 data/tmp/blast_out_otusn_silvaRefNR115.m6\r\n"
       ]
      }
     ],
     "prompt_number": 4
    },
    {
     "cell_type": "code",
     "collapsed": false,
     "input": [
      "cline = blast(query = \"data/B/otusn.fasta\",\n",
      "              db = \"/var/seq_data/LTP115_db/LTP115\",\n",
      "              outfmt = 6,\n",
      "              out = \"data/tmp/blast_out_otusn_LTP115.m6\",\n",
      "              num_threads = 20)\n",
      "print cline\n",
      "cline()"
     ],
     "language": "python",
     "metadata": {},
     "outputs": [
      {
       "output_type": "stream",
       "stream": "stdout",
       "text": [
        "blastn -out data/tmp/blast_out_otusn_LTP115.m6 -outfmt 6 -query data/B/otusn.fasta -db /var/seq_data/LTP115_db/LTP115 -num_threads 20\n"
       ]
      },
      {
       "metadata": {},
       "output_type": "pyout",
       "prompt_number": 5,
       "text": [
        "('', '')"
       ]
      }
     ],
     "prompt_number": 5
    },
    {
     "cell_type": "code",
     "collapsed": false,
     "input": [
      "!head -n1 data/tmp/blast_out_otusn_LTP115.m6\n",
      "!wc -l data/tmp/blast_out_otusn_LTP115.m6"
     ],
     "language": "python",
     "metadata": {},
     "outputs": [
      {
       "output_type": "stream",
       "stream": "stdout",
       "text": [
        "OTU.1\tY08430\t98.68\t151\t2\t0\t1\t151\t7\t157\t2e-72\t  268\r\n"
       ]
      },
      {
       "output_type": "stream",
       "stream": "stdout",
       "text": [
        "221557 data/tmp/blast_out_otusn_LTP115.m6\r\n"
       ]
      }
     ],
     "prompt_number": 6
    }
   ],
   "metadata": {}
  }
 ]
}