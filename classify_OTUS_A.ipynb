{
 "metadata": {
  "name": "",
  "signature": "sha256:694f70c0c7ef39a06c354a2ea139c87f874b3c032b5430b4153004df68999a6f"
 },
 "nbformat": 3,
 "nbformat_minor": 0,
 "worksheets": [
  {
   "cells": [
    {
     "cell_type": "code",
     "collapsed": false,
     "input": [
      "from cogent import LoadSeqs, DNA"
     ],
     "language": "python",
     "metadata": {},
     "outputs": [],
     "prompt_number": 7
    },
    {
     "cell_type": "code",
     "collapsed": false,
     "input": [
      "seqs = LoadSeqs(\"data/A/otusn.fasta\", moltype=DNA, aligned = False)\n",
      "seqs_rc = seqs.rc()"
     ],
     "language": "python",
     "metadata": {},
     "outputs": [],
     "prompt_number": 9
    },
    {
     "cell_type": "code",
     "collapsed": false,
     "input": [
      "seqs_rc.writeToFile(\"data/A/otusn_rc.fasta\")"
     ],
     "language": "python",
     "metadata": {},
     "outputs": [],
     "prompt_number": 11
    },
    {
     "cell_type": "code",
     "collapsed": false,
     "input": [
      "!parallel_assign_taxonomy_uclust.py --uclust_similarity=0.85 \\\n",
      "-t data/LSU_silva/EMBL_tax.nds \\\n",
      "-r data/LSU_silva/LSU_all_seqs_ng_namefix.fasta \\\n",
      "-O 20 \\\n",
      "-i data/A/otusn_rc.fasta \\\n",
      "-o data/A/tax_uclust"
     ],
     "language": "python",
     "metadata": {},
     "outputs": [],
     "prompt_number": 32
    },
    {
     "cell_type": "code",
     "collapsed": false,
     "input": [
      "!echo \"#OTUID\\ttaxonomy\" > data/A/tax_uclust/header.txt\n",
      "!cat data/A/tax_uclust/header.txt \\\n",
      "data/A/tax_uclust/otusn_rc_tax_assignments.txt > \\\n",
      "data/A/tax_uclust/otusn_rc_tax_assignments_wheader.txt"
     ],
     "language": "python",
     "metadata": {},
     "outputs": [],
     "prompt_number": 33
    },
    {
     "cell_type": "code",
     "collapsed": false,
     "input": [
      "!head data/A/tax_uclust/otusn_rc_tax_assignments_wheader.txt"
     ],
     "language": "python",
     "metadata": {},
     "outputs": [
      {
       "output_type": "stream",
       "stream": "stdout",
       "text": [
        "#OTUID\ttaxonomy\r\n",
        "OTU.9\tEukaryota;Viridiplantae;Chlorophyta;Trebouxiophyceae;Chlorellales;Chlorellaceae;Chlorella;\t1.00\t3\r\n",
        "OTU.8\tUnassigned\t1.00\t1\r\n",
        "OTU.1\tEukaryota;Stramenopiles;Bacillariophyta;Coscinodiscophyceae;Thalassiosirophycidae;Thalassiosirales;Thalassiosiraceae;Thalassiosira;\t1.00\t3\r\n",
        "OTU.3\tUnassigned\t1.00\t1\r\n",
        "OTU.2\tBacteria;Cyanobacteria;Chroococcales;Cyanobium;\t0.67\t3\r\n",
        "OTU.5\tBacteria;Cyanobacteria;Chroococcales;Synechococcus\t0.67\t3\r\n",
        "OTU.4\tUnassigned\t1.00\t1\r\n",
        "OTU.7\tUnassigned\t1.00\t1\r\n",
        "OTU.6\tUnassigned\t1.00\t1\r\n"
       ]
      }
     ],
     "prompt_number": 34
    },
    {
     "cell_type": "code",
     "collapsed": false,
     "input": [
      "!if [ -f data/A/otu_table.wtax.biom ]; \\\n",
      "then rm data/A/otu_table.wtax.biom; fi #This is to mitigate a biom bug\n",
      "!biom add-metadata -i data/A/otu_table.biom \\\n",
      "-o data/A/otu_table.wtax.biom \\\n",
      "--observation-metadata-fp data/A/tax_uclust/otusn_rc_tax_assignments_wheader.txt \\\n",
      "--sc-separated taxonomy"
     ],
     "language": "python",
     "metadata": {},
     "outputs": [],
     "prompt_number": 35
    },
    {
     "cell_type": "code",
     "collapsed": false,
     "input": [
      "!if [ -f data/A/otu_table.wtax_wsd.biom ]; \\\n",
      "then rm data/A/otu_table.wtax_wsd.biom; fi #This is to mitigate a biom bug\n",
      "!biom add-metadata --sample-metadata-fp data/chachie_mapper_A.txt \\\n",
      "-i data/A/otu_table.wtax.biom \\\n",
      "-o data/A/otu_table.wtax_wsd.biom"
     ],
     "language": "python",
     "metadata": {},
     "outputs": [],
     "prompt_number": 2
    }
   ],
   "metadata": {}
  }
 ]
}