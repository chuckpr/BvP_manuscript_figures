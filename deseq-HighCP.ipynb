{
 "metadata": {
  "name": "",
  "signature": "sha256:4d75e01aed2e728418dd8ce0ed245986e78eb7dd4068d1e7cae647665362629c"
 },
 "nbformat": 3,
 "nbformat_minor": 0,
 "worksheets": [
  {
   "cells": [
    {
     "cell_type": "code",
     "collapsed": false,
     "input": [
      "from IPython.display import FileLink"
     ],
     "language": "python",
     "metadata": {},
     "outputs": [],
     "prompt_number": 54
    },
    {
     "cell_type": "code",
     "collapsed": false,
     "input": [
      "%load_ext rpy2.ipython"
     ],
     "language": "python",
     "metadata": {},
     "outputs": [
      {
       "output_type": "stream",
       "stream": "stderr",
       "text": [
        "/opt/anaconda/lib/python2.7/site-packages/pytz/__init__.py:29: UserWarning: Module argparse was already imported from /opt/anaconda/lib/python2.7/argparse.pyc, but /opt/anaconda/lib/python2.7/site-packages is being added to sys.path\n",
        "  from pkg_resources import resource_stream\n"
       ]
      }
     ],
     "prompt_number": 2
    },
    {
     "cell_type": "code",
     "collapsed": false,
     "input": [
      "%%R\n",
      "library(DESeq2)\n",
      "library(phyloseq)\n",
      "library(ggplot2)\n",
      "library(RColorBrewer)\n",
      "library(gridExtra)\n",
      "library(plyr)\n",
      "library(dplyr)"
     ],
     "language": "python",
     "metadata": {},
     "outputs": [
      {
       "metadata": {},
       "output_type": "display_data",
       "text": [
        "Loading required package: GenomicRanges\n",
        "Loading required package: BiocGenerics\n",
        "Loading required package: parallel\n",
        "\n",
        "Attaching package: \u2018BiocGenerics\u2019\n",
        "\n",
        "The following objects are masked from \u2018package:parallel\u2019:\n",
        "\n",
        "    clusterApply, clusterApplyLB, clusterCall, clusterEvalQ,\n",
        "    clusterExport, clusterMap, parApply, parCapply, parLapply,\n",
        "    parLapplyLB, parRapply, parSapply, parSapplyLB\n",
        "\n",
        "The following object is masked from \u2018package:stats\u2019:\n",
        "\n",
        "    xtabs\n",
        "\n",
        "The following objects are masked from \u2018package:base\u2019:\n",
        "\n",
        "    anyDuplicated, append, as.data.frame, as.vector, cbind, colnames,\n",
        "    duplicated, eval, evalq, Filter, Find, get, intersect, is.unsorted,\n",
        "    lapply, Map, mapply, match, mget, order, paste, pmax, pmax.int,\n",
        "    pmin, pmin.int, Position, rank, rbind, Reduce, rep.int, rownames,\n",
        "    sapply, setdiff, sort, table, tapply, union, unique, unlist\n",
        "\n",
        "Loading required package: IRanges\n",
        "Loading required package: XVector\n",
        "Loading required package: Rcpp\n",
        "Loading required package: RcppArmadillo\n",
        "\n",
        "Attaching package: \u2018phyloseq\u2019\n",
        "\n",
        "The following object is masked from \u2018package:GenomicRanges\u2019:\n",
        "\n",
        "    distance\n",
        "\n",
        "The following object is masked from \u2018package:IRanges\u2019:\n",
        "\n",
        "    distance\n",
        "\n",
        "Loading required package: grid\n",
        "\n",
        "Attaching package: \u2018plyr\u2019\n",
        "\n",
        "The following object is masked from \u2018package:XVector\u2019:\n",
        "\n",
        "    compact\n",
        "\n",
        "The following objects are masked from \u2018package:IRanges\u2019:\n",
        "\n",
        "    desc, rename\n",
        "\n",
        "\n",
        "Attaching package: \u2018dplyr\u2019\n",
        "\n",
        "The following objects are masked from \u2018package:plyr\u2019:\n",
        "\n",
        "    arrange, desc, failwith, id, mutate, summarise, summarize\n",
        "\n",
        "The following objects are masked from \u2018package:GenomicRanges\u2019:\n",
        "\n",
        "    first, intersect, last, setdiff, union\n",
        "\n",
        "The following objects are masked from \u2018package:IRanges\u2019:\n",
        "\n",
        "    collapse, desc, intersect, setdiff, union\n",
        "\n",
        "The following objects are masked from \u2018package:BiocGenerics\u2019:\n",
        "\n",
        "    intersect, setdiff, union\n",
        "\n",
        "The following objects are masked from \u2018package:stats\u2019:\n",
        "\n",
        "    filter, lag\n",
        "\n",
        "The following objects are masked from \u2018package:base\u2019:\n",
        "\n",
        "    intersect, setdiff, setequal, union\n",
        "\n"
       ]
      }
     ],
     "prompt_number": 3
    },
    {
     "cell_type": "code",
     "collapsed": false,
     "input": [
      "%%R\n",
      "print(sessionInfo())"
     ],
     "language": "python",
     "metadata": {},
     "outputs": [
      {
       "metadata": {},
       "output_type": "display_data",
       "text": [
        "R version 3.1.0 (2014-04-10)\n",
        "Platform: x86_64-pc-linux-gnu (64-bit)\n",
        "\n",
        "locale:\n",
        " [1] LC_CTYPE=en_US.UTF-8       LC_NUMERIC=C              \n",
        " [3] LC_TIME=en_US.UTF-8        LC_COLLATE=en_US.UTF-8    \n",
        " [5] LC_MONETARY=en_US.UTF-8    LC_MESSAGES=en_US.UTF-8   \n",
        " [7] LC_PAPER=en_US.UTF-8       LC_NAME=C                 \n",
        " [9] LC_ADDRESS=C               LC_TELEPHONE=C            \n",
        "[11] LC_MEASUREMENT=en_US.UTF-8 LC_IDENTIFICATION=C       \n",
        "\n",
        "attached base packages:\n",
        " [1] grid      parallel  tools     stats     graphics  grDevices utils    \n",
        " [8] datasets  methods   base     \n",
        "\n",
        "other attached packages:\n",
        " [1] dplyr_0.2                 plyr_1.8.1               \n",
        " [3] gridExtra_0.9.1           RColorBrewer_1.0-5       \n",
        " [5] ggplot2_1.0.0             phyloseq_1.7.12          \n",
        " [7] DESeq2_1.2.10             RcppArmadillo_0.4.300.8.0\n",
        " [9] Rcpp_0.11.2               GenomicRanges_1.14.4     \n",
        "[11] XVector_0.2.0             IRanges_1.20.7           \n",
        "[13] BiocGenerics_0.8.0       \n",
        "\n",
        "loaded via a namespace (and not attached):\n",
        " [1] ade4_1.6-2           annotate_1.40.1      AnnotationDbi_1.24.0\n",
        " [4] ape_3.1-2            assertthat_0.1       Biobase_2.22.0      \n",
        " [7] biom_0.3.12          Biostrings_2.30.1    cluster_1.15.2      \n",
        "[10] codetools_0.2-8      colorspace_1.2-4     DBI_0.2-7           \n",
        "[13] digest_0.6.4         foreach_1.4.2        genefilter_1.44.0   \n",
        "[16] gtable_0.1.2         igraph_0.7.1         iterators_1.0.7     \n",
        "[19] lattice_0.20-29      locfit_1.5-9.1       MASS_7.3-33         \n",
        "[22] Matrix_1.1-4         multtest_2.18.0      munsell_0.4.2       \n",
        "[25] nlme_3.1-117         permute_0.8-3        proto_0.3-10        \n",
        "[28] reshape2_1.4         RJSONIO_1.2-0.2      RSQLite_0.11.4      \n",
        "[31] scales_0.2.4         splines_3.1.0        stats4_3.1.0        \n",
        "[34] stringr_0.6.2        survival_2.37-7      vegan_2.0-10        \n",
        "[37] XML_3.98-1.1         xtable_1.7-3        \n"
       ]
      }
     ],
     "prompt_number": 7
    },
    {
     "cell_type": "code",
     "collapsed": false,
     "input": [
      "%%R\n",
      "physeq.bact = import_biom(\"../data/B/otu_table.wtax_wsd.biom\")"
     ],
     "language": "python",
     "metadata": {},
     "outputs": [],
     "prompt_number": 11
    },
    {
     "cell_type": "code",
     "collapsed": false,
     "input": [
      "%%R\n",
      "sample_variables(physeq.bact)"
     ],
     "language": "python",
     "metadata": {},
     "outputs": [
      {
       "metadata": {},
       "output_type": "display_data",
       "text": [
        " [1] \"LinkerPrimerSequence\" \"CarbonToPhosphorous\"  \"Description\"         \n",
        " [4] \"BarcodeSequence\"      \"HighLow\"              \"Variable\"            \n",
        " [7] \"Experiment\"           \"Date\"                 \"ReversePrimer\"       \n",
        "[10] \"EnvironmentType\"     \n"
       ]
      }
     ],
     "prompt_number": 12
    },
    {
     "cell_type": "code",
     "collapsed": false,
     "input": [
      "%%R\n",
      "get_Ps = function(physeq.obj, sparsity.threshold) {\n",
      "    \n",
      "    ps = filter_taxa(physeq.obj, function(x) sum(x > 0) > length(x) * sparsity.threshold, TRUE)\n",
      "        \n",
      "    dds = phyloseq_to_deseq2(ps, ~HighLow)\n",
      "    dds = DESeq(dds, quiet = TRUE)\n",
      "    r = results(dds, independentFiltering = FALSE,  cooksCutoff = FALSE)\n",
      "    r$sp.thresh = as.character(sparsity.threshold)\n",
      "        \n",
      "    supp = tax_table(ps)\n",
      "    if( !setequal(row.names(r), row.names(supp)) ){\n",
      "        stop(\"Ordination and supplementary data indices differ on the following:\\n.\",\n",
      "        setdiff(row.names(r), row.names(supp)))\n",
      "    }\n",
      "\n",
      "    DF <- data.frame(data.frame(r), supp)\n",
      "    DF$OTU = rownames(DF)\n",
      "    DF\n",
      "}"
     ],
     "language": "python",
     "metadata": {},
     "outputs": [],
     "prompt_number": 14
    },
    {
     "cell_type": "code",
     "collapsed": false,
     "input": [
      "%%R\n",
      "df.l2fc.bact = ldply(seq(0.05, 0.75, 0.05), get_Ps, physeq.obj = physeq.bact)                     "
     ],
     "language": "python",
     "metadata": {},
     "outputs": [],
     "prompt_number": 15
    },
    {
     "cell_type": "code",
     "collapsed": false,
     "input": [
      "%%R -w 450 -h 300\n",
      "FDR = 0.10\n",
      "df = df.l2fc.bact %.% group_by(sp.thresh) %.% summarize(S = sum(padj <= FDR, na.rm = TRUE))\n",
      "p = ggplot(df, aes(x = sp.thresh, y = S)) + geom_point(size = 4)\n",
      "p"
     ],
     "language": "python",
     "metadata": {},
     "outputs": [
      {
       "metadata": {},
       "output_type": "display_data",
       "png": "[encoded data removed]"
      }
     ],
     "prompt_number": 16
    },
    {
     "cell_type": "code",
     "collapsed": false,
     "input": [
      "%%R\n",
      "\n",
      "FDR = 0.10\n",
      "\n",
      "df.l2fc.bact %.% \n",
      "    filter(sp.thresh == \"0.1\") %.%\n",
      "    arrange(desc(abs(log2FoldChange))) %.%\n",
      "    select(OTU, Rank3, Rank4, log2FoldChange, padj) %.%\n",
      "    filter(padj <= FDR)"
     ],
     "language": "python",
     "metadata": {},
     "outputs": [
      {
       "metadata": {},
       "output_type": "display_data",
       "text": [
        "       OTU                 Rank3              Rank4 log2FoldChange         padj\n",
        "1    OTU.1   Gammaproteobacteria        Vibrionales      -5.137548 7.311060e-13\n",
        "2    OTU.2   Gammaproteobacteria    Pseudomonadales      -4.544778 1.793338e-09\n",
        "3   OTU.17   Gammaproteobacteria    Alteromonadales      -3.896487 5.144332e-07\n",
        "4   OTU.16 Epsilonproteobacteria  Campylobacterales      -3.507202 1.521976e-05\n",
        "5    OTU.6   Gammaproteobacteria    Alteromonadales      -3.351088 1.629409e-05\n",
        "6   OTU.25 Epsilonproteobacteria  Campylobacterales      -3.129880 1.378748e-04\n",
        "7   OTU.37            Clostridia      Clostridiales      -2.999299 2.933761e-04\n",
        "8   OTU.34   Gammaproteobacteria    Alteromonadales      -2.932205 3.042119e-04\n",
        "9   OTU.38         [Rhodothermi]   [Rhodothermales]      -2.723210 1.122937e-03\n",
        "10  OTU.61            Clostridia      Clostridiales      -2.676768 1.281195e-03\n",
        "11  OTU.47 Epsilonproteobacteria  Campylobacterales      -2.644543 1.557340e-03\n",
        "12 OTU.119   Gammaproteobacteria        Vibrionales      -2.495390 1.281195e-03\n",
        "13  OTU.18   Gammaproteobacteria        Vibrionales      -2.209815 3.036887e-02\n",
        "14 OTU.387 Epsilonproteobacteria  Campylobacterales      -2.206216 1.040411e-02\n",
        "15  OTU.13   Gammaproteobacteria        Vibrionales      -2.157534 3.320898e-02\n",
        "16  OTU.68 Epsilonproteobacteria  Campylobacterales      -2.135989 1.560259e-02\n",
        "17  OTU.88   Alphaproteobacteria   Rhodospirillales      -2.042804 1.713770e-02\n",
        "18  OTU.51               Bacilli    Lactobacillales      -1.946917 4.898052e-02\n",
        "19  OTU.27   Gammaproteobacteria           HTCC2188       1.911730 8.570961e-02\n",
        "20 OTU.129   Gammaproteobacteria        Vibrionales      -1.870379 3.036887e-02\n",
        "21 OTU.143   Deltaproteobacteria Desulfovibrionales      -1.799228 4.571526e-02\n",
        "22 OTU.114                  <NA>               <NA>      -1.752847 5.071733e-02\n",
        "23  OTU.42   Alphaproteobacteria              BD7-3      -1.749332 9.074441e-02\n",
        "24 OTU.597 Epsilonproteobacteria  Campylobacterales      -1.662616 6.423625e-02\n",
        "25 OTU.212   Gammaproteobacteria               <NA>      -1.598221 9.168961e-02\n",
        "26 OTU.102   Gammaproteobacteria    Alteromonadales      -1.575669 8.570961e-02\n",
        "27 OTU.124         Fusobacteriia    Fusobacteriales      -1.535678 9.697651e-02\n"
       ]
      }
     ],
     "prompt_number": 45
    },
    {
     "cell_type": "code",
     "collapsed": false,
     "input": [
      "%%R -w 500 -h 300\n",
      "d = filter(df.l2fc.bact, sp.thresh == \"0.1\", padj <= FDR) %.% arrange(desc(abs(log2FoldChange)))\n",
      "\n",
      "p = ggplot(d, aes(x = Rank4, y = log2FoldChange, color = Rank3)) \n",
      "\n",
      "p = p + geom_hline(y = 0)\n",
      "\n",
      "p = p + geom_point(size = 4, alpha = 0.75)\n",
      "\n",
      "p = p + theme(axis.text.x = element_text(size = 10, angle = -90, vjust = 0.5, hjust = 0))\n",
      "\n",
      "p.l2fc = p\n",
      "\n",
      "p"
     ],
     "language": "python",
     "metadata": {},
     "outputs": [
      {
       "metadata": {},
       "output_type": "display_data",
       "png": "[encoded data removed]"
      }
     ],
     "prompt_number": 51
    },
    {
     "cell_type": "code",
     "collapsed": false,
     "input": [
      "%%R\n",
      "ggsave(\"figs/HighLow.l2fc.pdf\", p.l2fc, w = 6, h = 3.5)"
     ],
     "language": "python",
     "metadata": {},
     "outputs": [],
     "prompt_number": 53
    },
    {
     "cell_type": "code",
     "collapsed": false,
     "input": [
      "FileLink(\"figs/HighLow.l2fc.pdf\")"
     ],
     "language": "python",
     "metadata": {},
     "outputs": [
      {
       "html": [
        "<a href='figs/HighLow.l2fc.pdf' target='_blank'>figs/HighLow.l2fc.pdf</a><br>"
       ],
       "metadata": {},
       "output_type": "pyout",
       "prompt_number": 55,
       "text": [
        "/home/chuck/working/chachie_nb/BvP_manuscript_figures/figs/HighLow.l2fc.pdf"
       ]
      }
     ],
     "prompt_number": 55
    },
    {
     "cell_type": "code",
     "collapsed": false,
     "input": [
      "%%R -h 350\n",
      "\n",
      "p = ggplot(d, aes(x = Rank3)) + geom_bar()\n",
      "\n",
      "p = p + theme(axis.text.x = element_text(size = 10, angle = -90, vjust = 0.5, hjust = 0))\n",
      "\n",
      "p"
     ],
     "language": "python",
     "metadata": {},
     "outputs": [
      {
       "metadata": {},
       "output_type": "display_data",
       "png": "[encoded data removed]"
      }
     ],
     "prompt_number": 49
    },
    {
     "cell_type": "code",
     "collapsed": false,
     "input": [
      "%%R\n",
      "write.table(subset(df.l2fc.bact, sp.thresh == \"0.1\"), \n",
      "            \"../data/HighLow.l2fc.bact.csv\",\n",
      "            row.names = FALSE,\n",
      "            sep = \",\")"
     ],
     "language": "python",
     "metadata": {},
     "outputs": [],
     "prompt_number": 19
    }
   ],
   "metadata": {}
  }
 ]
}