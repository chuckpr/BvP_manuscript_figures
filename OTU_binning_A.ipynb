{
 "metadata": {
  "name": ""
 },
 "nbformat": 3,
 "nbformat_minor": 0,
 "worksheets": [
  {
   "cells": [
    {
     "cell_type": "markdown",
     "metadata": {},
     "source": [
      "#This notebook outlines the steps for binning seqs into OTUs"
     ]
    },
    {
     "cell_type": "markdown",
     "metadata": {},
     "source": [
      "###We will start with our final QC sequences. I'm going to use usearch to bin sequences and then use Robert Edgars python scripts to make a table that is compatible with QIIME. "
     ]
    },
    {
     "cell_type": "code",
     "collapsed": false,
     "input": [
      "%pylab inline"
     ],
     "language": "python",
     "metadata": {},
     "outputs": [
      {
       "output_type": "stream",
       "stream": "stdout",
       "text": [
        "Populating the interactive namespace from numpy and matplotlib\n"
       ]
      }
     ],
     "prompt_number": 1
    },
    {
     "cell_type": "code",
     "collapsed": false,
     "input": [
      "from cogent.parse.fasta import MinimalFastaParser\n",
      "lengths = []\n",
      "for n, s in MinimalFastaParser(open(\"data/finalQC_A.fasta\")):\n",
      "    lengths.append(len(s))\n",
      "lengths = array(lengths)\n",
      "print lengths.min(), lengths.max(), lengths.mean()"
     ],
     "language": "python",
     "metadata": {},
     "outputs": [
      {
       "output_type": "stream",
       "stream": "stdout",
       "text": [
        "128 145 141.172901899\n"
       ]
      }
     ],
     "prompt_number": 2
    },
    {
     "cell_type": "markdown",
     "metadata": {},
     "source": [
      "####First we dereplicate our sequence collection."
     ]
    },
    {
     "cell_type": "code",
     "collapsed": false,
     "input": [
      "!usearch -derep_fulllength data/finalQC_A.fasta \\\n",
      "-output data/A/finalQC_uniques.fasta \\\n",
      "-sizeout -threads 4"
     ],
     "language": "python",
     "metadata": {},
     "outputs": [
      {
       "output_type": "stream",
       "stream": "stdout",
       "text": [
        "usearch v7.0.1001_i86linux32, 4.0Gb RAM (16.4Gb total), 8 cores\r\n",
        "(C) Copyright 2013 Robert C. Edgar, all rights reserved.\r\n",
        "http://drive5.com\r\n",
        "\r\n",
        "Licensed to: chuck.peperanney@gmail.com\r\n",
        "\r\n",
        "00:00 2.1Mb Reading data/finalQC_A.fasta, 7.2Mb\r\n",
        "00:00 9.3Mb 44719 (44.7k) seqs, min 128, avg 141, max 145nt\r\n"
       ]
      },
      {
       "output_type": "stream",
       "stream": "stdout",
       "text": [
        "00:00  38Mb 9756 uniques, avg cluster 4.6, median 1, max 3585\r\n",
        "00:00  38Mb    0.0% Writing data/A/finalQC_uniques.fasta\r"
       ]
      },
      {
       "output_type": "stream",
       "stream": "stdout",
       "text": [
        "00:00  38Mb  100.0% Writing data/A/finalQC_uniques.fasta\r",
        "\r\n"
       ]
      }
     ],
     "prompt_number": 3
    },
    {
     "cell_type": "markdown",
     "metadata": {},
     "source": [
      "####Next, sort the unique sequences by abundance discarding singleton reads."
     ]
    },
    {
     "cell_type": "code",
     "collapsed": false,
     "input": [
      "!usearch -sortbysize data/A/finalQC_uniques.fasta \\\n",
      "-output data/A/finalQC_uniques_sorted.fasta \\\n",
      "-minsize 2"
     ],
     "language": "python",
     "metadata": {},
     "outputs": [
      {
       "output_type": "stream",
       "stream": "stdout",
       "text": [
        "usearch v7.0.1001_i86linux32, 4.0Gb RAM (16.4Gb total), 8 cores\r\n",
        "(C) Copyright 2013 Robert C. Edgar, all rights reserved.\r\n",
        "http://drive5.com\r\n",
        "\r\n",
        "Licensed to: chuck.peperanney@gmail.com\r\n",
        "\r\n",
        "00:00 2.1Mb Reading data/A/finalQC_uniques.fasta, 1.6Mb\r\n",
        "00:00 3.8Mb 9756 seqs, min 128, avg 141, max 145nt\r\n",
        "00:00 3.9Mb Getting sizes\r\n",
        "00:00 3.9Mb Sorting 2259 sequences\r\n",
        "00:00 3.9Mb    0.0% Writing data/A/finalQC_uniques_sorted.fasta\r",
        "00:00 3.9Mb  100.0% Writing data/A/finalQC_uniques_sorted.fasta\r",
        "\r\n"
       ]
      }
     ],
     "prompt_number": 4
    },
    {
     "cell_type": "code",
     "collapsed": false,
     "input": [
      "!head data/A/finalQC_uniques_sorted.fasta"
     ],
     "language": "python",
     "metadata": {},
     "outputs": [
      {
       "output_type": "stream",
       "stream": "stdout",
       "text": [
        ">B1.15.7.10_0;size=3585;\r\n",
        "TTTACTGTAACTTGAAATTGAAATTGGACTTTATTCGCGCAGTATAGGTGGGAGGCGTTGATTGTAATCTTGCGGGATTA\r\n",
        "TTGGAGCCATCAGTGAGATACCACTCTTGTAATGTTAGATTTCTAACTTTGTATCATTATC\r\n",
        ">B1.15.7.10_2010;size=2952;\r\n",
        "TTTACTGTAGCTTGGTATTGTGCTCGGGCTCGCAATGCGCAGGATAGGTGGGAGGCTTTGATCCATTGCTTGTGGGTGAT\r\n",
        "GGTGAGCCACTGGTGAGATACCACTCTTTGCGAGCTAGGGTTCTAACGGTTACCCGTTATC\r\n",
        ">B1.15.7.10_2;size=2316;\r\n",
        "TTTACTGTAACTTGAAATTGAAATTGGACTTTATTCGCGCAGTATAGGTGGGAGGTGTTGATTATAATCTTGCGGGATTA\r\n",
        "TTGGAGCCATCAGTGAGATACCACTCTTGTAATGTTAGATTTCTAACTTTGAATCATTATC\r\n",
        ">B1.15.7.10_481;size=2155;\r\n"
       ]
      }
     ],
     "prompt_number": 5
    },
    {
     "cell_type": "markdown",
     "metadata": {},
     "source": [
      "####Here we find cluster centroids with the input order based on read abundance."
     ]
    },
    {
     "cell_type": "code",
     "collapsed": false,
     "input": [
      "!usearch -cluster_otus data/A/finalQC_uniques_sorted.fasta -otus data/A/otus.fasta"
     ],
     "language": "python",
     "metadata": {},
     "outputs": [
      {
       "output_type": "stream",
       "stream": "stdout",
       "text": [
        "usearch v7.0.1001_i86linux32, 4.0Gb RAM (16.4Gb total), 8 cores\r\n",
        "(C) Copyright 2013 Robert C. Edgar, all rights reserved.\r\n",
        "http://drive5.com\r\n",
        "\r\n",
        "Licensed to: chuck.peperanney@gmail.com\r\n",
        "\r\n",
        "00:00  21Mb    0.1% 0 OTUs\r"
       ]
      },
      {
       "output_type": "stream",
       "stream": "stdout",
       "text": [
        "00:00  31Mb  100.0% 359 OTUs\r",
        "\r\n",
        "                            \r\n",
        "Input seqs  2259\r\n",
        "      OTUs  359\r\n",
        "   Members  1891\r\n",
        "  Chimeras  9\r\n",
        "   Max mem  31Mb\r\n",
        "      Time  1.00s\r\n",
        "Throughput  2259.0 seqs/sec.\r\n",
        "\r\n"
       ]
      }
     ],
     "prompt_number": 6
    },
    {
     "cell_type": "markdown",
     "metadata": {},
     "source": [
      "####This just numbers our OTUs and gives each OTU name the \"OTU.\" prefix."
     ]
    },
    {
     "cell_type": "code",
     "collapsed": false,
     "input": [
      "!/opt/edgar_python_scripts/fasta_number.py data/A/otus.fasta OTU. > data/A/otusn.fasta"
     ],
     "language": "python",
     "metadata": {},
     "outputs": [],
     "prompt_number": 7
    },
    {
     "cell_type": "code",
     "collapsed": false,
     "input": [
      "!mothur \"#summary.seqs(fasta=data/A/otusn.fasta)\""
     ],
     "language": "python",
     "metadata": {},
     "outputs": [
      {
       "output_type": "stream",
       "stream": "stdout",
       "text": [
        "\u001b[H\u001b[2J\r\n",
        "\r\n",
        "\r\n",
        "\r\n",
        "\r\n",
        "\r\n",
        "mothur v.1.32.1\r\n",
        "Last updated: 10/16/2013\r\n",
        "\r\n",
        "by\r\n",
        "Patrick D. Schloss\r\n",
        "\r\n",
        "Department of Microbiology & Immunology\r\n",
        "University of Michigan\r\n",
        "pschloss@umich.edu\r\n",
        "http://www.mothur.org\r\n",
        "\r\n",
        "When using, please cite:\r\n",
        "Schloss, P.D., et al., Introducing mothur: Open-source, platform-independent, community-supported software for describing and comparing microbial communities. Appl Environ Microbiol, 2009. 75(23):7537-41.\r\n",
        "\r\n",
        "Distributed under the GNU General Public License\r\n",
        "\r\n",
        "Type 'help()' for information on the commands that are available\r\n",
        "\r\n",
        "Type 'quit()' to exit program\r\n",
        "\r\n",
        "\r\n",
        "\r\n",
        "mothur > summary.seqs(fasta=data/A/otusn.fasta)\r\n",
        "\r\n",
        "Using 1 processors.\r\n",
        "\r\n",
        "\t\tStart\tEnd\tNBases\tAmbigs\tPolymer\tNumSeqs\r\n",
        "Minimum:\t1\t128\t128\t0\t3\t1\r\n",
        "2.5%-tile:\t1\t133\t133\t0\t3\t9\r\n",
        "25%-tile:\t1\t141\t141\t0\t3\t90\r\n",
        "Median: \t1\t141\t141\t0\t4\t180\r\n",
        "75%-tile:\t1\t142\t142\t0\t4\t270\r\n",
        "97.5%-tile:\t1\t143\t143\t0\t5\t351\r\n",
        "Maximum:\t1\t144\t144\t0\t8\t359\r\n",
        "Mean:\t1\t140.883\t140.883\t0\t3.79387\r\n",
        "# of Seqs:\t359\r\n",
        "\r\n",
        "Output File Names: \r\n",
        "data/A/otusn.summary\r\n",
        "\r\n",
        "\r\n",
        "mothur > quit()\r\n"
       ]
      }
     ],
     "prompt_number": 17
    },
    {
     "cell_type": "markdown",
     "metadata": {},
     "source": [
      "####This command formats our sequence collection so that we can use Robert Edgars uc2otutab.py\n",
      "####script to make an OTU table (tab-delimitted) from our readmap."
     ]
    },
    {
     "cell_type": "code",
     "collapsed": false,
     "input": [
      "!awk -F\"_\" \\\n",
      "'BEGIN{OFS=\";\"}{ if ( substr($1,0,1) == \">\"){ print $0,\"barcodelabel=\",$1 } \\\n",
      "else { print $0 } }' \\\n",
      "data/finalQC_A.fasta | \\\n",
      "sed 's/;>//' > data/A/finalQC_usearchfmt.fasta"
     ],
     "language": "python",
     "metadata": {},
     "outputs": [],
     "prompt_number": 8
    },
    {
     "cell_type": "markdown",
     "metadata": {},
     "source": [
      "####Map all reads to OTU centroids."
     ]
    },
    {
     "cell_type": "code",
     "collapsed": false,
     "input": [
      "!usearch -usearch_global data/A/finalQC_usearchfmt.fasta \\\n",
      "-db data/A/otusn.fasta \\\n",
      "-strand plus -id 0.97 \\\n",
      "-uc data/A/readmap.uc \\\n",
      "-threads 4"
     ],
     "language": "python",
     "metadata": {},
     "outputs": [
      {
       "output_type": "stream",
       "stream": "stdout",
       "text": [
        "usearch v7.0.1001_i86linux32, 4.0Gb RAM (16.4Gb total), 8 cores\r\n",
        "(C) Copyright 2013 Robert C. Edgar, all rights reserved.\r\n",
        "http://drive5.com\r\n",
        "\r\n",
        "Licensed to: chuck.peperanney@gmail.com\r\n",
        "\r\n",
        "00:00  19Mb Reading data/A/otusn.fasta, 54.4kb\r\n",
        "00:00  19Mb 359 seqs, min 128, avg 141, max 144nt\r\n",
        "00:00  19Mb    0.3% Masking\r",
        "00:00  19Mb  100.0% Masking\r",
        "\r\n",
        "00:00  19Mb    0.3% Word stats\r",
        "00:00  19Mb  100.0% Word stats\r",
        "\r\n",
        "00:00  20Mb    0.0% Building slots\r",
        "00:00  20Mb  100.0% Building slots\r",
        "\r\n",
        "00:00  20Mb    0.3% Build index   \r",
        "00:00  20Mb  100.0% Build index\r",
        "\r\n",
        "00:00  47Mb    0.1% Searching, 0.0% matched\r"
       ]
      },
      {
       "output_type": "stream",
       "stream": "stdout",
       "text": [
        "00:00  54Mb  100.0% Searching, 97.8% matched\r",
        "\r\n"
       ]
      }
     ],
     "prompt_number": 9
    },
    {
     "cell_type": "markdown",
     "metadata": {},
     "source": [
      "####Convert the readmap to a tab-delimitted OTU table."
     ]
    },
    {
     "cell_type": "code",
     "collapsed": false,
     "input": [
      "!python /opt/edgar_python_scripts/uc2otutab.py data/A/readmap.uc > data/A/otu_table.txt"
     ],
     "language": "python",
     "metadata": {},
     "outputs": [
      {
       "output_type": "stream",
       "stream": "stdout",
       "text": [
        "data/A/readmap.uc   0.0%   \r"
       ]
      },
      {
       "output_type": "stream",
       "stream": "stdout",
       "text": [
        "data/A/readmap.uc 100.0%   \r\n"
       ]
      }
     ],
     "prompt_number": 10
    },
    {
     "cell_type": "markdown",
     "metadata": {},
     "source": [
      "####We can use the biom Python package to convert the OTU table to the biom format."
     ]
    },
    {
     "cell_type": "code",
     "collapsed": false,
     "input": [
      "!if [ -f data/A/otu_table.biom ]; then rm data/A/otu_table.biom; fi \n",
      "!biom convert -i data/A/otu_table.txt -o data/A/otu_table.biom --table-type \"otu table\""
     ],
     "language": "python",
     "metadata": {},
     "outputs": [],
     "prompt_number": 11
    },
    {
     "cell_type": "code",
     "collapsed": false,
     "input": [
      "!if [ -f data/A/otu_table_summary.txt ]; then rm data/A/otu_table_summary.txt; fi \n",
      "!biom summarize-table -i data/A/otu_table.biom -o data/A/otu_table_summary.txt"
     ],
     "language": "python",
     "metadata": {},
     "outputs": [],
     "prompt_number": 15
    },
    {
     "cell_type": "markdown",
     "metadata": {},
     "source": [
      "####Here's the summary of our OTU table."
     ]
    },
    {
     "cell_type": "code",
     "collapsed": false,
     "input": [
      "!cat data/A/otu_table_summary.txt"
     ],
     "language": "python",
     "metadata": {},
     "outputs": [
      {
       "output_type": "stream",
       "stream": "stdout",
       "text": [
        "Num samples: 14\r\n",
        "Num observations: 359\r\n",
        "Total count: 43727\r\n",
        "Table density (fraction of non-zero values): 0.330\r\n",
        "Table md5 (unzipped): 94dc021940243dfb685b309d15555cd5\r\n",
        "\r\n",
        "Counts/sample summary:\r\n",
        " Min: 1798.0\r\n",
        " Max: 5746.0\r\n",
        " Median: 2590.500\r\n",
        " Mean: 3123.357\r\n",
        " Std. dev.: 1290.217\r\n",
        " Sample Metadata Categories: None provided\r\n",
        " Observation Metadata Categories: None provided\r\n",
        "\r\n",
        "Counts/sample detail:\r\n",
        " P3.24.7.10: 1798.0\r\n",
        " B1.24.7.10: 1835.0\r\n",
        " B1.15.7.10: 2033.0\r\n",
        " B4.24.7.10: 2044.0\r\n",
        " B2.24.7.10: 2289.0\r\n",
        " P2.24.7.10: 2291.0\r\n",
        " B3.15.7.10: 2480.0\r\n",
        " P1.15.7.10: 2701.0\r\n",
        " B2.15.7.10: 2995.0\r\n",
        " B3.24.7.10: 3721.0\r\n",
        " P1.24.7.70: 3893.0\r\n",
        " P4.24.7.10: 4232.0\r\n",
        " P2.15.7.10: 5669.0\r\n",
        " P3.15.7.10: 5746.0\r\n"
       ]
      }
     ],
     "prompt_number": 16
    }
   ],
   "metadata": {}
  }
 ]
}