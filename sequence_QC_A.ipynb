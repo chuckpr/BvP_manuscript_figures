{
 "metadata": {
  "name": ""
 },
 "nbformat": 3,
 "nbformat_minor": 0,
 "worksheets": [
  {
   "cells": [
    {
     "cell_type": "markdown",
     "metadata": {},
     "source": [
      "#This notebook outlines the QC for the chachie A reads."
     ]
    },
    {
     "cell_type": "markdown",
     "metadata": {},
     "source": [
      "###First we'll demultiplex the sequences using a QIIME script. Since we'll be using truncation length and max expected errors to filter seqeunces we'll turn off all the default QIIME QC paramaters in the demultiplexing script."
     ]
    },
    {
     "cell_type": "code",
     "collapsed": false,
     "input": [
      "%pylab inline"
     ],
     "language": "python",
     "metadata": {},
     "outputs": [
      {
       "output_type": "stream",
       "stream": "stdout",
       "text": [
        "Populating the interactive namespace from numpy and matplotlib\n"
       ]
      }
     ],
     "prompt_number": 8
    },
    {
     "cell_type": "code",
     "collapsed": false,
     "input": [
      "from cogent.parse.fasta import MinimalFastaParser\n",
      "seq_lengths = []\n",
      "for n, s in MinimalFastaParser(open(\"data/raw/A/combined.fasta\")):\n",
      "    seq_lengths.append(len(s))\n",
      "seq_lengths = array(seq_lengths)\n",
      "max_length =  seq_lengths.max()\n",
      "print max_length\n",
      "N, bins, bars = hist(seq_lengths, bins=50)\n",
      "xlab = xlabel(\"readlength, nt\")\n",
      "ylab = ylabel(\"# of seqs\")"
     ],
     "language": "python",
     "metadata": {},
     "outputs": [
      {
       "output_type": "stream",
       "stream": "stdout",
       "text": [
        "539\n"
       ]
      },
      {
       "metadata": {},
       "output_type": "display_data",
       "png": "[encoded data removed]",
       "text": [
        "<matplotlib.figure.Figure at 0x2ce2850>"
       ]
      }
     ],
     "prompt_number": 9
    },
    {
     "cell_type": "markdown",
     "metadata": {},
     "source": [
      "###This is the demultiplexing command. (Note how some values are set at the max read length and some are zero. This effectively turns off these QC paramaters.)"
     ]
    },
    {
     "cell_type": "code",
     "collapsed": false,
     "input": [
      "!split_libraries_fastq.py \\\n",
      "-b data/raw/A/fastq/combined.fastq \\\n",
      "--store_demultiplexed_fastq \\\n",
      "-r 540 \\\n",
      "-p 0 \\\n",
      "-n 540 \\\n",
      "-q 0 \\\n",
      "--barcode_type 8 \\\n",
      "--max_barcode_errors 0 \\\n",
      "-i data/raw/A/fastq/combined.fastq \\\n",
      "-m data/chachie_mapper_A.txt \\\n",
      "-o data/demultiplexed_A"
     ],
     "language": "python",
     "metadata": {},
     "outputs": [],
     "prompt_number": 10
    },
    {
     "cell_type": "markdown",
     "metadata": {},
     "source": [
      "###Let's look at the log for the demultiplexing."
     ]
    },
    {
     "cell_type": "code",
     "collapsed": false,
     "input": [
      "!head -n 20 data/demultiplexed_A/split_library_log.txt"
     ],
     "language": "python",
     "metadata": {},
     "outputs": [
      {
       "output_type": "stream",
       "stream": "stdout",
       "text": [
        "Input file paths\r\n",
        "Mapping filepath: data/chachie_mapper_A.txt (md5: 444ab63149521a3e8f427c4c3b437bde)\r\n",
        "Sequence read filepath: data/raw/A/fastq/combined.fastq (md5: 6624ea56174254b5616604534292601b)\r\n",
        "Barcode read filepath: data/raw/A/fastq/combined.fastq (md5: 6624ea56174254b5616604534292601b)\r\n",
        "\r\n",
        "Quality filter results\r\n",
        "Total number of input sequences: 78695\r\n",
        "Barcode not in mapping file: 0\r\n",
        "Read too short after quality truncation: 0\r\n",
        "Count of N characters exceeds limit: 0\r\n",
        "Illumina quality digit = 0: 0\r\n",
        "Barcode errors exceed max: 0\r\n",
        "\r\n",
        "Result summary (after quality filtering)\r\n",
        "Median sequence length: 350.00\r\n",
        "P2.15.7.10\t10693\r\n",
        "P3.15.7.10\t9737\r\n",
        "P4.24.7.10\t7160\r\n",
        "B3.24.7.10\t7123\r\n",
        "P1.24.7.70\t5398\r\n"
       ]
      }
     ],
     "prompt_number": 11
    },
    {
     "cell_type": "markdown",
     "metadata": {},
     "source": [
      "###We'll use the maximum expected error threshold to cull poor quality sequences from those that remain. You can find the paper outlining this QC approach [here](http://www.nature.com/nmeth/journal/v10/n10/full/nmeth.2604.html)."
     ]
    },
    {
     "cell_type": "markdown",
     "metadata": {},
     "source": [
      "###First we need to explore the data set further. We can use the \"fastq_stats\" subcommand in the usearch program to get a feel for how different maximum expected errors and truncation lengths will work with our data set."
     ]
    },
    {
     "cell_type": "code",
     "collapsed": false,
     "input": [
      "!usearch -fastq_stats data/demultiplexed_B/seqs.fastq -log data/demultiplexed_A/stats.log"
     ],
     "language": "python",
     "metadata": {},
     "outputs": [
      {
       "output_type": "stream",
       "stream": "stdout",
       "text": [
        "usearch v7.0.1001_i86linux32, 4.0Gb RAM (16.4Gb total), 8 cores\r\n",
        "(C) Copyright 2013 Robert C. Edgar, all rights reserved.\r\n",
        "http://drive5.com\r\n",
        "\r\n",
        "Licensed to: chuck.peperanney@gmail.com\r\n",
        "\r\n",
        "00:00 2.3Mb    0.0% Reading\r",
        "00:00  37Mb    0.0% Reading data/demultiplexed_B/seqs.fastq\r",
        "00:00  37Mb    0.0% Reading data/demultiplexed_B/seqs.fastq\r",
        "00:00  37Mb    0.0% Reading data/demultiplexed_B/seqs.fastq\r"
       ]
      },
      {
       "output_type": "stream",
       "stream": "stdout",
       "text": [
        "00:00  37Mb  100.0% Reading data/demultiplexed_B/seqs.fastq\r",
        "\r\n"
       ]
      },
      {
       "output_type": "stream",
       "stream": "stdout",
       "text": [
        "     56322  Recs (56.3k), 0 too long                       \r\n",
        "     292.0  Avg length\r\n",
        "     16.4M  Bases\r\n"
       ]
      }
     ],
     "prompt_number": 12
    },
    {
     "cell_type": "markdown",
     "metadata": {},
     "source": [
      "###...and we can look at the stats."
     ]
    },
    {
     "cell_type": "code",
     "collapsed": false,
     "input": [
      "!head -n 10 data/demultiplexed_A/stats.log"
     ],
     "language": "python",
     "metadata": {},
     "outputs": [
      {
       "output_type": "stream",
       "stream": "stdout",
       "text": [
        "usearch v7.0.1001_i86linux32, 4.0Gb RAM (16.4Gb total), 8 cores\r\n",
        "usearch -fastq_stats data/demultiplexed_B/seqs.fastq -log data/demultiplexed_A/stats.log \r\n",
        "Started Fri Dec  6 09:37:33 2013\r\n",
        "\r\n",
        "Read length distribution\r\n",
        "      L           N      Pct   AccPct\r\n",
        "-------  ----------  -------  -------\r\n",
        ">=  511          47     0.1%     1.1%\r\n",
        "    510          55     0.1%     1.2%\r\n",
        "    509          61     0.1%     1.3%\r\n"
       ]
      }
     ],
     "prompt_number": 13
    },
    {
     "cell_type": "markdown",
     "metadata": {},
     "source": [
      "###Unfortunately usearch doesn't provide the stats in a very useful format at the moment. All the stats are dumped in one file that is not easily parsed (ie it is meant to be human readable). I pulled out the relevant table for our data set and converted it to csv format and named the file \"L_v_ee.csv\". It is located in the \"data\" directory."
     ]
    },
    {
     "cell_type": "markdown",
     "metadata": {},
     "source": [
      "###We can read in the L_v_ee.csv file using the pandas module."
     ]
    },
    {
     "cell_type": "code",
     "collapsed": false,
     "input": [
      "from pandas import read_csv\n",
      "df = read_csv(\"data/demultiplexed_A/L_v_ee.csv\", index_col=0, usecols=[0,5,6,7,8])"
     ],
     "language": "python",
     "metadata": {},
     "outputs": [],
     "prompt_number": 14
    },
    {
     "cell_type": "code",
     "collapsed": false,
     "input": [
      "%matplotlib inline\n",
      "ax = df.plot()\n",
      "fig = ax.get_figure()\n",
      "ylab = ax.set_ylabel(\"Percent of Reads Passing Filter\")"
     ],
     "language": "python",
     "metadata": {},
     "outputs": [
      {
       "metadata": {},
       "output_type": "display_data",
       "png": "[encoded data removed]",
       "text": [
        "<matplotlib.figure.Figure at 0x3a02ad0>"
       ]
      }
     ],
     "prompt_number": 15
    },
    {
     "cell_type": "code",
     "collapsed": false,
     "input": [
      "max_ee = \"1.00\"\n",
      "truncation_length = 175\n",
      "pct_retatined = df[max_ee][truncation_length] \n",
      "#this is the actual percentage of reads will be kept with the above criteria\n",
      "print pct_retatined"
     ],
     "language": "python",
     "metadata": {},
     "outputs": [
      {
       "output_type": "stream",
       "stream": "stdout",
       "text": [
        "61.56\n"
       ]
      }
     ],
     "prompt_number": 16
    },
    {
     "cell_type": "markdown",
     "metadata": {},
     "source": [
      "###Seems like we can use the max expected error of 1.00 and still retain approximately 60% of our reads if we truncate at 175 bases."
     ]
    },
    {
     "cell_type": "markdown",
     "metadata": {},
     "source": [
      "###We'll use usearch to filter reads given the above criteria and write the results to the tmp directory because we'll want to do a few extra steps before finalizing the QC."
     ]
    },
    {
     "cell_type": "code",
     "collapsed": false,
     "input": [
      "!mkdir -p data/tmp/A"
     ],
     "language": "python",
     "metadata": {},
     "outputs": [],
     "prompt_number": 17
    },
    {
     "cell_type": "code",
     "collapsed": false,
     "input": [
      "!usearch -fastq_filter data/demultiplexed_A/seqs.fastq \\\n",
      "-fastq_maxee \"$max_ee\" \\\n",
      "-fastq_trunclen \"$truncation_length\" \\\n",
      "-fastaout \"data/tmp/A/maxee_trunc_A.fasta\""
     ],
     "language": "python",
     "metadata": {},
     "outputs": [
      {
       "output_type": "stream",
       "stream": "stdout",
       "text": [
        "usearch v7.0.1001_i86linux32, 4.0Gb RAM (16.4Gb total), 8 cores\r\n",
        "(C) Copyright 2013 Robert C. Edgar, all rights reserved.\r\n",
        "http://drive5.com\r\n",
        "\r\n",
        "Licensed to: chuck.peperanney@gmail.com\r\n",
        "\r\n",
        "00:00 2.1Mb    0.0% Converting\r",
        "00:00 2.1Mb    0.0% Converting, 0 recs, 0 converted (0.0%)\r"
       ]
      },
      {
       "output_type": "stream",
       "stream": "stdout",
       "text": [
        "00:00 2.1Mb  100.0% Converting, 78.7k recs, 45382 converted (57.7%)\r",
        "\r\n",
        "     78695  FASTQ recs (78.7k)                                     \r\n",
        "     24487  Short recs discarded (<175)\r\n",
        "      8826  Low qual recs discarded (expected errs > 1.00)\r\n",
        "     45382  Converted (45.4k, 57.7%)\r\n"
       ]
      }
     ],
     "prompt_number": 18
    },
    {
     "cell_type": "markdown",
     "metadata": {},
     "source": [
      "###The following code finds and removes the forward primer. It's a bit more sophisticated than just clipping the sequences at a certain length so that it can find and remove primer sequences with indel and substitution errors. It's kind of slow to do all the pairwise alignments so be patient."
     ]
    },
    {
     "cell_type": "code",
     "collapsed": false,
     "input": [
      "from qiime.split_libraries import local_align_primer_seq\n",
      "from cogent.parse.fasta import MinimalFastaParser\n",
      "from cogent import DNA\n",
      "out = open(\"data/tmp/A/maxee_trunclen_A_primertrim.fasta\", \"w\")\n",
      "for n, s in MinimalFastaParser(open(\"data/tmp/A/maxee_trunc_A.fasta\")):\n",
      "    mm, pos = local_align_primer_seq(primer = DNA.makeSequence(\"GGACAGAAAGACCCTATGAA\").rc(),\n",
      "                                     sequence=DNA.makeSequence(s).rc())\n",
      "    s_trim_rc = DNA.makeSequence(s).rc()[:pos]\n",
      "    s_trim = s_trim_rc.rc()\n",
      "    out.write(\">%s\\n%s\\n\"%(n,s_trim))\n",
      "out.close()"
     ],
     "language": "python",
     "metadata": {},
     "outputs": [],
     "prompt_number": 19
    },
    {
     "cell_type": "code",
     "collapsed": false,
     "input": [
      "!head -n2 data/tmp/A/maxee_trunclen_A_primertrim.fasta\n",
      "!head -n2 data/tmp/A/maxee_trunc_A.fasta"
     ],
     "language": "python",
     "metadata": {},
     "outputs": [
      {
       "output_type": "stream",
       "stream": "stdout",
       "text": [
        ">B1.15.7.10_0 GXJS2L204I0679 orig_bc=GTTGATTA new_bc=GTTGATTA bc_diffs=0\r\n",
        "GCTTTACTGTAACTTGAAATTGAAATTGGACTTTATTCGCGCAGTATAGGTGGGAGGCGTTGATTGTAATCTTGCGGGATTATTGGAGCCATCAGTGAGATACCACTCTTGTAATGTTAGATTTCTAACTTTGTATCATTATCTGGT\r\n"
       ]
      },
      {
       "output_type": "stream",
       "stream": "stdout",
       "text": [
        ">B1.15.7.10_0 GXJS2L204I0679 orig_bc=GTTGATTA new_bc=GTTGATTA bc_diffs=0\r\n",
        "GTTGATTAGGACAGAAAGACCCTATGAAGCTTTACTGTAACTTGAAATTGAAATTGGACTTTATTCGCGCAGTATAGGTGGGAGGCGTTGATTGTAATCTTGCGGGATTATTGGAGCCATCAGTGAGATACCACTCTTGTAATGTTAGATTTCTAACTTTGTATCATTATCTGGT\r\n"
       ]
      }
     ],
     "prompt_number": 20
    },
    {
     "cell_type": "markdown",
     "metadata": {},
     "source": [
      "###We won't worry about the reverse primer because we had to trim our reads well before the full amplicon length."
     ]
    },
    {
     "cell_type": "markdown",
     "metadata": {},
     "source": [
      "###Now we want to do some alignment based screening. Mothur is a useful tool for this purpose."
     ]
    },
    {
     "cell_type": "markdown",
     "metadata": {},
     "source": [
      "###First we need to make an alignment. We'll use the Mothur NAST alignet against the LSURef database from Silva to do this."
     ]
    },
    {
     "cell_type": "markdown",
     "metadata": {},
     "source": [
      "####First derepicate sequences. This command will produce a fasta file of unique sequences and a Mothur names file."
     ]
    },
    {
     "cell_type": "code",
     "collapsed": false,
     "input": [
      "%%bash\n",
      "mothur \"#unique.seqs(fasta=data/tmp/A/maxee_trunclen_A_primertrim.fasta\\)\" > /dev/null"
     ],
     "language": "python",
     "metadata": {},
     "outputs": [],
     "prompt_number": 21
    },
    {
     "cell_type": "code",
     "collapsed": false,
     "input": [
      "!grep -c \">\" data/tmp/A/maxee_trunclen_A_primertrim.unique.fasta\n",
      "!grep -c \">\" data/tmp/A/maxee_trunclen_A_primertrim.fasta"
     ],
     "language": "python",
     "metadata": {},
     "outputs": [
      {
       "output_type": "stream",
       "stream": "stdout",
       "text": [
        "11069\r\n"
       ]
      },
      {
       "output_type": "stream",
       "stream": "stdout",
       "text": [
        "45382\r\n"
       ]
      }
     ],
     "prompt_number": 22
    },
    {
     "cell_type": "markdown",
     "metadata": {},
     "source": [
      "####Now we'll align the seqs."
     ]
    },
    {
     "cell_type": "code",
     "collapsed": false,
     "input": [
      "%%bash\n",
      "mothur \"#align.seqs(template=ref_db/silva/LSU/LSURef115.fasta, \\\n",
      "candidate=data/tmp/A/maxee_trunclen_A_primertrim.unique.fasta, \\\n",
      "flip=t, \\\n",
      "processors=6)\" > /dev/null"
     ],
     "language": "python",
     "metadata": {},
     "outputs": [],
     "prompt_number": 23
    },
    {
     "cell_type": "code",
     "collapsed": false,
     "input": [
      "%%bash\n",
      "mothur \"#filter.seqs(fasta=data/tmp/A/maxee_trunclen_A_primertrim.unique.align, \\\n",
      "processors=6, \\\n",
      "vertical=T)\" > /dev/null"
     ],
     "language": "python",
     "metadata": {},
     "outputs": [],
     "prompt_number": 24
    },
    {
     "cell_type": "markdown",
     "metadata": {},
     "source": [
      "###This is what our reads that have passed QC so far look like."
     ]
    },
    {
     "cell_type": "code",
     "collapsed": false,
     "input": [
      "%%bash\n",
      "mothur \"#summary.seqs(fasta=data/tmp/A/maxee_trunclen_A_primertrim.unique.filter.fasta)\""
     ],
     "language": "python",
     "metadata": {},
     "outputs": [
      {
       "output_type": "stream",
       "stream": "stdout",
       "text": [
        "\u001b[H\u001b[2J\n",
        "\n",
        "\n",
        "\n",
        "\n",
        "\n",
        "mothur v.1.32.1\n",
        "Last updated: 10/16/2013\n",
        "\n",
        "by\n",
        "Patrick D. Schloss\n",
        "\n",
        "Department of Microbiology & Immunology\n",
        "University of Michigan\n",
        "pschloss@umich.edu\n",
        "http://www.mothur.org\n",
        "\n",
        "When using, please cite:\n",
        "Schloss, P.D., et al., Introducing mothur: Open-source, platform-independent, community-supported software for describing and comparing microbial communities. Appl Environ Microbiol, 2009. 75(23):7537-41.\n",
        "\n",
        "Distributed under the GNU General Public License\n",
        "\n",
        "Type 'help()' for information on the commands that are available\n",
        "\n",
        "Type 'quit()' to exit program\n",
        "\n",
        "\n",
        "\n",
        "mothur > summary.seqs(fasta=data/tmp/A/maxee_trunclen_A_primertrim.unique.filter.fasta)\n",
        "\n",
        "Using 1 processors.\n",
        "\n",
        "\t\tStart\tEnd\tNBases\tAmbigs\tPolymer\tNumSeqs\n",
        "Minimum:\t1\t4\t1\t0\t1\t1\n",
        "2.5%-tile:\t633\t854\t147\t0\t3\t277\n",
        "25%-tile:\t633\t856\t147\t0\t3\t2768\n",
        "Median: \t633\t857\t147\t0\t3\t5535\n",
        "75%-tile:\t633\t857\t147\t0\t4\t8302\n",
        "97.5%-tile:\t633\t869\t148\t0\t5\t10793\n",
        "Maximum:\t1185\t1190\t152\t0\t8\t11069\n",
        "Mean:\t631.939\t854.311\t146.134\t0\t3.60981\n",
        "# of Seqs:\t11069\n",
        "\n",
        "Output File Names: \n",
        "data/tmp/A/maxee_trunclen_A_primertrim.unique.filter.summary\n",
        "\n",
        "\n",
        "mothur > quit()\n"
       ]
      }
     ],
     "prompt_number": 25
    },
    {
     "cell_type": "markdown",
     "metadata": {},
     "source": [
      "###Let's remove seqs that don't appear to align to the expected amplicon region."
     ]
    },
    {
     "cell_type": "code",
     "collapsed": false,
     "input": [
      "%%bash\n",
      "mothur \"#screen.seqs(start=634, \\\n",
      "end=853, \\\n",
      "fasta=data/tmp/A/maxee_trunclen_A_primertrim.unique.filter.fasta, \\\n",
      "maxhomop=8, \\\n",
      "name=data/tmp/A/maxee_trunclen_A_primertrim.names)\" > /dev/null"
     ],
     "language": "python",
     "metadata": {},
     "outputs": [],
     "prompt_number": 26
    },
    {
     "cell_type": "code",
     "collapsed": false,
     "input": [
      "%%bash\n",
      "mothur \"#screen.seqs(start=634, \\\n",
      "end=853, \\\n",
      "fasta=data/tmp/A/maxee_trunclen_A_primertrim.unique.filter.fasta, \\\n",
      "maxhomop=8, \\\n",
      "name=data/tmp/A/maxee_trunclen_A_primertrim.names)\" > /dev/null"
     ],
     "language": "python",
     "metadata": {},
     "outputs": [],
     "prompt_number": 39
    },
    {
     "cell_type": "code",
     "collapsed": false,
     "input": [
      "%%bash\n",
      "mothur \"#summary.seqs(fasta=data/tmp/A/maxee_trunclen_A_primertrim.unique.filter.good.fasta, \\\n",
      "name=data/tmp/A/maxee_trunclen_A_primertrim.good.names)\""
     ],
     "language": "python",
     "metadata": {},
     "outputs": [
      {
       "output_type": "stream",
       "stream": "stdout",
       "text": [
        "\u001b[H\u001b[2J\n",
        "\n",
        "\n",
        "\n",
        "\n",
        "\n",
        "mothur v.1.32.1\n",
        "Last updated: 10/16/2013\n",
        "\n",
        "by\n",
        "Patrick D. Schloss\n",
        "\n",
        "Department of Microbiology & Immunology\n",
        "University of Michigan\n",
        "pschloss@umich.edu\n",
        "http://www.mothur.org\n",
        "\n",
        "When using, please cite:\n",
        "Schloss, P.D., et al., Introducing mothur: Open-source, platform-independent, community-supported software for describing and comparing microbial communities. Appl Environ Microbiol, 2009. 75(23):7537-41.\n",
        "\n",
        "Distributed under the GNU General Public License\n",
        "\n",
        "Type 'help()' for information on the commands that are available\n",
        "\n",
        "Type 'quit()' to exit program\n",
        "\n",
        "\n",
        "\n",
        "mothur > summary.seqs(fasta=data/tmp/A/maxee_trunclen_A_primertrim.unique.filter.good.fasta, name=data/tmp/A/maxee_trunclen_A_primertrim.good.names)\n",
        "\n",
        "Using 1 processors.\n",
        "\n",
        "\t\tStart\tEnd\tNBases\tAmbigs\tPolymer\tNumSeqs\n",
        "Minimum:\t632\t853\t145\t0\t3\t1\n",
        "2.5%-tile:\t633\t855\t147\t0\t3\t1123\n",
        "25%-tile:\t633\t856\t147\t0\t3\t11229\n",
        "Median: \t633\t857\t147\t0\t3\t22458\n",
        "75%-tile:\t633\t857\t147\t0\t4\t33686\n",
        "97.5%-tile:\t633\t865\t148\t0\t5\t43792\n",
        "Maximum:\t634\t877\t152\t0\t8\t44914\n",
        "Mean:\t633.001\t857.034\t147.024\t0\t3.44605\n",
        "# of unique seqs:\t10801\n",
        "total # of seqs:\t44914\n",
        "\n",
        "Output File Names: \n",
        "data/tmp/A/maxee_trunclen_A_primertrim.unique.filter.good.summary\n",
        "\n",
        "\n",
        "mothur > quit()\n"
       ]
      }
     ],
     "prompt_number": 40
    },
    {
     "cell_type": "markdown",
     "metadata": {},
     "source": [
      "###The following code trims our reads so that they all start and end at the same position in the 16S gene."
     ]
    },
    {
     "cell_type": "code",
     "collapsed": false,
     "input": [
      "from cogent.parse.fasta import MinimalFastaParser\n",
      "from cogent import DNA\n",
      "out = open(\"data/tmp/A/aln.good.filter.filter.fasta\", \"w\")\n",
      "lengths = []\n",
      "start = 634\n",
      "end = 853\n",
      "\n",
      "fn = \"data/tmp/A/maxee_trunclen_A_primertrim.unique.filter.good.fasta\"\n",
      "for n, s in MinimalFastaParser(open(fn)):\n",
      "    s_nodots = s.replace(\".\",\"-\")\n",
      "    out.write(\">%s\\n%s\\n\"%(n, str(DNA.makeSequence(s_nodots)[start:end].degap())))\n",
      "    lengths.append(len(DNA.makeSequence(s_nodots)[start:end].degap()))\n",
      "\n",
      "out.close()\n",
      "    \n",
      "lengths = array(lengths)\n",
      "print lengths.min(), lengths.max(), lengths.mean()\n",
      "N, bins, bars = hist(lengths, bins=50)\n",
      "xlab = xlabel(\"sequence length, nt\")\n",
      "ylab = ylabel(\"# of seqs\")"
     ],
     "language": "python",
     "metadata": {},
     "outputs": [
      {
       "output_type": "stream",
       "stream": "stdout",
       "text": [
        "128 145 141.245532821\n"
       ]
      },
      {
       "metadata": {},
       "output_type": "display_data",
       "png": "[encoded data removed]",
       "text": [
        "<matplotlib.figure.Figure at 0x3a1bbd0>"
       ]
      }
     ],
     "prompt_number": 41
    },
    {
     "cell_type": "markdown",
     "metadata": {},
     "source": [
      "###That looks much better."
     ]
    },
    {
     "cell_type": "markdown",
     "metadata": {},
     "source": [
      "###We can use mothur to run uchime as well. First we need to make a \"group\" file."
     ]
    },
    {
     "cell_type": "code",
     "collapsed": false,
     "input": [
      "%%bash\n",
      "mothur \"#deunique.seqs(fasta=data/tmp/A/aln.good.filter.filter.fasta, \\\n",
      "name=data/tmp/A/maxee_trunclen_A_primertrim.good.names)\" > /dev/null"
     ],
     "language": "python",
     "metadata": {},
     "outputs": [],
     "prompt_number": 42
    },
    {
     "cell_type": "code",
     "collapsed": false,
     "input": [
      "!grep \"^>\" data/tmp/A/aln.good.filter.filter.redundant.fasta | \\\n",
      "awk -F\"_\" 'BEGIN{OFS=\"\\t\"}{print $0,$1}' | \\\n",
      "sed 's/>//g' > data/tmp/A/group_file.txt"
     ],
     "language": "python",
     "metadata": {},
     "outputs": [],
     "prompt_number": 43
    },
    {
     "cell_type": "code",
     "collapsed": false,
     "input": [
      "!head data/tmp/A/group_file.txt"
     ],
     "language": "python",
     "metadata": {},
     "outputs": [
      {
       "output_type": "stream",
       "stream": "stdout",
       "text": [
        "B1.15.7.10_0\tB1.15.7.10\r\n",
        "B1.15.7.10_16\tB1.15.7.10\r\n",
        "B1.15.7.10_32\tB1.15.7.10\r\n",
        "B1.15.7.10_62\tB1.15.7.10\r\n",
        "B1.15.7.10_85\tB1.15.7.10\r\n",
        "B1.15.7.10_136\tB1.15.7.10\r\n",
        "B1.15.7.10_140\tB1.15.7.10\r\n",
        "B1.15.7.10_148\tB1.15.7.10\r\n",
        "B1.15.7.10_162\tB1.15.7.10\r\n",
        "B1.15.7.10_176\tB1.15.7.10\r\n"
       ]
      }
     ],
     "prompt_number": 44
    },
    {
     "cell_type": "code",
     "collapsed": false,
     "input": [
      "%%bash\n",
      "mothur \"#chimera.uchime(fasta=data/tmp/A/aln.good.filter.filter.redundant.fasta, \\\n",
      "reference=self, \\\n",
      "group=data/tmp/A/group_file.txt, \\\n",
      "dereplicate=t)\" > /dev/null 2>&1 "
     ],
     "language": "python",
     "metadata": {},
     "outputs": [],
     "prompt_number": 45
    },
    {
     "cell_type": "code",
     "collapsed": false,
     "input": [
      "!wc -l data/tmp/A/aln.good.filter.filter.redundant.uchime.accnos"
     ],
     "language": "python",
     "metadata": {},
     "outputs": [
      {
       "output_type": "stream",
       "stream": "stdout",
       "text": [
        "195 data/tmp/A/aln.good.filter.filter.redundant.uchime.accnos\r\n"
       ]
      }
     ],
     "prompt_number": 46
    },
    {
     "cell_type": "code",
     "collapsed": false,
     "input": [
      "!head data/tmp/A/aln.good.filter.filter.redundant.uchime.accnos"
     ],
     "language": "python",
     "metadata": {},
     "outputs": [
      {
       "output_type": "stream",
       "stream": "stdout",
       "text": [
        "B1.15.7.10_160\r\n",
        "B1.15.7.10_2935\r\n",
        "B1.15.7.10_2169\r\n",
        "B1.15.7.10_1898\r\n",
        "B1.24.7.10_5577\r\n",
        "B1.24.7.10_5356\r\n",
        "B1.24.7.10_4776\r\n",
        "B2.15.7.10_7524\r\n",
        "B2.15.7.10_10221\r\n",
        "B2.15.7.10_10163\r\n"
       ]
      }
     ],
     "prompt_number": 47
    },
    {
     "cell_type": "markdown",
     "metadata": {},
     "source": [
      "###...and remove the chimeras from the fasta file."
     ]
    },
    {
     "cell_type": "code",
     "collapsed": false,
     "input": [
      "%%bash\n",
      "mothur \"#remove.seqs(accnos=data/tmp/A/aln.good.filter.filter.redundant.uchime.accnos, \\\n",
      "fasta=data/tmp/A/aln.good.filter.filter.redundant.fasta)\" > /dev/null"
     ],
     "language": "python",
     "metadata": {},
     "outputs": [],
     "prompt_number": 48
    },
    {
     "cell_type": "markdown",
     "metadata": {},
     "source": [
      "###Now we have our final QC'd set of sequences. We'll copy it out of the data/tmp directory and rename it something shorter."
     ]
    },
    {
     "cell_type": "code",
     "collapsed": false,
     "input": [
      "!cp data/tmp/A/aln.good.filter.filter.redundant.pick.fasta data/finalQC_A.fasta"
     ],
     "language": "python",
     "metadata": {},
     "outputs": [],
     "prompt_number": 49
    },
    {
     "cell_type": "code",
     "collapsed": false,
     "input": [
      "!grep -c \">\" data/finalQC_A.fasta"
     ],
     "language": "python",
     "metadata": {},
     "outputs": [
      {
       "output_type": "stream",
       "stream": "stdout",
       "text": [
        "44719\r\n"
       ]
      }
     ],
     "prompt_number": 50
    },
    {
     "cell_type": "code",
     "collapsed": false,
     "input": [
      "!head data/finalQC_A.fasta"
     ],
     "language": "python",
     "metadata": {},
     "outputs": [
      {
       "output_type": "stream",
       "stream": "stdout",
       "text": [
        ">B1.15.7.10_0\r\n",
        "TTTACTGTAACTTGAAATTGAAATTGGACTTTATTCGCGCAGTATAGGTGGGAGGCGTTGATTGTAATCTTGCGGGATTATTGGAGCCATCAGTGAGATACCACTCTTGTAATGTTAGATTTCTAACTTTGTATCATTATC\r\n",
        ">B1.15.7.10_16\r\n",
        "TTTACTGTAACTTGAAATTGAAATTGGACTTTATTCGCGCAGTATAGGTGGGAGGCGTTGATTGTAATCTTGCGGGATTATTGGAGCCATCAGTGAGATACCACTCTTGTAATGTTAGATTTCTAACTTTGTATCATTATC\r\n",
        ">B1.15.7.10_32\r\n",
        "TTTACTGTAACTTGAAATTGAAATTGGACTTTATTCGCGCAGTATAGGTGGGAGGCGTTGATTGTAATCTTGCGGGATTATTGGAGCCATCAGTGAGATACCACTCTTGTAATGTTAGATTTCTAACTTTGTATCATTATC\r\n",
        ">B1.15.7.10_62\r\n",
        "TTTACTGTAACTTGAAATTGAAATTGGACTTTATTCGCGCAGTATAGGTGGGAGGCGTTGATTGTAATCTTGCGGGATTATTGGAGCCATCAGTGAGATACCACTCTTGTAATGTTAGATTTCTAACTTTGTATCATTATC\r\n",
        ">B1.15.7.10_85\r\n",
        "TTTACTGTAACTTGAAATTGAAATTGGACTTTATTCGCGCAGTATAGGTGGGAGGCGTTGATTGTAATCTTGCGGGATTATTGGAGCCATCAGTGAGATACCACTCTTGTAATGTTAGATTTCTAACTTTGTATCATTATC\r\n"
       ]
      }
     ],
     "prompt_number": 51
    }
   ],
   "metadata": {}
  }
 ]
}