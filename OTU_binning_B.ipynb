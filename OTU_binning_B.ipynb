{
 "metadata": {
  "name": ""
 },
 "nbformat": 3,
 "nbformat_minor": 0,
 "worksheets": [
  {
   "cells": [
    {
     "cell_type": "markdown",
     "metadata": {},
     "source": [
      "#This notebook outlines the steps for binning seqs into OTUs"
     ]
    },
    {
     "cell_type": "markdown",
     "metadata": {},
     "source": [
      "###We will start with our final QC sequences. I'm going to use usearch to bin sequences and then use Robert Edgars python scripts to make a table that is compatible with QIIME. "
     ]
    },
    {
     "cell_type": "code",
     "collapsed": false,
     "input": [
      "%pylab inline"
     ],
     "language": "python",
     "metadata": {},
     "outputs": [
      {
       "output_type": "stream",
       "stream": "stdout",
       "text": [
        "Populating the interactive namespace from numpy and matplotlib\n"
       ]
      }
     ],
     "prompt_number": 1
    },
    {
     "cell_type": "code",
     "collapsed": false,
     "input": [
      "from cogent.parse.fasta import MinimalFastaParser\n",
      "lengths = []\n",
      "for n, s in MinimalFastaParser(open(\"data/finalQC_B.fasta\")):\n",
      "    lengths.append(len(s))\n",
      "lengths = array(lengths)\n",
      "print lengths.min(), lengths.max(), lengths.mean()"
     ],
     "language": "python",
     "metadata": {},
     "outputs": [
      {
       "output_type": "stream",
       "stream": "stdout",
       "text": [
        "111 172 146.416858544\n"
       ]
      }
     ],
     "prompt_number": 2
    },
    {
     "cell_type": "markdown",
     "metadata": {},
     "source": [
      "####First we dereplicate our sequence collection."
     ]
    },
    {
     "cell_type": "code",
     "collapsed": false,
     "input": [
      "!usearch -derep_fulllength data/finalQC_B.fasta \\\n",
      "-output data/B/finalQC_uniques.fasta -sizeout -threads 4"
     ],
     "language": "python",
     "metadata": {},
     "outputs": [
      {
       "output_type": "stream",
       "stream": "stdout",
       "text": [
        "usearch v7.0.1001_i86linux32, 4.0Gb RAM (16.4Gb total), 8 cores\r\n",
        "(C) Copyright 2013 Robert C. Edgar, all rights reserved.\r\n",
        "http://drive5.com\r\n",
        "\r\n",
        "Licensed to: chuck.peperanney@gmail.com\r\n",
        "\r\n",
        "00:00 2.1Mb Reading data/finalQC_B.fasta, 3.3Mb\r\n",
        "00:00 5.4Mb 19978 (20.0k) seqs, min 111, avg 146, max 172nt\r\n",
        "00:00  34Mb 6159 uniques, avg cluster 3.2, median 1, max 1064\r\n",
        "00:00  34Mb    0.0% Writing data/B/finalQC_uniques.fasta\r"
       ]
      },
      {
       "output_type": "stream",
       "stream": "stdout",
       "text": [
        "00:00  34Mb  100.0% Writing data/B/finalQC_uniques.fasta\r",
        "\r\n"
       ]
      }
     ],
     "prompt_number": 3
    },
    {
     "cell_type": "markdown",
     "metadata": {},
     "source": [
      "####Next, sort the unique sequences by abundance discarding singleton reads."
     ]
    },
    {
     "cell_type": "code",
     "collapsed": false,
     "input": [
      "!usearch -sortbysize data/B/finalQC_uniques.fasta \\\n",
      "-output data/B/finalQC_uniques_sorted.fasta -minsize 2"
     ],
     "language": "python",
     "metadata": {},
     "outputs": [
      {
       "output_type": "stream",
       "stream": "stdout",
       "text": [
        "usearch v7.0.1001_i86linux32, 4.0Gb RAM (16.4Gb total), 8 cores\r\n",
        "(C) Copyright 2013 Robert C. Edgar, all rights reserved.\r\n",
        "http://drive5.com\r\n",
        "\r\n",
        "Licensed to: chuck.peperanney@gmail.com\r\n",
        "\r\n",
        "00:00 2.1Mb Reading data/B/finalQC_uniques.fasta, 1.1Mb\r\n",
        "00:00 3.2Mb 6159 seqs, min 111, avg 147, max 172nt\r\n",
        "00:00 3.2Mb Getting sizes\r\n",
        "00:00 3.3Mb Sorting 1386 sequences\r\n",
        "00:00 3.3Mb    0.1% Writing data/B/finalQC_uniques_sorted.fasta\r",
        "00:00 3.3Mb  100.0% Writing data/B/finalQC_uniques_sorted.fasta\r",
        "\r\n"
       ]
      }
     ],
     "prompt_number": 4
    },
    {
     "cell_type": "code",
     "collapsed": false,
     "input": [
      "!head data/B/finalQC_uniques_sorted.fasta"
     ],
     "language": "python",
     "metadata": {},
     "outputs": [
      {
       "output_type": "stream",
       "stream": "stdout",
       "text": [
        ">B1.24.7.10_3192;size=1064;\r\n",
        "TTGAACGCTGGCGGCAGGCTTAACACATGCAAGTCGAGCGGAAACGAGAAGTAGCTTGCTACTTCGGCGTCGAGCGGCGG\r\n",
        "ACGGGTGAGTAATGCCTGGGAAATTGCCCTGATGTGGGGGATAACCATTGGAAACGATGGCTAATACCGCA\r\n",
        ">B1.24.7.10_3169;size=716;\r\n",
        "TTGAACGCTGGCGGCAGGCCTAACACATGCAAGTCGAGCGGATGAGGGGTGCTTGCACCCTGATTCAGCGGCGGACGGGT\r\n",
        "GAGTAATGCCTAGGAATCTGCCCGATAGTGGGGGACAACGTTTCGAAAGGAACGCTAATACCGCA\r\n",
        ">B3.15.7.10_16200;size=471;\r\n",
        "TTGAACGCTGGCGGCAGGCCTAACACATGCAAGTCGAGCGGTAACAGAGAGAAGCTTGCTTCTTTGCTGACGAGCGGCGG\r\n",
        "ACGGGTGAGTAACGCGTAGGAATCTACCTATTAGTGGGGGATAAGCCAGAGAAATTTGGTCTAATACCGCA\r\n",
        ">B1.15.7.10_166;size=449;\r\n"
       ]
      }
     ],
     "prompt_number": 5
    },
    {
     "cell_type": "markdown",
     "metadata": {},
     "source": [
      "####Here we find cluster centroids with the input order based on read abundance."
     ]
    },
    {
     "cell_type": "code",
     "collapsed": false,
     "input": [
      "!usearch -cluster_otus data/B/finalQC_uniques_sorted.fasta \\\n",
      "-otus data/B/otus.fasta"
     ],
     "language": "python",
     "metadata": {},
     "outputs": [
      {
       "output_type": "stream",
       "stream": "stdout",
       "text": [
        "usearch v7.0.1001_i86linux32, 4.0Gb RAM (16.4Gb total), 8 cores\r\n",
        "(C) Copyright 2013 Robert C. Edgar, all rights reserved.\r\n",
        "http://drive5.com\r\n",
        "\r\n",
        "Licensed to: chuck.peperanney@gmail.com\r\n",
        "\r\n",
        "00:00  21Mb    0.1% 0 OTUs\r"
       ]
      },
      {
       "output_type": "stream",
       "stream": "stdout",
       "text": [
        "00:01  29Mb    6.2% 59 OTUs\r"
       ]
      },
      {
       "output_type": "stream",
       "stream": "stdout",
       "text": [
        "00:02  32Mb   42.0% 339 OTUs\r"
       ]
      },
      {
       "output_type": "stream",
       "stream": "stdout",
       "text": [
        "00:03  33Mb   87.3% 572 OTUs\r"
       ]
      },
      {
       "output_type": "stream",
       "stream": "stdout",
       "text": [
        "00:03  34Mb  100.0% 636 OTUs\r",
        "\r\n",
        "                            \r\n",
        "Input seqs  1386\r\n",
        "      OTUs  636\r\n",
        "   Members  648\r\n",
        "  Chimeras  102\r\n",
        "   Max mem  34Mb\r\n",
        "      Time  3.00s\r\n",
        "Throughput  462.0 seqs/sec.\r\n",
        "\r\n"
       ]
      }
     ],
     "prompt_number": 6
    },
    {
     "cell_type": "markdown",
     "metadata": {},
     "source": [
      "####This just numbers our OTUs and gives each OTU name the \"OTU.\" prefix."
     ]
    },
    {
     "cell_type": "code",
     "collapsed": false,
     "input": [
      "!/opt/edgar_python_scripts/fasta_number.py data/B/otus.fasta OTU. > data/B/otusn.fasta"
     ],
     "language": "python",
     "metadata": {},
     "outputs": [],
     "prompt_number": 8
    },
    {
     "cell_type": "markdown",
     "metadata": {},
     "source": [
      "####This command formats our sequence collection so that we can use Robert Edgars uc2otutab.py\n",
      "####script to make an OTU table (tab-delimitted) from our readmap."
     ]
    },
    {
     "cell_type": "code",
     "collapsed": false,
     "input": [
      "!awk -F\"_\" \\\n",
      "'BEGIN{OFS=\";\"}{ if ( substr($1,0,1) == \">\"){ print $0,\"barcodelabel=\",$1 } else { print $0 } }' \\\n",
      "data/finalQC_B.fasta | \\\n",
      "sed 's/;>//' > data/B/finalQC_usearchfmt.fasta"
     ],
     "language": "python",
     "metadata": {},
     "outputs": [],
     "prompt_number": 9
    },
    {
     "cell_type": "markdown",
     "metadata": {},
     "source": [
      "####Map all reads to OTU centroids."
     ]
    },
    {
     "cell_type": "code",
     "collapsed": false,
     "input": [
      "!usearch -usearch_global data/B/finalQC_usearchfmt.fasta \\\n",
      "-db data/B/otusn.fasta \\\n",
      "-strand plus -id 0.97 \\\n",
      "-uc data/B/readmap.uc \\\n",
      "-threads 4"
     ],
     "language": "python",
     "metadata": {},
     "outputs": [
      {
       "output_type": "stream",
       "stream": "stdout",
       "text": [
        "usearch v7.0.1001_i86linux32, 4.0Gb RAM (16.4Gb total), 8 cores\r\n",
        "(C) Copyright 2013 Robert C. Edgar, all rights reserved.\r\n",
        "http://drive5.com\r\n",
        "\r\n",
        "Licensed to: chuck.peperanney@gmail.com\r\n",
        "\r\n",
        "00:00  19Mb Reading data/B/otusn.fasta, 99.3kb\r\n",
        "00:00  19Mb 636 seqs, min 116, avg 145, max 172nt\r\n",
        "00:00  19Mb    0.2% Masking\r",
        "00:00  19Mb  100.0% Masking\r",
        "\r\n",
        "00:00  19Mb    0.2% Word stats\r",
        "00:00  19Mb  100.0% Word stats\r",
        "\r\n",
        "00:00  20Mb    0.0% Building slots\r",
        "00:00  21Mb  100.0% Building slots\r",
        "\r\n",
        "00:00  20Mb    0.2% Build index   \r",
        "00:00  20Mb  100.0% Build index\r",
        "\r\n",
        "00:00  47Mb    0.1% Searching, 0.0% matched\r"
       ]
      },
      {
       "output_type": "stream",
       "stream": "stdout",
       "text": [
        "00:01  54Mb   36.5% Searching, 95.4% matched\r"
       ]
      },
      {
       "output_type": "stream",
       "stream": "stdout",
       "text": [
        "00:01  54Mb  100.0% Searching, 87.9% matched\r",
        "\r\n"
       ]
      }
     ],
     "prompt_number": 10
    },
    {
     "cell_type": "markdown",
     "metadata": {},
     "source": [
      "####Convert the readmap to a tab-delimitted OTU table."
     ]
    },
    {
     "cell_type": "code",
     "collapsed": false,
     "input": [
      "!python /opt/edgar_python_scripts/uc2otutab.py data/B/readmap.uc > data/B/otu_table.txt"
     ],
     "language": "python",
     "metadata": {},
     "outputs": [
      {
       "output_type": "stream",
       "stream": "stdout",
       "text": [
        "data/B/readmap.uc   0.0%   \r"
       ]
      },
      {
       "output_type": "stream",
       "stream": "stdout",
       "text": [
        "data/B/readmap.uc 100.0%   \r\n"
       ]
      }
     ],
     "prompt_number": 14
    },
    {
     "cell_type": "markdown",
     "metadata": {},
     "source": [
      "####We can use the biom Python package to convert the OTU table to the biom format."
     ]
    },
    {
     "cell_type": "code",
     "collapsed": false,
     "input": [
      "!if [ -f data/B/otu_table.biom ]; then rm data/B/otu_table.biom; fi\n",
      "!biom convert -i data/B/otu_table.txt -o data/B/otu_table.biom --table-type=\"otu table\""
     ],
     "language": "python",
     "metadata": {},
     "outputs": [],
     "prompt_number": 16
    },
    {
     "cell_type": "code",
     "collapsed": false,
     "input": [
      "!if [ -f data/B/otu_table_summary.txt ]; then rm data/B/otu_table_summary.txt; fi\n",
      "!biom summarize-table -i data/B/otu_table.biom -o data/B/otu_table_summary.txt"
     ],
     "language": "python",
     "metadata": {},
     "outputs": [],
     "prompt_number": 18
    },
    {
     "cell_type": "markdown",
     "metadata": {},
     "source": [
      "####Here's the summary of our OTU table."
     ]
    },
    {
     "cell_type": "code",
     "collapsed": false,
     "input": [
      "!cat data/B/otu_table_summary.txt"
     ],
     "language": "python",
     "metadata": {},
     "outputs": [
      {
       "output_type": "stream",
       "stream": "stdout",
       "text": [
        "Num samples: 14\r\n",
        "Num observations: 636\r\n",
        "Total count: 17568\r\n",
        "Table density (fraction of non-zero values): 0.245\r\n",
        "Table md5 (unzipped): dba7efd63a20d72da763efcfc6bfbddd\r\n",
        "\r\n",
        "Counts/sample summary:\r\n",
        " Min: 347.0\r\n",
        " Max: 2715.0\r\n",
        " Median: 1070.500\r\n",
        " Mean: 1254.857\r\n",
        " Std. dev.: 599.532\r\n",
        " Sample Metadata Categories: None provided\r\n",
        " Observation Metadata Categories: None provided\r\n",
        "\r\n",
        "Counts/sample detail:\r\n",
        " P2.15.7.10: 347.0\r\n",
        " B2.24.7.10: 788.0\r\n",
        " P4.24.7.10: 828.0\r\n",
        " B2.15.7.10: 856.0\r\n",
        " B1.15.7.10: 902.0\r\n",
        " P3.24.7.10: 993.0\r\n",
        " B3.15.7.10: 1020.0\r\n",
        " P2.24.7.10: 1121.0\r\n",
        " P1.15.7.10: 1280.0\r\n",
        " B4.24.7.10: 1357.0\r\n",
        " B3.24.7.10: 1420.0\r\n",
        " P3.15.7.10: 1664.0\r\n",
        " P1.24.7.70: 2277.0\r\n",
        " B1.24.7.10: 2715.0\r\n"
       ]
      }
     ],
     "prompt_number": 19
    }
   ],
   "metadata": {}
  }
 ]
}