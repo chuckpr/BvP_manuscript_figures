{
 "metadata": {
  "name": ""
 },
 "nbformat": 3,
 "nbformat_minor": 0,
 "worksheets": [
  {
   "cells": [
    {
     "cell_type": "markdown",
     "metadata": {},
     "source": [
      "#This notebook outlines the QC for the chachie B reads."
     ]
    },
    {
     "cell_type": "markdown",
     "metadata": {},
     "source": [
      "###First we'll demultiplex the sequences using a QIIME script. Since we'll be using truncation length and max expected errors to filter seqeunces we'll turn off all the default QIIME QC paramaters in the demultiplexing script."
     ]
    },
    {
     "cell_type": "code",
     "collapsed": false,
     "input": [
      "%pylab inline"
     ],
     "language": "python",
     "metadata": {},
     "outputs": [
      {
       "output_type": "stream",
       "stream": "stdout",
       "text": [
        "Populating the interactive namespace from numpy and matplotlib\n"
       ]
      }
     ],
     "prompt_number": 8
    },
    {
     "cell_type": "code",
     "collapsed": false,
     "input": [
      "from cogent.parse.fasta import MinimalFastaParser\n",
      "seq_lengths = []\n",
      "for n, s in MinimalFastaParser(open(\"data/raw/B/combined.fasta\")):\n",
      "    seq_lengths.append(len(s))\n",
      "seq_lengths = array(seq_lengths)\n",
      "max_length =  seq_lengths.max()\n",
      "print max_length\n",
      "N, bins, bars = hist(seq_lengths, bins=50)\n",
      "xlab = xlabel(\"readlength, nt\")\n",
      "ylab = ylabel(\"# of seqs\")"
     ],
     "language": "python",
     "metadata": {},
     "outputs": [
      {
       "output_type": "stream",
       "stream": "stdout",
       "text": [
        "662\n"
       ]
      },
      {
       "metadata": {},
       "output_type": "display_data",
       "png": "[encoded data removed]",
       "text": [
        "<matplotlib.figure.Figure at 0x4128e10>"
       ]
      }
     ],
     "prompt_number": 9
    },
    {
     "cell_type": "markdown",
     "metadata": {},
     "source": [
      "###This is the demultiplexing command. (Note how some values are set at the max read length and some are zero. This effectively turns off these QC paramaters.)"
     ]
    },
    {
     "cell_type": "code",
     "collapsed": false,
     "input": [
      "!split_libraries_fastq.py \\\n",
      "-b data/raw/B/fastq/combined.fastq \\\n",
      "--store_demultiplexed_fastq \\\n",
      "-r 663 \\\n",
      "-p 0 \\\n",
      "-n 663 \\\n",
      "-q 0 \\\n",
      "--barcode_type 8 \\\n",
      "--max_barcode_errors 0 \\\n",
      "-i data/raw/B/fastq/combined.fastq \\\n",
      "-m data/chachie_mapper_B.txt \\\n",
      "-o data/demultiplexed_B"
     ],
     "language": "python",
     "metadata": {},
     "outputs": [],
     "prompt_number": 10
    },
    {
     "cell_type": "markdown",
     "metadata": {},
     "source": [
      "###Let's look at the log for the demultiplexing."
     ]
    },
    {
     "cell_type": "code",
     "collapsed": false,
     "input": [
      "!head -n 20 data/demultiplexed_B/split_library_log.txt"
     ],
     "language": "python",
     "metadata": {},
     "outputs": [
      {
       "output_type": "stream",
       "stream": "stdout",
       "text": [
        "Input file paths\r\n",
        "Mapping filepath: data/chachie_mapper_B.txt (md5: 46eadd2eac10732e8a6508894615b344)\r\n",
        "Sequence read filepath: data/raw/B/fastq/combined.fastq (md5: 069bb247bb3426a13e464fff6d111d97)\r\n",
        "Barcode read filepath: data/raw/B/fastq/combined.fastq (md5: 069bb247bb3426a13e464fff6d111d97)\r\n",
        "\r\n",
        "Quality filter results\r\n",
        "Total number of input sequences: 56322\r\n",
        "Barcode not in mapping file: 0\r\n",
        "Read too short after quality truncation: 0\r\n",
        "Count of N characters exceeds limit: 0\r\n",
        "Illumina quality digit = 0: 0\r\n",
        "Barcode errors exceed max: 0\r\n",
        "\r\n",
        "Result summary (after quality filtering)\r\n",
        "Median sequence length: 327.00\r\n",
        "B4.24.7.10\t6911\r\n",
        "P1.24.7.70\t5277\r\n",
        "P3.15.7.10\t5116\r\n",
        "B1.24.7.10\t5093\r\n",
        "B3.24.7.10\t4813\r\n"
       ]
      }
     ],
     "prompt_number": 11
    },
    {
     "cell_type": "markdown",
     "metadata": {},
     "source": [
      "###This dataset has a peak at a low read length so lets remove sequences less than 250 characters to start."
     ]
    },
    {
     "cell_type": "code",
     "collapsed": false,
     "input": [
      "from cogent.parse.fastq import MinimalFastqParser\n",
      "seq_lengths = []\n",
      "out = open(\"data/demultiplexed_B/seqs_gt250.fastq\", \"w\")\n",
      "for n, s, q in MinimalFastqParser(open(\"data/demultiplexed_B/seqs.fastq\"), strict=False):\n",
      "    if len(s) >= 250:\n",
      "        out.write(\"@%s\\n%s\\n+\\n%s\\n\"%(n,s,q))\n",
      "        seq_lengths.append(len(s))\n",
      "out.close()\n",
      "seq_lengths = array(seq_lengths)\n",
      "min_length =  seq_lengths.min()\n",
      "print min_length\n",
      "N, bins, bars = hist(seq_lengths, bins=50)\n",
      "xlab = xlabel(\"readlength, nt\")\n",
      "ylab = ylabel(\"# of seqs\")"
     ],
     "language": "python",
     "metadata": {},
     "outputs": [
      {
       "output_type": "stream",
       "stream": "stdout",
       "text": [
        "250\n"
       ]
      },
      {
       "metadata": {},
       "output_type": "display_data",
       "png": "[encoded data removed]",
       "text": [
        "<matplotlib.figure.Figure at 0x3f335d0>"
       ]
      }
     ],
     "prompt_number": 12
    },
    {
     "cell_type": "code",
     "collapsed": false,
     "input": [
      "!head -n 4 data/demultiplexed_B/seqs_gt250.fastq"
     ],
     "language": "python",
     "metadata": {},
     "outputs": [
      {
       "output_type": "stream",
       "stream": "stdout",
       "text": [
        "@B1.15.7.10_19 GXJS2L204JVUHI orig_bc=ACCGCACA new_bc=ACCGCACA bc_diffs=0\r\n",
        "ACCGCACAGAGTTTGATCCTGGCTCAGGATGAACGCTAGCGGGAGGCTTAATACATGCAAGTCGAACGGCAGCATTTCGGATGGCAAGTGGCGAACGGGTGAGTAACGCGTACAGACCTGCCTTATACTGGAGGATAGCCCCGGGAAACTGGGAGTAATACTCCATGTGATCGTAAGATTAAAGCTCCGGCGGTATAAGATGGCTGTGCGTCTGATTAGCTAGTTGGTAAGGTAGTGGCTTACCAAGGCGACGATCAGTAGGGGCGTGAGAGCGTGGCCCCCACACGGTACGTN\r\n",
        "+\r\n",
        "FFFFFFFFFFE@@@HHHIGHGGIIIIIIHHHHIHHHHHHHHHHIHHHHHHHHFFFFFFFFFFFFFFFFFFFFFFFFFFFFFFFFFFFFFFFFFFFFFFFFFFFFFFFFFFFFFFFFFFFFFFFFFFFFFFFFFFEEEFAAAAFFFFFFFFFFFFFFFDDDFFFFFFFC?<<<FFFFFDDDFFFFFFFFFD@@@FFFFFFFFFFFFFFFFDDBBD?::::555=BBBBAAADFFFFFFFF???DDDDDA=9:8<<<<>><<1111@6AAA?==>=>>=////191??>>=??84!\r\n"
       ]
      }
     ],
     "prompt_number": 13
    },
    {
     "cell_type": "markdown",
     "metadata": {},
     "source": [
      "###We'll use the maximum expected error threshold to cull poor quality sequences from those that remain. You can find the paper outlining this QC approach [here](http://www.nature.com/nmeth/journal/v10/n10/full/nmeth.2604.html)."
     ]
    },
    {
     "cell_type": "markdown",
     "metadata": {},
     "source": [
      "###First we need to explore the data set further. We can use the \"fastq_stats\" subcommand in the usearch program to get a feel for how different maximum expected errors and truncation lengths will work with our data set."
     ]
    },
    {
     "cell_type": "code",
     "collapsed": false,
     "input": [
      "!usearch -fastq_stats data/demultiplexed_B/seqs_gt250.fastq -log data/demultiplexed_B/stats.log"
     ],
     "language": "python",
     "metadata": {},
     "outputs": [
      {
       "output_type": "stream",
       "stream": "stdout",
       "text": [
        "usearch v7.0.1001_i86linux32, 4.0Gb RAM (16.4Gb total), 8 cores\r\n",
        "(C) Copyright 2013 Robert C. Edgar, all rights reserved.\r\n",
        "http://drive5.com\r\n",
        "\r\n",
        "Licensed to: chuck.peperanney@gmail.com\r\n",
        "\r\n",
        "00:00 2.3Mb    0.0% Reading\r",
        "00:00  37Mb    0.0% Reading data/demultiplexed_B/seqs_gt250.fastq\r"
       ]
      },
      {
       "output_type": "stream",
       "stream": "stdout",
       "text": [
        "00:01  37Mb   84.7% Reading data/demultiplexed_B/seqs_gt250.fastq\r"
       ]
      },
      {
       "output_type": "stream",
       "stream": "stdout",
       "text": [
        "00:01  37Mb  100.0% Reading data/demultiplexed_B/seqs_gt250.fastq\r",
        "\r\n",
        "     33179  Recs (33.2k), 0 too long                             \r\n",
        "     392.6  Avg length\r\n",
        "     13.0M  Bases\r\n"
       ]
      }
     ],
     "prompt_number": 14
    },
    {
     "cell_type": "markdown",
     "metadata": {},
     "source": [
      "###...and we can look at the stats."
     ]
    },
    {
     "cell_type": "code",
     "collapsed": false,
     "input": [
      "!head -n 10 data/demultiplexed_B/stats.log"
     ],
     "language": "python",
     "metadata": {},
     "outputs": [
      {
       "output_type": "stream",
       "stream": "stdout",
       "text": [
        "usearch v7.0.1001_i86linux32, 4.0Gb RAM (16.4Gb total), 8 cores\r\n",
        "usearch -fastq_stats data/demultiplexed_B/seqs_gt250.fastq -log data/demultiplexed_B/stats.log \r\n",
        "Started Thu Nov 21 11:16:09 2013\r\n",
        "\r\n",
        "Read length distribution\r\n",
        "      L           N      Pct   AccPct\r\n",
        "-------  ----------  -------  -------\r\n",
        ">=  518          47     0.1%     1.1%\r\n",
        "    517          36     0.1%     1.2%\r\n",
        "    516          33     0.1%     1.3%\r\n"
       ]
      }
     ],
     "prompt_number": 15
    },
    {
     "cell_type": "markdown",
     "metadata": {},
     "source": [
      "###Unfortunately usearch doesn't provide the stats in a very useful format at the moment. All the stats are dumped in one file that is not easily parsed (ie it is meant to be human readable). I pulled out the relevant table for our data set and converted it to csv format and named the file \"L_v_ee.csv\". It is located in the \"data\" directory."
     ]
    },
    {
     "cell_type": "markdown",
     "metadata": {},
     "source": [
      "###We can read in the L_v_ee.csv file using the pandas module."
     ]
    },
    {
     "cell_type": "code",
     "collapsed": false,
     "input": [
      "from pandas import read_csv\n",
      "df = read_csv(\"data/demultiplexed_B/L_v_ee.csv\", index_col=0, usecols=[0,5,6,7,8])"
     ],
     "language": "python",
     "metadata": {},
     "outputs": [],
     "prompt_number": 16
    },
    {
     "cell_type": "code",
     "collapsed": false,
     "input": [
      "%matplotlib inline\n",
      "ax = df.plot() #so simple with pandas!\n",
      "fig = ax.get_figure()\n",
      "ylab = ax.set_ylabel(\"Percent of Reads Passing Filter\")"
     ],
     "language": "python",
     "metadata": {},
     "outputs": [
      {
       "metadata": {},
       "output_type": "display_data",
       "png": "[encoded data removed]",
       "text": [
        "<matplotlib.figure.Figure at 0x4ffccd0>"
       ]
      }
     ],
     "prompt_number": 17
    },
    {
     "cell_type": "code",
     "collapsed": false,
     "input": [
      "max_ee = \"1.00\"\n",
      "truncation_length = 200\n",
      "pct_retatined = df[max_ee][truncation_length] #this is the actual percentage of reads will keep with the above criteria\n",
      "print pct_retatined"
     ],
     "language": "python",
     "metadata": {},
     "outputs": [
      {
       "output_type": "stream",
       "stream": "stdout",
       "text": [
        "73.6\n"
       ]
      }
     ],
     "prompt_number": 18
    },
    {
     "cell_type": "markdown",
     "metadata": {},
     "source": [
      "###Seems like we can use the max expected error of 1.00 and still retain approximately 70% of our reads if we truncate at 200 bases."
     ]
    },
    {
     "cell_type": "markdown",
     "metadata": {},
     "source": [
      "###We'll use usearch to filter reads given the above criteria and write the results to the tmp directory because we'll want to do a few extra steps before finalizing the QC."
     ]
    },
    {
     "cell_type": "code",
     "collapsed": false,
     "input": [
      "!mkdir -p data/tmp"
     ],
     "language": "python",
     "metadata": {},
     "outputs": [],
     "prompt_number": 19
    },
    {
     "cell_type": "code",
     "collapsed": false,
     "input": [
      "!usearch -fastq_filter data/demultiplexed_B/seqs_gt250.fastq \\\n",
      "-fastq_maxee \"$max_ee\" \\\n",
      "-fastq_trunclen \"$truncation_length\" \\\n",
      "-fastaout \"data/tmp/maxee_trunc_B.fasta\""
     ],
     "language": "python",
     "metadata": {},
     "outputs": [
      {
       "output_type": "stream",
       "stream": "stdout",
       "text": [
        "usearch v7.0.1001_i86linux32, 4.0Gb RAM (16.4Gb total), 8 cores\r\n",
        "(C) Copyright 2013 Robert C. Edgar, all rights reserved.\r\n",
        "http://drive5.com\r\n",
        "\r\n",
        "Licensed to: chuck.peperanney@gmail.com\r\n",
        "\r\n"
       ]
      },
      {
       "output_type": "stream",
       "stream": "stdout",
       "text": [
        "00:00 2.1Mb    0.0% Converting\r",
        "00:00 2.1Mb    0.0% Converting, 0 recs, 0 converted (0.0%)\r"
       ]
      },
      {
       "output_type": "stream",
       "stream": "stdout",
       "text": [
        "00:01 2.1Mb   25.2% Converting, 8235 recs, 6208 converted (75.4%)\r"
       ]
      },
      {
       "output_type": "stream",
       "stream": "stdout",
       "text": [
        "00:01 2.1Mb  100.0% Converting, 33.2k recs, 24166 converted (72.8%)\r",
        "\r\n",
        "     33179  FASTQ recs (33.2k)                                     \r\n",
        "         0  Short recs discarded (<200)\r\n",
        "      9013  Low qual recs discarded (expected errs > 1.00)\r\n",
        "     24166  Converted (24.2k, 72.8%)\r\n"
       ]
      }
     ],
     "prompt_number": 20
    },
    {
     "cell_type": "markdown",
     "metadata": {},
     "source": [
      "###The following code finds and removes the forward primer. It's a bit more sophisticated than just clipping the sequences at a certain length so that it can find and remove primer sequences with indel and substitution errors. It's kind of slow to do all the pairwise alignments so be patient."
     ]
    },
    {
     "cell_type": "code",
     "collapsed": false,
     "input": [
      "from qiime.split_libraries import local_align_primer_seq\n",
      "from cogent.parse.fasta import MinimalFastaParser\n",
      "from cogent import DNA\n",
      "out = open(\"data/tmp/maxee_trunclen_B_primertrim.fasta\", \"w\")\n",
      "for n, s in MinimalFastaParser(open(\"data/tmp//maxee_trunc_B.fasta\")):\n",
      "    mm, pos = local_align_primer_seq(primer = DNA.makeSequence(\"GAGTTTGATCNTGGCTCAG\").rc(), #linkerprimer from R&T \n",
      "                                     sequence=DNA.makeSequence(s).rc())\n",
      "    s_trim_rc = DNA.makeSequence(s).rc()[:pos]\n",
      "    s_trim = s_trim_rc.rc()\n",
      "    out.write(\">%s\\n%s\\n\"%(n,s_trim))\n",
      "out.close()"
     ],
     "language": "python",
     "metadata": {},
     "outputs": [],
     "prompt_number": 21
    },
    {
     "cell_type": "code",
     "collapsed": false,
     "input": [
      "!head -n2 data/tmp/maxee_trunclen_B_primertrim.fasta\n",
      "!head -n2 data/tmp/maxee_trunc_B.fasta"
     ],
     "language": "python",
     "metadata": {},
     "outputs": [
      {
       "output_type": "stream",
       "stream": "stdout",
       "text": [
        ">B1.15.7.10_19 GXJS2L204JVUHI orig_bc=ACCGCACA new_bc=ACCGCACA bc_diffs=0\r\n",
        "GATGAACGCTAGCGGGAGGCTTAATACATGCAAGTCGAACGGCAGCATTTCGGATGGCAAGTGGCGAACGGGTGAGTAACGCGTACAGACCTGCCTTATACTGGAGGATAGCCCCGGGAAACTGGGAGTAATACTCCATGTGATCGTAAGATTAAAGCTCCGGCGGTATAAGA\r\n"
       ]
      },
      {
       "output_type": "stream",
       "stream": "stdout",
       "text": [
        ">B1.15.7.10_19 GXJS2L204JVUHI orig_bc=ACCGCACA new_bc=ACCGCACA bc_diffs=0\r\n",
        "ACCGCACAGAGTTTGATCCTGGCTCAGGATGAACGCTAGCGGGAGGCTTAATACATGCAAGTCGAACGGCAGCATTTCGGATGGCAAGTGGCGAACGGGTGAGTAACGCGTACAGACCTGCCTTATACTGGAGGATAGCCCCGGGAAACTGGGAGTAATACTCCATGTGATCGTAAGATTAAAGCTCCGGCGGTATAAGA\r\n"
       ]
      }
     ],
     "prompt_number": 22
    },
    {
     "cell_type": "markdown",
     "metadata": {},
     "source": [
      "###We won't worry about the reverse primer because we had to trim our reads well before the full amplicon length."
     ]
    },
    {
     "cell_type": "markdown",
     "metadata": {},
     "source": [
      "###Now we want to do some alignment based screening. Mothur is a useful tool for this purpose."
     ]
    },
    {
     "cell_type": "markdown",
     "metadata": {},
     "source": [
      "###First we need to make an alignment. We'll use SSU-Align to do this."
     ]
    },
    {
     "cell_type": "markdown",
     "metadata": {},
     "source": [
      "####Let's first make a Mothur group file."
     ]
    },
    {
     "cell_type": "code",
     "collapsed": false,
     "input": [
      "!grep \"^>\" data/tmp/maxee_trunclen_B_primertrim.fasta | \\\n",
      "awk -F\" \" '{print $1}' | \\\n",
      "awk -F\"_\" 'BEGIN{OFS=\"\\t\"}{print $0,$1}' | \\\n",
      "sed 's/>//g' > data/tmp/group_file.txt"
     ],
     "language": "python",
     "metadata": {},
     "outputs": [],
     "prompt_number": 23
    },
    {
     "cell_type": "markdown",
     "metadata": {},
     "source": [
      "####First derepicate sequences. This command will produce a fasta file of unique sequences and a Mothur names file."
     ]
    },
    {
     "cell_type": "code",
     "collapsed": false,
     "input": [
      "!mothur \"#unique.seqs(fasta=data/tmp/maxee_trunclen_B_primertrim.fasta)\" > /dev/null"
     ],
     "language": "python",
     "metadata": {},
     "outputs": [],
     "prompt_number": 24
    },
    {
     "cell_type": "markdown",
     "metadata": {},
     "source": [
      "####And we can make a count file for the current seqs from the group and name file combination (useful later)."
     ]
    },
    {
     "cell_type": "code",
     "collapsed": false,
     "input": [
      "!mothur \"#count.seqs(name=data/tmp/maxee_trunclen_B_primertrim.names, group=data/tmp/group_file.txt)\" > /dev/null\n",
      "!head data/tmp/maxee_trunclen_B_primertrim.count_table"
     ],
     "language": "python",
     "metadata": {},
     "outputs": [
      {
       "output_type": "stream",
       "stream": "stdout",
       "text": [
        "Representative_Sequence\ttotal\tB1.15.7.10\tB1.24.7.10\tB2.15.7.10\tB2.24.7.10\tB3.15.7.10\tB3.24.7.10\tB4.24.7.10\tP1.15.7.10\tP1.24.7.70\tP2.15.7.10\tP2.24.7.10\tP3.15.7.10\tP3.24.7.10\tP4.24.7.10\t\r\n",
        "B1.15.7.10_19\t19\t4\t0\t0\t0\t0\t2\t1\t0\t0\t0\t12\t0\t0\t0\t\r\n",
        "B1.15.7.10_20\t1\t1\t0\t0\t0\t0\t0\t0\t0\t0\t0\t0\t0\t0\t0\t\r\n",
        "B1.15.7.10_21\t1\t1\t0\t0\t0\t0\t0\t0\t0\t0\t0\t0\t0\t0\t0\t\r\n",
        "B1.15.7.10_23\t1\t1\t0\t0\t0\t0\t0\t0\t0\t0\t0\t0\t0\t0\t0\t\r\n",
        "B1.15.7.10_28\t1\t1\t0\t0\t0\t0\t0\t0\t0\t0\t0\t0\t0\t0\t0\t\r\n",
        "B1.15.7.10_38\t3\t1\t0\t0\t0\t0\t0\t0\t0\t0\t1\t1\t0\t0\t0\t\r\n",
        "B1.15.7.10_42\t162\t26\t47\t0\t0\t20\t0\t25\t30\t9\t0\t0\t2\t0\t3\t\r\n",
        "B1.15.7.10_47\t3\t1\t1\t0\t0\t0\t0\t1\t0\t0\t0\t0\t0\t0\t0\t\r\n",
        "B1.15.7.10_49\t1\t1\t0\t0\t0\t0\t0\t0\t0\t0\t0\t0\t0\t0\t0\t\r\n"
       ]
      }
     ],
     "prompt_number": 25
    },
    {
     "cell_type": "markdown",
     "metadata": {},
     "source": [
      "####Now call ssu-align."
     ]
    },
    {
     "cell_type": "code",
     "collapsed": false,
     "input": [
      "!ssu-prep -x  --dna -f data/tmp/maxee_trunclen_B_primertrim.unique.fasta data/tmp/ssu-aln 6 > /dev/null"
     ],
     "language": "python",
     "metadata": {},
     "outputs": [],
     "prompt_number": 26
    },
    {
     "cell_type": "code",
     "collapsed": false,
     "input": [
      "!./ssu-aln.ssu-align.sh"
     ],
     "language": "python",
     "metadata": {},
     "outputs": [
      {
       "output_type": "stream",
       "stream": "stdout",
       "text": [
        "# Executing: ssu-align --dna data/tmp/ssu-aln/maxee_trunclen_B_primertrim.unique.fasta.1 data/tmp/ssu-aln/ssu-aln.1 > /dev/null &\r\n",
        "# Executing: ssu-align --dna data/tmp/ssu-aln/maxee_trunclen_B_primertrim.unique.fasta.2 data/tmp/ssu-aln/ssu-aln.2 > /dev/null &\r\n",
        "# Executing: ssu-align --dna data/tmp/ssu-aln/maxee_trunclen_B_primertrim.unique.fasta.3 data/tmp/ssu-aln/ssu-aln.3 > /dev/null &\r\n",
        "# Executing: ssu-align --dna data/tmp/ssu-aln/maxee_trunclen_B_primertrim.unique.fasta.4 data/tmp/ssu-aln/ssu-aln.4 > /dev/null &\r\n",
        "# Executing: ssu-align --dna data/tmp/ssu-aln/maxee_trunclen_B_primertrim.unique.fasta.5 data/tmp/ssu-aln/ssu-aln.5 > /dev/null &\r\n",
        "# Executing: ssu-align --merge 6 --dna data/tmp/ssu-aln/maxee_trunclen_B_primertrim.unique.fasta.6 data/tmp/ssu-aln/ssu-aln.6\r\n",
        "# ssu-align :: align SSU rRNA sequences\r\n",
        "# SSU-ALIGN 0.1 (June 2010)\r\n",
        "# Copyright (C) 2010 HHMI Janelia Farm Research Campus\r\n",
        "# Freely distributed under the GNU General Public License (GPLv3)\r\n",
        "# - - - - - - - - - - - - - - - - - - - - - - - - - - - - - - - - - - - -\r\n",
        "# command: ssu-align --merge 6 --dna data/tmp/ssu-aln/maxee_trunclen_B_primertrim.unique.fasta.6 data/tmp/ssu-aln/ssu-aln.6\r\n",
        "# date:    Thu Nov 21 11:17:07 2013\r\n"
       ]
      },
      {
       "output_type": "stream",
       "stream": "stdout",
       "text": [
        "#\r\n",
        "# Validating input sequence file ... done.\r\n",
        "#\r\n",
        "# Stage 1: Determining SSU start/end positions and best-matching models...\r\n",
        "#\r\n",
        "# output file name            description                                \r\n",
        "# --------------------------  -------------------------------------------\r\n"
       ]
      },
      {
       "output_type": "stream",
       "stream": "stdout",
       "text": [
        "  ssu-aln.6.tab               locations/scores of hits defined by HMM(s)\r\n"
       ]
      },
      {
       "output_type": "stream",
       "stream": "stdout",
       "text": [
        "  ssu-aln.6.bacteria.hitlist  list of sequences to align with bacteria CM\r\n",
        "  ssu-aln.6.bacteria.fa          1541 sequences to align with bacteria CM\r\n",
        "#\r\n",
        "# Stage 2: Aligning each sequence to its best-matching model...\r\n",
        "#\r\n",
        "# output file name            description\r\n",
        "# --------------------------  ---------------------------------------\r\n"
       ]
      },
      {
       "output_type": "stream",
       "stream": "stdout",
       "text": [
        "  ssu-aln.6.bacteria.stk      bacteria alignment\r\n",
        "  ssu-aln.6.bacteria.cmalign  bacteria cmalign output\r\n",
        "  ssu-aln.6.bacteria.ifile    bacteria insert info\r\n",
        "  ssu-aln.6.scores            list of CM/HMM scores for each sequence\r\n",
        "  ssu-aln.6.nomatch           list of seqs that don't match any model\r\n",
        "#\r\n",
        "# Summary statistics:\r\n",
        "#\r\n",
        "# model or       number  fraction        average   average               \r\n",
        "# category      of seqs  of total         length  coverage    nucleotides\r\n",
        "# ------------  -------  --------  -------------  --------  -------------\r\n",
        "  *input*          1545    1.0000         172.98    1.0000         267253\r\n",
        "#\r\n",
        "  archaea             0    0.0000              -         -              0\r\n",
        "  bacteria         1541    0.9974         169.65    0.9807         261423\r\n",
        "  eukarya             0    0.0000              -         -              0\r\n",
        "#\r\n",
        "  *all-models*     1541    0.9974         169.65    0.9807         261423\r\n",
        "  *no-models*         4    0.0026         173.00    0.0000            692\r\n",
        "#\r\n",
        "# Speed statistics:\r\n",
        "#\r\n",
        "# stage      num seqs  seq/sec  seq/sec/model    nucleotides    nt/sec\r\n",
        "# ---------  --------  -------  -------------  -------------  --------\r\n",
        "  search         1545   26.763          8.921         267253    4629.5\r\n",
        "  alignment      1541   28.747         28.747         261423    4876.8\r\n",
        "#\r\n",
        "#\r\n",
        "# List of executed commands saved in:     ssu-aln.6.ssu-align.log.\r\n",
        "# Output printed to the screen saved in:  ssu-aln.6.ssu-align.sum.\r\n",
        "#\r\n",
        "# All output files created in directory ./data/tmp/ssu-aln/ssu-aln.6/\r\n",
        "#\r\n"
       ]
      },
      {
       "output_type": "stream",
       "stream": "stdout",
       "text": [
        "# CPU time (search):     00:00:57.73  (hh:mm:ss)\r\n",
        "# CPU time (alignment):  00:00:53.61  (hh:mm:ss)\r\n",
        "# CPU time (total):      00:01:51.75  (hh:mm:ss)\r\n",
        "#\r\n",
        "################################################################################\r\n",
        "#\r\n",
        "# Alignments successfully created.\r\n",
        "#\r\n",
        "# Checking/waiting for other jobs to finish before merging...\r\n",
        "#\r\n",
        "# Job 1 (dir: data/tmp/ssu-aln/ssu-aln.1) completed successfully! 5/6 still incomplete.\r\n",
        "# Job 6 (dir: data/tmp/ssu-aln/ssu-aln.6) completed successfully! 4/6 still incomplete.\r\n"
       ]
      },
      {
       "output_type": "stream",
       "stream": "stdout",
       "text": [
        "# Job 5 (dir: data/tmp/ssu-aln/ssu-aln.5) completed successfully! 3/6 still incomplete.\r\n"
       ]
      },
      {
       "output_type": "stream",
       "stream": "stdout",
       "text": [
        "# Job 2 (dir: data/tmp/ssu-aln/ssu-aln.2) completed successfully! 2/6 still incomplete.\r\n"
       ]
      },
      {
       "output_type": "stream",
       "stream": "stdout",
       "text": [
        "# Job 4 (dir: data/tmp/ssu-aln/ssu-aln.4) completed successfully! 1/6 still incomplete.\r\n"
       ]
      },
      {
       "output_type": "stream",
       "stream": "stdout",
       "text": [
        "# Job 3 (dir: data/tmp/ssu-aln/ssu-aln.3) completed successfully! 0/6 still incomplete.\r\n",
        "#\r\n",
        "# All 6 jobs successfully completed.\r\n",
        "# About to merge their output:\r\n",
        "#\r\n",
        "# Executing:  ssu-merge data/tmp/ssu-aln\r\n",
        "#\r\n",
        "################################################################################\r\n",
        "#\r\n"
       ]
      },
      {
       "output_type": "stream",
       "stream": "stdout",
       "text": [
        "# ssu-merge :: merge SSU rRNA alignments\r\n",
        "# SSU-ALIGN 0.1 (June 2010)\r\n",
        "# Copyright (C) 2010 HHMI Janelia Farm Research Campus\r\n",
        "# Freely distributed under the GNU General Public License (GPLv3)\r\n",
        "# - - - - - - - - - - - - - - - - - - - - - - - - - - - - - - - - - - - -\r\n",
        "# command: ssu-merge data/tmp/ssu-aln\r\n",
        "# date:    Thu Nov 21 11:19:32 2013\r\n",
        "#\r\n",
        "# Merging files from 6 ssu-align runs...\r\n",
        "#\r\n",
        "#                                           # files     # seqs\r\n",
        "# merged file name                CM name    merged     merged\r\n",
        "# ------------------------------  --------  -------  ---------\r\n",
        "  ssu-aln.tab                     -               6          -\r\n",
        "  ssu-aln.scores                  -               6          -\r\n",
        "  ssu-aln.nomatch                 -               6          -\r\n",
        "  ssu-aln.ssu-align.sum           -               6          -\r\n"
       ]
      },
      {
       "output_type": "stream",
       "stream": "stdout",
       "text": [
        "  ssu-aln.ssu-align.log           -               6          -\r\n",
        "#\r\n",
        "  ssu-aln.bacteria.fa             bacteria        6       9254\r\n",
        "  ssu-aln.bacteria.hitlist        bacteria        6       9254\r\n"
       ]
      },
      {
       "output_type": "stream",
       "stream": "stdout",
       "text": [
        "  ssu-aln.bacteria.cmalign        bacteria        6       9254\r\n",
        "  ssu-aln.bacteria.ifile          bacteria        6       9254\r\n",
        "  ssu-aln.bacteria.stk            bacteria        6       9254\r\n",
        "#\r\n",
        "#\r\n",
        "# Summary statistics:\r\n",
        "#\r\n",
        "# model or       number  fraction        average   average               \r\n",
        "# category      of seqs  of total         length  coverage    nucleotides\r\n",
        "# ------------  -------  --------  -------------  --------  -------------\r\n",
        "  *input*          9277    1.0000         172.99    1.0000        1604796\r\n",
        "#\r\n",
        "  archaea             0    0.0000              -         -              0\r\n",
        "  bacteria         9254    0.9975         168.80    0.9758        1562075\r\n",
        "  eukarya             0    0.0000              -         -              0\r\n",
        "#\r\n",
        "  *all-models*     9254    0.9975         168.80    0.9758        1562075\r\n",
        "  *no-models*        23    0.0025         170.82    0.0000           3928\r\n",
        "#\r\n",
        "# Speed statistics:\r\n",
        "#\r\n",
        "# stage      num seqs  seq/sec  seq/sec/model    nucleotides    nt/sec\r\n",
        "# ---------  --------  -------  -------------  -------------  --------\r\n",
        "  search         9277  9277.000       3092.333        1604796  1604796.0\r\n",
        "  alignment      9254  9254.000       9254.000        1562075  1562075.0\r\n",
        "#\r\n",
        "# Summed ssu-align CPU time (search):     00:00:00.00  (hh:mm:ss)\r\n",
        "# Summed ssu-align CPU time (alignment):  00:00:00.00  (hh:mm:ss)\r\n",
        "# Summed ssu-align CPU time (total):      00:00:00.00  (hh:mm:ss)\r\n",
        "#\r\n",
        "# Cleaning up by removing original files that were just merged ... done.\r\n",
        "#\r\n",
        "# List of executed commands saved in:     ssu-aln.ssu-merge.log.\r\n",
        "# Output printed to the screen saved in:  ssu-aln.ssu-merge.sum.\r\n",
        "#\r\n",
        "# All output files created in directory ./data/tmp/ssu-aln/\r\n",
        "#\r\n",
        "# CPU time:  00:00:00.20  (hh:mm:ss)\r\n",
        "# \r\n"
       ]
      }
     ],
     "prompt_number": 27
    },
    {
     "cell_type": "markdown",
     "metadata": {},
     "source": [
      "###Note that not all reads fit one of the provided SSU-Align covariance models. We'll have to account for these un-alignable (and probably poor quality or non-specific) reads later."
     ]
    },
    {
     "cell_type": "code",
     "collapsed": false,
     "input": [
      "!head data/tmp/ssu-aln/ssu-aln.nomatch"
     ],
     "language": "python",
     "metadata": {},
     "outputs": [
      {
       "output_type": "stream",
       "stream": "stdout",
       "text": [
        "B1.15.7.10_1905\r\n",
        "B1.15.7.10_2294\r\n",
        "B1.15.7.10_2997\r\n",
        "B1.24.7.10_4593\r\n",
        "B1.24.7.10_7157\r\n",
        "B2.15.7.10_8315\r\n",
        "B2.15.7.10_9191\r\n",
        "B2.15.7.10_11052\r\n",
        "B2.24.7.10_11518\r\n",
        "B2.24.7.10_13836\r\n"
       ]
      }
     ],
     "prompt_number": 28
    },
    {
     "cell_type": "code",
     "collapsed": false,
     "input": [
      "!ssu-mask --dna --stk2afa -a data/tmp/ssu-aln/ssu-aln.bacteria.stk > /dev/null\n",
      "!mv ssu-aln.bacteria* data/tmp/ssu-aln/"
     ],
     "language": "python",
     "metadata": {},
     "outputs": [],
     "prompt_number": 29
    },
    {
     "cell_type": "markdown",
     "metadata": {},
     "source": [
      "###This is what our reads that have passed QC so far look like."
     ]
    },
    {
     "cell_type": "code",
     "collapsed": false,
     "input": [
      "!mothur \"#summary.seqs(fasta=data/tmp/ssu-aln/ssu-aln.bacteria.afa, count=data/tmp/maxee_trunclen_B_primertrim.count_table)\""
     ],
     "language": "python",
     "metadata": {},
     "outputs": [
      {
       "output_type": "stream",
       "stream": "stdout",
       "text": [
        "\u001b[H\u001b[2J\r\n",
        "\r\n",
        "\r\n",
        "\r\n",
        "\r\n",
        "\r\n",
        "mothur v.1.32.1\r\n",
        "Last updated: 10/16/2013\r\n",
        "\r\n",
        "by\r\n",
        "Patrick D. Schloss\r\n",
        "\r\n",
        "Department of Microbiology & Immunology\r\n",
        "University of Michigan\r\n",
        "pschloss@umich.edu\r\n",
        "http://www.mothur.org\r\n",
        "\r\n",
        "When using, please cite:\r\n",
        "Schloss, P.D., et al., Introducing mothur: Open-source, platform-independent, community-supported software for describing and comparing microbial communities. Appl Environ Microbiol, 2009. 75(23):7537-41.\r\n",
        "\r\n",
        "Distributed under the GNU General Public License\r\n",
        "\r\n",
        "Type 'help()' for information on the commands that are available\r\n",
        "\r\n",
        "Type 'quit()' to exit program\r\n",
        "\r\n",
        "\r\n",
        "\r\n",
        "mothur > summary.seqs(fasta=data/tmp/ssu-aln/ssu-aln.bacteria.afa, count=data/tmp/maxee_trunclen_B_primertrim.count_table)\r\n",
        "\r\n",
        "Using 1 processors.\r\n"
       ]
      },
      {
       "output_type": "stream",
       "stream": "stdout",
       "text": [
        "\r\n",
        "\t\tStart\tEnd\tNBases\tAmbigs\tPolymer\tNumSeqs\r\n",
        "Minimum:\t29\t423\t107\t0\t3\t1\r\n",
        "2.5%-tile:\t30\t535\t151\t0\t3\t604\r\n",
        "25%-tile:\t30\t614\t168\t0\t4\t6035\r\n",
        "Median: \t30\t624\t172\t0\t5\t12070\r\n",
        "75%-tile:\t30\t665\t173\t0\t5\t18105\r\n",
        "97.5%-tile:\t35\t671\t173\t0\t5\t23536\r\n",
        "Maximum:\t535\t776\t178\t0\t7\t24139\r\n",
        "Mean:\t30.6994\t618.549\t169.775\t0\t4.4554\r\n",
        "# of unique seqs:\t9254\r\n",
        "total # of seqs:\t24139\r\n",
        "\r\n",
        "Output File Names: \r\n",
        "data/tmp/ssu-aln/ssu-aln.bacteria.summary\r\n",
        "\r\n",
        "\r\n",
        "mothur > quit()\r\n"
       ]
      }
     ],
     "prompt_number": 30
    },
    {
     "cell_type": "markdown",
     "metadata": {},
     "source": [
      "###Let's remove seqs that don't appear to align to the expected amplicon region."
     ]
    },
    {
     "cell_type": "code",
     "collapsed": false,
     "input": [
      "!mothur \"#screen.seqs(start=31, end=532, fasta=data/tmp/ssu-aln/ssu-aln.bacteria.afa, maxhomop=8, count=data/tmp/maxee_trunclen_B_primertrim.count_table)\" > /dev/null\n",
      "!cp data/tmp/ssu-aln/ssu-aln.bacteria.good.afa data/tmp/aln.good.fasta\n",
      "!mothur \"#filter.seqs(fasta=data/tmp/aln.good.fasta, vertical=t)\" > /dev/null\n",
      "!mothur \"#summary.seqs(fasta=data/tmp/aln.good.filter.fasta, count=data/tmp/ssu-aln/maxee_trunclen_B_primertrim.good.count_table)\""
     ],
     "language": "python",
     "metadata": {},
     "outputs": [
      {
       "output_type": "stream",
       "stream": "stdout",
       "text": [
        "\u001b[H\u001b[2J\r\n",
        "\r\n",
        "\r\n",
        "\r\n",
        "\r\n",
        "\r\n",
        "mothur v.1.32.1\r\n",
        "Last updated: 10/16/2013\r\n",
        "\r\n",
        "by\r\n",
        "Patrick D. Schloss\r\n",
        "\r\n",
        "Department of Microbiology & Immunology\r\n",
        "University of Michigan\r\n",
        "pschloss@umich.edu\r\n",
        "http://www.mothur.org\r\n",
        "\r\n",
        "When using, please cite:\r\n",
        "Schloss, P.D., et al., Introducing mothur: Open-source, platform-independent, community-supported software for describing and comparing microbial communities. Appl Environ Microbiol, 2009. 75(23):7537-41.\r\n",
        "\r\n",
        "Distributed under the GNU General Public License\r\n",
        "\r\n",
        "Type 'help()' for information on the commands that are available\r\n",
        "\r\n",
        "Type 'quit()' to exit program\r\n",
        "\r\n",
        "\r\n",
        "\r\n",
        "mothur > summary.seqs(fasta=data/tmp/aln.good.filter.fasta, count=data/tmp/ssu-aln/maxee_trunclen_B_primertrim.good.count_table)\r\n",
        "\r\n",
        "Using 1 processors.\r\n"
       ]
      },
      {
       "output_type": "stream",
       "stream": "stdout",
       "text": [
        "\r\n",
        "\t\tStart\tEnd\tNBases\tAmbigs\tPolymer\tNumSeqs\r\n",
        "Minimum:\t1\t446\t138\t0\t3\t1\r\n",
        "2.5%-tile:\t2\t450\t153\t0\t3\t512\r\n",
        "25%-tile:\t2\t498\t170\t0\t4\t5119\r\n",
        "Median: \t2\t538\t172\t0\t5\t10238\r\n",
        "75%-tile:\t2\t540\t173\t0\t5\t15357\r\n",
        "97.5%-tile:\t2\t585\t173\t0\t5\t19964\r\n",
        "Maximum:\t3\t611\t178\t0\t7\t20475\r\n",
        "Mean:\t1.9998\t527.508\t170.316\t0\t4.65123\r\n",
        "# of unique seqs:\t8216\r\n",
        "total # of seqs:\t20475\r\n",
        "\r\n",
        "Output File Names: \r\n",
        "data/tmp/aln.good.filter.summary\r\n",
        "\r\n",
        "\r\n",
        "mothur > quit()\r\n"
       ]
      }
     ],
     "prompt_number": 31
    },
    {
     "cell_type": "markdown",
     "metadata": {},
     "source": [
      "###The following code trims our reads so that they all start and end at the same position in the 16S gene."
     ]
    },
    {
     "cell_type": "code",
     "collapsed": false,
     "input": [
      "from cogent.parse.fasta import MinimalFastaParser\n",
      "from cogent import DNA\n",
      "out = open(\"data/tmp/aln.good.filter.filter.fasta\", \"w\")\n",
      "lengths = []\n",
      "start = 2\n",
      "end = 446\n",
      "\n",
      "for n, s in MinimalFastaParser(open(\"data/tmp/aln.good.filter.fasta\")):\n",
      "    s_nodots = s.replace(\".\",\"-\")\n",
      "    out.write(\">%s\\n%s\\n\"%(n, str(DNA.makeSequence(s_nodots)[start:end].degap())))\n",
      "    lengths.append(len(DNA.makeSequence(s_nodots)[start:end].degap()))\n",
      "\n",
      "out.close()\n",
      "    \n",
      "lengths = array(lengths)\n",
      "print lengths.min(), lengths.max(), lengths.mean()\n",
      "N, bins, bars = hist(lengths, bins=50)\n",
      "xlab = xlabel(\"sequence length, nt\")\n",
      "ylab = ylabel(\"# of seqs\")"
     ],
     "language": "python",
     "metadata": {},
     "outputs": [
      {
       "output_type": "stream",
       "stream": "stdout",
       "text": [
        "111 172 146.024586173\n"
       ]
      },
      {
       "metadata": {},
       "output_type": "display_data",
       "png": "[encoded data removed]",
       "text": [
        "<matplotlib.figure.Figure at 0x53b9f50>"
       ]
      }
     ],
     "prompt_number": 32
    },
    {
     "cell_type": "markdown",
     "metadata": {},
     "source": [
      "###That looks much better."
     ]
    },
    {
     "cell_type": "markdown",
     "metadata": {},
     "source": [
      "###We can use mothur to run uchime as well."
     ]
    },
    {
     "cell_type": "code",
     "collapsed": false,
     "input": [
      "!mothur \"#chimera.uchime(fasta=data/tmp/aln.good.filter.filter.fasta, reference=self, count=data/tmp/ssu-aln/maxee_trunclen_B_primertrim.good.count_table, dereplicate=t)\" > /dev/null 2>&1 "
     ],
     "language": "python",
     "metadata": {},
     "outputs": [],
     "prompt_number": 33
    },
    {
     "cell_type": "code",
     "collapsed": false,
     "input": [
      "!wc -l data/tmp/aln.good.filter.filter.uchime.accnos"
     ],
     "language": "python",
     "metadata": {},
     "outputs": [
      {
       "output_type": "stream",
       "stream": "stdout",
       "text": [
        "274 data/tmp/aln.good.filter.filter.uchime.accnos\r\n"
       ]
      }
     ],
     "prompt_number": 34
    },
    {
     "cell_type": "code",
     "collapsed": false,
     "input": [
      "!head data/tmp/aln.good.filter.filter.uchime.accnos"
     ],
     "language": "python",
     "metadata": {},
     "outputs": [
      {
       "output_type": "stream",
       "stream": "stdout",
       "text": [
        "B1.24.7.10_3605\r\n",
        "P2.15.7.10_39119\r\n",
        "B1.15.7.10_377\r\n",
        "B1.24.7.10_3579\r\n",
        "B1.24.7.10_6042\r\n",
        "B1.24.7.10_5842\r\n",
        "B1.15.7.10_1636\r\n",
        "B3.15.7.10_15179\r\n",
        "B2.15.7.10_9478\r\n",
        "P1.15.7.10_29084\r\n"
       ]
      }
     ],
     "prompt_number": 35
    },
    {
     "cell_type": "markdown",
     "metadata": {},
     "source": [
      "###Lastly we should removed plastid genome sequences that our primers have amplified. To do this, we first need to identify the plastid sequences."
     ]
    },
    {
     "cell_type": "code",
     "collapsed": false,
     "input": [
      "!mothur \"#classify.seqs(fasta=data/tmp/aln.good.filter.filter.fasta, reference=ref_db/rdp/trainset9_032012.rdp.fasta, taxonomy=ref_db/rdp/trainset9_032012.rdp.tax, cutoff=80)\" > /dev/null"
     ],
     "language": "python",
     "metadata": {},
     "outputs": [],
     "prompt_number": 36
    },
    {
     "cell_type": "markdown",
     "metadata": {},
     "source": [
      "####We have this many chloroplast or \"unknown\" sequences in our non-redundant reads to this point."
     ]
    },
    {
     "cell_type": "code",
     "collapsed": false,
     "input": [
      "!egrep -c \"Chloroplast|unknown\" data/tmp/aln.good.filter.filter.rdp.wang.taxonomy"
     ],
     "language": "python",
     "metadata": {},
     "outputs": [
      {
       "output_type": "stream",
       "stream": "stdout",
       "text": [
        "71\r\n"
       ]
      }
     ],
     "prompt_number": 37
    },
    {
     "cell_type": "markdown",
     "metadata": {},
     "source": [
      "####Make a list the \"accnos\" for the chloroplast|unknown seqs we want to remove..."
     ]
    },
    {
     "cell_type": "code",
     "collapsed": false,
     "input": [
      "!egrep \"Chloroplast|unknown\" data/tmp/aln.good.filter.filter.rdp.wang.taxonomy | \\\n",
      "awk '{print $1}' > data/tmp/chloroplast_or_unknown.accnos"
     ],
     "language": "python",
     "metadata": {},
     "outputs": [],
     "prompt_number": 38
    },
    {
     "cell_type": "markdown",
     "metadata": {},
     "source": [
      "###...and remove the chimeras from the fasta file (in addition to seqs that SSU-Align couldn't find an appropriate model for)."
     ]
    },
    {
     "cell_type": "code",
     "collapsed": false,
     "input": [
      "!cat data/tmp/ssu-aln/ssu-aln.nomatch \\\n",
      "data/tmp/aln.good.filter.filter.uchime.accnos \\\n",
      "data/tmp/chloroplast_or_unknown.accnos | \\\n",
      "sort | uniq > data/tmp/to_remove.accnos"
     ],
     "language": "python",
     "metadata": {},
     "outputs": [],
     "prompt_number": 39
    },
    {
     "cell_type": "code",
     "collapsed": false,
     "input": [
      "!head data/tmp/to_remove.accnos"
     ],
     "language": "python",
     "metadata": {},
     "outputs": [
      {
       "output_type": "stream",
       "stream": "stdout",
       "text": [
        "B1.15.7.10_1120\r\n",
        "B1.15.7.10_1130\r\n",
        "B1.15.7.10_1161\r\n",
        "B1.15.7.10_1199\r\n",
        "B1.15.7.10_1201\r\n",
        "B1.15.7.10_1224\r\n",
        "B1.15.7.10_1283\r\n",
        "B1.15.7.10_1340\r\n",
        "B1.15.7.10_1411\r\n",
        "B1.15.7.10_1480\r\n"
       ]
      }
     ],
     "prompt_number": 40
    },
    {
     "cell_type": "code",
     "collapsed": false,
     "input": [
      "!mothur \"#remove.seqs(accnos=data/tmp/to_remove.accnos, fasta=data/tmp/aln.good.filter.filter.fasta, count=data/tmp/ssu-aln/maxee_trunclen_B_primertrim.good.count_table)\" > /dev/null"
     ],
     "language": "python",
     "metadata": {},
     "outputs": [],
     "prompt_number": 41
    },
    {
     "cell_type": "code",
     "collapsed": false,
     "input": [
      "!mothur \"#summary.seqs(fasta=data/tmp/aln.good.filter.filter.pick.fasta, count=data/tmp/ssu-aln/maxee_trunclen_B_primertrim.good.pick.count_table)\""
     ],
     "language": "python",
     "metadata": {},
     "outputs": [
      {
       "output_type": "stream",
       "stream": "stdout",
       "text": [
        "\u001b[H\u001b[2J\r\n",
        "\r\n",
        "\r\n",
        "\r\n",
        "\r\n",
        "\r\n",
        "mothur v.1.32.1\r\n",
        "Last updated: 10/16/2013\r\n",
        "\r\n",
        "by\r\n",
        "Patrick D. Schloss\r\n",
        "\r\n",
        "Department of Microbiology & Immunology\r\n",
        "University of Michigan\r\n",
        "pschloss@umich.edu\r\n",
        "http://www.mothur.org\r\n",
        "\r\n",
        "When using, please cite:\r\n",
        "Schloss, P.D., et al., Introducing mothur: Open-source, platform-independent, community-supported software for describing and comparing microbial communities. Appl Environ Microbiol, 2009. 75(23):7537-41.\r\n",
        "\r\n",
        "Distributed under the GNU General Public License\r\n",
        "\r\n",
        "Type 'help()' for information on the commands that are available\r\n",
        "\r\n",
        "Type 'quit()' to exit program\r\n",
        "\r\n",
        "\r\n",
        "\r\n",
        "mothur > summary.seqs(fasta=data/tmp/aln.good.filter.filter.pick.fasta, count=data/tmp/ssu-aln/maxee_trunclen_B_primertrim.good.pick.count_table)\r\n",
        "\r\n",
        "Using 1 processors.\r\n"
       ]
      },
      {
       "output_type": "stream",
       "stream": "stdout",
       "text": [
        "\r\n",
        "\t\tStart\tEnd\tNBases\tAmbigs\tPolymer\tNumSeqs\r\n",
        "Minimum:\t1\t111\t111\t0\t3\t1\r\n",
        "2.5%-tile:\t1\t131\t131\t0\t3\t500\r\n",
        "25%-tile:\t1\t144\t144\t0\t4\t4995\r\n",
        "Median: \t1\t149\t149\t0\t5\t9990\r\n",
        "75%-tile:\t1\t151\t151\t0\t5\t14984\r\n",
        "97.5%-tile:\t1\t162\t162\t0\t5\t19479\r\n",
        "Maximum:\t1\t172\t172\t0\t7\t19978\r\n",
        "Mean:\t1\t146.417\t146.417\t0\t4.48704\r\n",
        "# of unique seqs:\t7871\r\n",
        "total # of seqs:\t19978\r\n",
        "\r\n",
        "Output File Names: \r\n",
        "data/tmp/aln.good.filter.filter.pick.summary\r\n",
        "\r\n",
        "\r\n",
        "mothur > quit()\r\n"
       ]
      }
     ],
     "prompt_number": 42
    },
    {
     "cell_type": "markdown",
     "metadata": {},
     "source": [
      "###Now we have our final QC'd set of sequences. We'll copy it out of the data/tmp directory and rename it something shorter."
     ]
    },
    {
     "cell_type": "markdown",
     "metadata": {},
     "source": [
      "####First we have to make a name file that is consistent with our final fasta."
     ]
    },
    {
     "cell_type": "code",
     "collapsed": false,
     "input": [
      "from cogent import DNA, LoadSeqs\n",
      "aln = LoadSeqs(\"data/tmp/aln.good.filter.filter.pick.fasta\", aligned=False, moltype=DNA)\n",
      "keepers = aln.Names\n",
      "out = open(\"data/tmp/aln.good.filter.filter.pick.names\", \"w\")\n",
      "for line in open(\"data/tmp/maxee_trunclen_B_primertrim.names\"):\n",
      "    if line.split()[0] in keepers:\n",
      "        out.write(line)\n",
      "out.close()"
     ],
     "language": "python",
     "metadata": {},
     "outputs": [],
     "prompt_number": 43
    },
    {
     "cell_type": "code",
     "collapsed": false,
     "input": [
      "!mothur \"#deunique.seqs(fasta=data/tmp/aln.good.filter.filter.pick.fasta, name=data/tmp/aln.good.filter.filter.pick.names)\" > /dev/null"
     ],
     "language": "python",
     "metadata": {},
     "outputs": [],
     "prompt_number": 44
    },
    {
     "cell_type": "code",
     "collapsed": false,
     "input": [
      "!cp data/tmp/aln.good.filter.filter.pick.redundant.fasta data/finalQC_B.fasta"
     ],
     "language": "python",
     "metadata": {},
     "outputs": [],
     "prompt_number": 45
    },
    {
     "cell_type": "code",
     "collapsed": false,
     "input": [
      "!grep -c \">\" data/finalQC_B.fasta\n",
      "!head data/finalQC_B.fasta"
     ],
     "language": "python",
     "metadata": {},
     "outputs": [
      {
       "output_type": "stream",
       "stream": "stdout",
       "text": [
        "19978\r\n"
       ]
      },
      {
       "output_type": "stream",
       "stream": "stdout",
       "text": [
        ">B1.15.7.10_21\r\n",
        "ACGAACGCTGGCGGCGTGCTTAACACATGCAAGTCGAACGAGGGCCCAGAGCTTGCTCTGGAGACCCGAGTGGCGAACGGGTGAGTAACACGTGACCAACCTGTCCTAGGGTGGGGGACAACCCGGGGAAACCTGGGCTAATACCGCA\r\n",
        ">B1.15.7.10_63\r\n",
        "ACGAACGTTGGCGGCGTGGATGAGGCATGCAAGTCGCGCGTGAAAGCTCCTTCGGGAGTGAGTAAAGCGGCGAACGGGTGAGTAACACGTAATCAAGCTGCCCCCGAGACCGGGATAACCACGGGAAACTGTGGCTAATACCGGA\r\n",
        ">B1.15.7.10_142\r\n",
        "ACGAACGCTGGCGGCAGGCCTAACACATGCAAGTCGAGCGCTTCCCTTCGGGGAGGAGCGGCGGACGGGTTAGTAACGCGTGGGAACATACCCTTTTCTAAGGAATAGCCTCGGGAAACTGAGAGTAATACCTTA\r\n",
        ">B1.24.7.10_3494\r\n",
        "ACGAACGCTGGCGGCAGGCCTAACACATGCAAGTCGAGCGCTTCCCTTCGGGGAGGAGCGGCGGACGGGTTAGTAACGCGTGGGAACATACCCTTTTCTAAGGAATAGCCTCGGGAAACTGAGAGTAATACCTTA\r\n",
        ">B1.15.7.10_154\r\n",
        "GCGAACGCTAGCGGGAGGCTTAACACATGCAAGTCGAGCGCTCAACTTCGGTTGAGAGCGGCGGACGGGTGAGTAACACGTAGGTTACCTGCCCTTTGGTGGGGGAGTAACTCTAGGAAACTGGAGCTAATACCGCA\r\n"
       ]
      }
     ],
     "prompt_number": 46
    }
   ],
   "metadata": {}
  }
 ]
}