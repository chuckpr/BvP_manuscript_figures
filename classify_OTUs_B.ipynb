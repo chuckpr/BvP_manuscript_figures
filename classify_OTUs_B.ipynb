{
 "metadata": {
  "name": "",
  "signature": "sha256:f51fcea60a943f19832132e2448a4207b9472d0d170ac47c6cc4309881c6d4fa"
 },
 "nbformat": 3,
 "nbformat_minor": 0,
 "worksheets": [
  {
   "cells": [
    {
     "cell_type": "code",
     "collapsed": false,
     "input": [
      "#!java -Xmx1g -jar /opt/RDPTools/classifier.jar classify \\\n",
      "#-o data/tmp/rdp_tax.txt \\\n",
      "#-f filterbyconf \\\n",
      "#data/otusn.fasta"
     ],
     "language": "python",
     "metadata": {},
     "outputs": [],
     "prompt_number": 55
    },
    {
     "cell_type": "code",
     "collapsed": false,
     "input": [
      "!parallel_assign_taxonomy_uclust.py \\\n",
      "-r data/tmp/gg_13_5_otus/rep_set/97_otus.fasta \\\n",
      "-t data/tmp/gg_13_5_otus/taxonomy/97_otu_taxonomy.txt \\\n",
      "-O 20 \\\n",
      "-i data/B/otusn.fasta \\\n",
      "-o data/B/tax_uclust"
     ],
     "language": "python",
     "metadata": {},
     "outputs": [],
     "prompt_number": 18
    },
    {
     "cell_type": "code",
     "collapsed": false,
     "input": [
      "!grep -c \">\" data/otusn.fasta"
     ],
     "language": "python",
     "metadata": {},
     "outputs": [
      {
       "output_type": "stream",
       "stream": "stdout",
       "text": [
        "636\r\n"
       ]
      }
     ],
     "prompt_number": 56
    },
    {
     "cell_type": "code",
     "collapsed": false,
     "input": [
      "#!wc -l data/tmp/rdp_tax.txt"
     ],
     "language": "python",
     "metadata": {},
     "outputs": [
      {
       "output_type": "stream",
       "stream": "stdout",
       "text": [
        "636 data/tmp/rdp_tax.txt\r\n"
       ]
      }
     ],
     "prompt_number": 57
    },
    {
     "cell_type": "code",
     "collapsed": false,
     "input": [
      "#!echo \"#OTUID\\ttaxonomy\" > data/otusn.tax\n",
      "#!awk 'BEGIN{OFS=\";\"}{print $1,$2,$5,$8,$11,$14,$17,$20,$23}' data/tmp/rdp_tax.txt |\\\n",
      "#sed 's/\"//g' | sed \"s/;/\\t/\" >> data/otusn.tax"
     ],
     "language": "python",
     "metadata": {},
     "outputs": [],
     "prompt_number": 58
    },
    {
     "cell_type": "code",
     "collapsed": false,
     "input": [
      "!cat data/B/tax_uclust/otusn_tax_assignments.txt | \\\n",
      "sed \"s/\\w__//g\" | \\\n",
      "sed \"s/; /;/g\" > data/B/tax_uclust/otusn_tax_assignments_fixed.txt"
     ],
     "language": "python",
     "metadata": {},
     "outputs": [],
     "prompt_number": 29
    },
    {
     "cell_type": "code",
     "collapsed": false,
     "input": [
      "!if [ -f data/B/otu_table.wtax.biom ]; \\\n",
      "then rm data/B/otu_table.wtax.biom; fi #This is to mitigate a biom bug\n",
      "!biom add-metadata -i data/B/otu_table.biom \\\n",
      "-o data/B/otu_table.wtax.biom \\\n",
      "--observation-metadata-fp data/B/tax_uclust/otusn_tax_assignments_fixed.txt \\\n",
      "--sc-separated taxonomy \\\n",
      "--observation-header OTUID,taxonomy,confidence,count"
     ],
     "language": "python",
     "metadata": {},
     "outputs": [],
     "prompt_number": 30
    },
    {
     "cell_type": "code",
     "collapsed": false,
     "input": [
      "!if [ -f data/B/otu_table.wtax_wsd.biom ]; \\\n",
      "then rm data/B/otu_table.wtax_wsd.biom; fi #This is to mitigate a biom bug\n",
      "!biom add-metadata --sample-metadata-fp data/chachie_mapper_B.txt \\\n",
      "-i data/B/otu_table.wtax.biom \\\n",
      "-o data/B/otu_table.wtax_wsd.biom"
     ],
     "language": "python",
     "metadata": {},
     "outputs": [],
     "prompt_number": 2
    },
    {
     "cell_type": "code",
     "collapsed": false,
     "input": [],
     "language": "python",
     "metadata": {},
     "outputs": []
    }
   ],
   "metadata": {}
  }
 ]
}