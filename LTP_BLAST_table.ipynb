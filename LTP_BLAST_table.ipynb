{
 "metadata": {
  "name": "",
  "signature": "sha256:4dfd835c8454966a2f894525a711e1a559ba2ff7e88795485399775a4295b032"
 },
 "nbformat": 3,
 "nbformat_minor": 0,
 "worksheets": [
  {
   "cells": [
    {
     "cell_type": "code",
     "collapsed": false,
     "input": [
      "from IPython.display import Image, FileLink\n",
      "import pandas.rpy.common as com"
     ],
     "language": "python",
     "metadata": {},
     "outputs": [
      {
       "output_type": "stream",
       "stream": "stderr",
       "text": [
        "/opt/anaconda/lib/python2.7/site-packages/pytz/__init__.py:29: UserWarning: Module argparse was already imported from /opt/anaconda/lib/python2.7/argparse.pyc, but /opt/anaconda/lib/python2.7/site-packages is being added to sys.path\n",
        "  from pkg_resources import resource_stream\n"
       ]
      }
     ],
     "prompt_number": 1
    },
    {
     "cell_type": "code",
     "collapsed": false,
     "input": [
      "%load_ext rmagic"
     ],
     "language": "python",
     "metadata": {},
     "outputs": [],
     "prompt_number": 2
    },
    {
     "cell_type": "code",
     "collapsed": false,
     "input": [
      "%%R\n",
      "library(data.table)\n",
      "library(dplyr)"
     ],
     "language": "python",
     "metadata": {},
     "outputs": [
      {
       "metadata": {},
       "output_type": "display_data",
       "text": [
        "data.table 1.9.2  For help type: help(\"data.table\")\n",
        "\n",
        "Attaching package: \u2018dplyr\u2019\n",
        "\n",
        "The following object is masked from \u2018package:data.table\u2019:\n",
        "\n",
        "    last\n",
        "\n",
        "The following objects are masked from \u2018package:stats\u2019:\n",
        "\n",
        "    filter, lag\n",
        "\n",
        "The following objects are masked from \u2018package:base\u2019:\n",
        "\n",
        "    intersect, setdiff, setequal, union\n",
        "\n"
       ]
      }
     ],
     "prompt_number": 3
    },
    {
     "cell_type": "code",
     "collapsed": false,
     "input": [
      "%%R\n",
      "blastout_dt = fread(\"../data/tmp/blast_out_otusn_LTP115.m6\")\n",
      "blastout_df = tbl_df(blastout_dt)\n",
      "colnames(blastout_df) = c(\"OTU\",\n",
      "                        \"acc\",\n",
      "                        \"pid\",\n",
      "                        \"aln.length\",\n",
      "                        \"mismatches\",\n",
      "                        \"gapOpenCount\",\n",
      "                        \"qstart\",\n",
      "                        \"qend\",\n",
      "                        \"sstart\",\n",
      "                        \"send\",\n",
      "                        \"e.value\",\n",
      "                        \"bit.score\")\n",
      "\n",
      "top_hits_df_LTP = blastout_df %.% \n",
      "                          group_by(OTU) %.% \n",
      "                          mutate(Rank = rank(desc(bit.score), ties.method = \"min\")) %.% \n",
      "                          filter(Rank == 1)"
     ],
     "language": "python",
     "metadata": {},
     "outputs": [],
     "prompt_number": 4
    },
    {
     "cell_type": "code",
     "collapsed": false,
     "input": [
      "%%R\n",
      "dt = fread(\"/var/seq_data/LTP115_db/LTPs115_SSU.csv\")\n",
      "colnames(dt) = c(\"acc\",\"start\",\"end\",\"DB.version\",\"name\",\"unknown1\",\"family\",\"unknown2\",\"url\",\"full_tax\")\n",
      "LTP_seq_data = tbl_df(dt)"
     ],
     "language": "python",
     "metadata": {},
     "outputs": [],
     "prompt_number": 5
    },
    {
     "cell_type": "code",
     "collapsed": false,
     "input": [
      "%%R\n",
      "joined_df = left_join(top_hits_df_LTP, LTP_seq_data)"
     ],
     "language": "python",
     "metadata": {},
     "outputs": [
      {
       "metadata": {},
       "output_type": "display_data",
       "text": [
        "Joining by: \"acc\"\n"
       ]
      }
     ],
     "prompt_number": 6
    },
    {
     "cell_type": "code",
     "collapsed": false,
     "input": [
      "%%R\n",
      "df.l2fc = read.table(\"../data/BvP.l2fc.bact.csv\", sep = \",\", header = TRUE, stringsAsFactors = FALSE)\n",
      "df.l2fc.summary = df.l2fc %.% group_by(OTU) %.% summarize(m = max(abs(log2FoldChange)), \n",
      "                                                          Rank2 = first(Rank2), \n",
      "                                                          Rank6 = first(Rank6),\n",
      "                                                          Rank3 = first(Rank3),\n",
      "                                                          Rank5 = first(Rank5),\n",
      "                                                          minP = min(padj)) %.% arrange(desc(m))"
     ],
     "language": "python",
     "metadata": {},
     "outputs": [],
     "prompt_number": 7
    },
    {
     "cell_type": "code",
     "collapsed": false,
     "input": [
      "%%R\n",
      "head(df.l2fc.summary)"
     ],
     "language": "python",
     "metadata": {},
     "outputs": [
      {
       "metadata": {},
       "output_type": "display_data",
       "text": [
        "Source: local data frame [6 x 7]\n",
        "\n",
        "     OTU        m          Rank2          Rank6               Rank3\n",
        "1 OTU.19 3.053349 Proteobacteria             NA Gammaproteobacteria\n",
        "2 OTU.11 2.993512 Proteobacteria             NA  Betaproteobacteria\n",
        "3 OTU.20 2.942389 Proteobacteria             NA Alphaproteobacteria\n",
        "4 OTU.31 2.888836  Bacteroidetes Flavobacterium      Flavobacteriia\n",
        "5  OTU.3 2.699399 Proteobacteria             NA Gammaproteobacteria\n",
        "6 OTU.26 2.671702 Actinobacteria             NA      Acidimicrobiia\n",
        "Variables not shown: Rank5 (chr), minP (dbl)\n"
       ]
      }
     ],
     "prompt_number": 8
    },
    {
     "cell_type": "code",
     "collapsed": false,
     "input": [
      "%%R\n",
      "N = 20\n",
      "FDR = 0.10\n",
      "topN = arrange(df.l2fc.summary, desc(m)) %.% filter(minP <= FDR) %.% select(OTU, Rank2)\n",
      "topN_otus = topN$OTU[1:N]\n",
      "topN_df = left_join(joined_df, topN) %.% filter(OTU %in% topN_otus)"
     ],
     "language": "python",
     "metadata": {},
     "outputs": [
      {
       "metadata": {},
       "output_type": "display_data",
       "text": [
        "Joining by: \"OTU\"\n"
       ]
      }
     ],
     "prompt_number": 20
    },
    {
     "cell_type": "code",
     "collapsed": false,
     "input": [
      "df = com.load_data(\"topN_df\")"
     ],
     "language": "python",
     "metadata": {},
     "outputs": [],
     "prompt_number": 21
    },
    {
     "cell_type": "code",
     "collapsed": false,
     "input": [
      "def get_latex(df):\n",
      "    latex = \"\"\n",
      "    prefix = r\"\\multirow{%s}{*}{%s}\"%(len(df.index), df.OTU.iloc[0])\n",
      "    for i, r in df[[\"Rank2\",\"name\",\"pid\",\"acc\"]].iterrows():\n",
      "        latex += \" & \" + \" & \".join([str(i) for i in r.values]) + r\" \\\\ \"\n",
      "    return prefix + latex + r\"\\midrule\" + \"\\n\""
     ],
     "language": "python",
     "metadata": {},
     "outputs": [],
     "prompt_number": 22
    },
    {
     "cell_type": "code",
     "collapsed": false,
     "input": [
      "s = df.groupby(\"OTU\").apply(get_latex)\n",
      "\n",
      "table_framework = r\"\"\"\n",
      "\\documentclass[11pt]{article}\n",
      "\\usepackage{multirow, array, booktabs}\n",
      "\\begin{document}\n",
      "\n",
      "\\thispagestyle{empty}\n",
      " \n",
      "\\begin{table}[ht]\n",
      "\\caption{Results for BLAST search against Living Tree Project}\n",
      "\\begin{center}\n",
      "\\begin{tabular}{ll>{\\itshape}lrl}\n",
      "    \\toprule \\\\\n",
      "    \\textbf{OTU ID} & \\textbf{Phylum} & \\textbf{Species Name} & \\textbf{BLAST percent identity} & \\textbf{accession} \\\\\n",
      "    \\midrule\n",
      "    %s\n",
      "    \\bottomrule\n",
      "\\end{tabular}\n",
      "\\end{center}\n",
      "\\label{tab:multicol}\n",
      "\\end{table}\n",
      " \n",
      "\\end{document}\"\"\"%\"\".join(s.values)\n",
      "\n",
      "with open(\"../data/tmp/table.tex\", \"w\") as out:\n",
      "    out.write(table_framework)"
     ],
     "language": "python",
     "metadata": {},
     "outputs": [],
     "prompt_number": 23
    },
    {
     "cell_type": "code",
     "collapsed": false,
     "input": [
      "!latex -output-directory=\"../data/tmp\" ../data/tmp/table.tex >/dev/null 2>&1 && \\\n",
      "dvipng -o figs/table.png ../data/tmp/table.dvi >/dev/null 2>&1\n",
      "Image(\"figs/table.png\")"
     ],
     "language": "python",
     "metadata": {},
     "outputs": [
      {
       "metadata": {},
       "output_type": "pyout",
       "png": "[encoded data removed]",
       "prompt_number": 24,
       "text": [
        "<IPython.core.display.Image at 0x51589d0>"
       ]
      }
     ],
     "prompt_number": 24
    },
    {
     "cell_type": "code",
     "collapsed": false,
     "input": [
      "FileLink(\"figs/table.png\")"
     ],
     "language": "python",
     "metadata": {},
     "outputs": [
      {
       "html": [
        "<a href='figs/table.png' target='_blank'>figs/table.png</a><br>"
       ],
       "metadata": {},
       "output_type": "pyout",
       "prompt_number": 13,
       "text": [
        "/home/chuck/working/chachie_nb/BvP_manuscript_figures/figs/table.png"
       ]
      }
     ],
     "prompt_number": 13
    }
   ],
   "metadata": {}
  }
 ]
}