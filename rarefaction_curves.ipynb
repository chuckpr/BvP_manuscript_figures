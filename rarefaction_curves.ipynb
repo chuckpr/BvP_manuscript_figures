{
 "metadata": {
  "name": "",
  "signature": "sha256:b0c525654dbe4c2164a3cf2d2a041f3fd4245fa74f346a84de77ee0d59f4f9f3"
 },
 "nbformat": 3,
 "nbformat_minor": 0,
 "worksheets": [
  {
   "cells": [
    {
     "cell_type": "code",
     "collapsed": false,
     "input": [
      "from biom.parse import parse_biom_table\n",
      "from cogent.maths.stats.rarefaction import rarefaction\n",
      "from IPython.display import FileLink\n",
      "import pandas as pd\n",
      "import pandas.rpy.common as com\n",
      "%pylab inline"
     ],
     "language": "python",
     "metadata": {},
     "outputs": [
      {
       "output_type": "stream",
       "stream": "stdout",
       "text": [
        "Populating the interactive namespace from numpy and matplotlib\n"
       ]
      },
      {
       "output_type": "stream",
       "stream": "stderr",
       "text": [
        "WARNING: pylab import has clobbered these variables: ['f']\n",
        "`%matplotlib` prevents importing * from pylab and numpy\n"
       ]
      }
     ],
     "prompt_number": 101
    },
    {
     "cell_type": "code",
     "collapsed": false,
     "input": [
      "%load_ext rpy2.ipython"
     ],
     "language": "python",
     "metadata": {},
     "outputs": [
      {
       "output_type": "stream",
       "stream": "stdout",
       "text": [
        "The rpy2.ipython extension is already loaded. To reload it, use:\n",
        "  %reload_ext rpy2.ipython\n"
       ]
      }
     ],
     "prompt_number": 102
    },
    {
     "cell_type": "code",
     "collapsed": false,
     "input": [
      "%%R\n",
      "library(plyr); library(dplyr)\n",
      "library(phyloseq)"
     ],
     "language": "python",
     "metadata": {},
     "outputs": [
      {
       "metadata": {},
       "output_type": "display_data",
       "text": [
        "\n",
        "Attaching package: \u2018dplyr\u2019\n",
        "\n",
        "The following objects are masked from \u2018package:plyr\u2019:\n",
        "\n",
        "    arrange, desc, failwith, id, mutate, summarise, summarize\n",
        "\n",
        "The following objects are masked from \u2018package:stats\u2019:\n",
        "\n",
        "    filter, lag\n",
        "\n",
        "The following objects are masked from \u2018package:base\u2019:\n",
        "\n",
        "    intersect, setdiff, setequal, union\n",
        "\n"
       ]
      }
     ],
     "prompt_number": 128
    },
    {
     "cell_type": "code",
     "collapsed": false,
     "input": [
      "otu_table = parse_biom_table(open(\"../data/A/otu_table.wtax.biom\"))\n",
      "otu_table_norm = otu_table.normObservationBySample()"
     ],
     "language": "python",
     "metadata": {},
     "outputs": [],
     "prompt_number": 104
    },
    {
     "cell_type": "code",
     "collapsed": false,
     "input": [
      "def f(ov, oid, omd):\n",
      "    if omd[\"taxonomy\"][0] == \"Eukaryota\":\n",
      "        return True\n",
      "    else:\n",
      "        return False\n",
      "otu_table_euks = otu_table.filterObservations(f)"
     ],
     "language": "python",
     "metadata": {},
     "outputs": [],
     "prompt_number": 105
    },
    {
     "cell_type": "code",
     "collapsed": false,
     "input": [
      "pw_comps = ((\"B4.24.7.10\",\"P4.24.7.10\"),\n",
      "            (\"B3.15.7.10\",\"P3.15.7.10\"),\n",
      "            (\"B3.24.7.10\",\"P3.24.7.10\"),\n",
      "            (\"B2.15.7.10\",\"P2.15.7.10\"),\n",
      "            (\"B2.24.7.10\",\"P2.24.7.10\"),\n",
      "            (\"B1.15.7.10\",\"P1.15.7.10\"),\n",
      "            (\"B1.24.7.10\",\"P1.24.7.70\"))"
     ],
     "language": "python",
     "metadata": {},
     "outputs": [],
     "prompt_number": 106
    },
    {
     "cell_type": "code",
     "collapsed": false,
     "input": [
      "data1 = otu_table_euks.sampleData(\"B4.24.7.10\")\n",
      "data2 = otu_table_euks.sampleData(\"P4.24.7.10\")\n",
      "print data1.sum(), data2.sum()"
     ],
     "language": "python",
     "metadata": {},
     "outputs": [
      {
       "output_type": "stream",
       "stream": "stdout",
       "text": [
        "560.0 613.0\n"
       ]
      }
     ],
     "prompt_number": 107
    },
    {
     "cell_type": "code",
     "collapsed": false,
     "input": [
      "data1.nonzero()[0].shape"
     ],
     "language": "python",
     "metadata": {},
     "outputs": [
      {
       "metadata": {},
       "output_type": "pyout",
       "prompt_number": 108,
       "text": [
        "(52,)"
       ]
      }
     ],
     "prompt_number": 108
    },
    {
     "cell_type": "code",
     "collapsed": false,
     "input": [
      "def get_raref_vector(data, stride=10, iters=25):\n",
      "    rare_data = vstack([[len(h.nonzero()[0]) for h in rarefaction(data, stride=stride)] \\\n",
      "                        for i in range(iters)])\n",
      "    X = arange(stride,data.sum()+stride,stride)\n",
      "    return X, mean(rare_data, axis=0)"
     ],
     "language": "python",
     "metadata": {},
     "outputs": [],
     "prompt_number": 109
    },
    {
     "cell_type": "code",
     "collapsed": false,
     "input": [
      "fig, axarr = plt.subplots(nrows=4, \n",
      "                          ncols=2,\n",
      "                          figsize=(6,12))\n",
      "axarr[0,0].set_visible(False)\n",
      "fig.subplots_adjust(hspace=0.4)\n",
      "for comp, ax in zip(pw_comps, axarr.reshape(-1)[1:]):\n",
      "    data1 = otu_table_euks.sampleData(comp[0])\n",
      "    data2 = otu_table_euks.sampleData(comp[1])\n",
      "    X1, rare_data1 = get_raref_vector(data1)\n",
      "    X2, rare_data2 = get_raref_vector(data2)\n",
      "    ax.plot(X1, rare_data1, color='g', lw=2)\n",
      "    ax.plot(X2, rare_data2, color='b', lw=2)\n",
      "    ax.set_title(\"%s v. %s\"%(comp[0], comp[1]),\n",
      "                 size=10)\n",
      "    for xlab in ax.get_xticklabels():\n",
      "        xlab.set_rotation(45)\n",
      "        xlab.set_size(9)\n",
      "\n",
      "for ax in axarr[3,:]:\n",
      "    ax.set_xlabel(\"Number of Sequences Sampled\", size=9)\n",
      "\n",
      "for ax in axarr[:,0]:\n",
      "        ax.set_ylabel(\"Observed OTUs\")\n",
      "\n",
      "fig.savefig(\"figs/algae_rarefaction_curves.pdf\")"
     ],
     "language": "python",
     "metadata": {},
     "outputs": [
      {
       "metadata": {},
       "output_type": "display_data",
       "png": "[encoded data removed]",
       "text": [
        "<matplotlib.figure.Figure at 0x6312390>"
       ]
      }
     ],
     "prompt_number": 110
    },
    {
     "cell_type": "code",
     "collapsed": false,
     "input": [
      "otu_table_bact = parse_biom_table(open(\"../data/B/otu_table.wtax_wsd.biom\"))\n",
      "otu_table_euk = parse_biom_table(open(\"../data/A/otu_table.wtax_wsd.biom\"))"
     ],
     "language": "python",
     "metadata": {},
     "outputs": [],
     "prompt_number": 111
    },
    {
     "cell_type": "code",
     "collapsed": false,
     "input": [
      "t = otu_table_euk\n",
      "    \n",
      "dfs = {}\n",
      "for sid in t.SampleIds:\n",
      "    counts = t.sampleData(sid)\n",
      "    x, raref_data = get_raref_vector(counts)\n",
      "    dfs[sid] = pd.DataFrame(data={\"x\" : x, \"y\" : raref_data})\n",
      "    \n",
      "df_all = pd.concat(dfs, axis=0)\n",
      "df_all = df_all.reset_index()\n",
      "df_all.drop([\"level_1\"], axis=1, inplace=True)\n",
      "df_all.rename(columns = {\"level_0\" : \"SampleID\"}, inplace=True)\n",
      "sample_data = pd.read_csv(\"../data/chachie_mapper_A.txt\", sep=\"\\t\")\n",
      "sample_data.rename(columns={\"#SampleID\" : \"SampleID\"}, inplace=True)\n",
      "df_euk = df_all.merge(sample_data, on=\"SampleID\") \n",
      "df_euk.head()"
     ],
     "language": "python",
     "metadata": {},
     "outputs": [
      {
       "html": [
        "<div style=\"max-height:1000px;max-width:1500px;overflow:auto;\">\n",
        "<table border=\"1\" class=\"dataframe\">\n",
        "  <thead>\n",
        "    <tr style=\"text-align: right;\">\n",
        "      <th></th>\n",
        "      <th>SampleID</th>\n",
        "      <th>x</th>\n",
        "      <th>y</th>\n",
        "      <th>BarcodeSequence</th>\n",
        "      <th>LinkerPrimerSequence</th>\n",
        "      <th>ReversePrimer</th>\n",
        "      <th>EnvironmentType</th>\n",
        "      <th>Experiment</th>\n",
        "      <th>CarbonToPhosphorous</th>\n",
        "      <th>HighLow</th>\n",
        "      <th>Date</th>\n",
        "      <th>Description</th>\n",
        "    </tr>\n",
        "  </thead>\n",
        "  <tbody>\n",
        "    <tr>\n",
        "      <th>0</th>\n",
        "      <td> B1.15.7.10</td>\n",
        "      <td> 10</td>\n",
        "      <td>  7.80</td>\n",
        "      <td> GTTGATTA</td>\n",
        "      <td> GGACAGAAAGACCCTATGAA</td>\n",
        "      <td> TCAGCCTGTTATCCCTAGAG</td>\n",
        "      <td> biofilm</td>\n",
        "      <td> B1</td>\n",
        "      <td> 500</td>\n",
        "      <td> high</td>\n",
        "      <td> 8</td>\n",
        "      <td> B1_15.7.10</td>\n",
        "    </tr>\n",
        "    <tr>\n",
        "      <th>1</th>\n",
        "      <td> B1.15.7.10</td>\n",
        "      <td> 20</td>\n",
        "      <td> 13.44</td>\n",
        "      <td> GTTGATTA</td>\n",
        "      <td> GGACAGAAAGACCCTATGAA</td>\n",
        "      <td> TCAGCCTGTTATCCCTAGAG</td>\n",
        "      <td> biofilm</td>\n",
        "      <td> B1</td>\n",
        "      <td> 500</td>\n",
        "      <td> high</td>\n",
        "      <td> 8</td>\n",
        "      <td> B1_15.7.10</td>\n",
        "    </tr>\n",
        "    <tr>\n",
        "      <th>2</th>\n",
        "      <td> B1.15.7.10</td>\n",
        "      <td> 30</td>\n",
        "      <td> 17.00</td>\n",
        "      <td> GTTGATTA</td>\n",
        "      <td> GGACAGAAAGACCCTATGAA</td>\n",
        "      <td> TCAGCCTGTTATCCCTAGAG</td>\n",
        "      <td> biofilm</td>\n",
        "      <td> B1</td>\n",
        "      <td> 500</td>\n",
        "      <td> high</td>\n",
        "      <td> 8</td>\n",
        "      <td> B1_15.7.10</td>\n",
        "    </tr>\n",
        "    <tr>\n",
        "      <th>3</th>\n",
        "      <td> B1.15.7.10</td>\n",
        "      <td> 40</td>\n",
        "      <td> 20.04</td>\n",
        "      <td> GTTGATTA</td>\n",
        "      <td> GGACAGAAAGACCCTATGAA</td>\n",
        "      <td> TCAGCCTGTTATCCCTAGAG</td>\n",
        "      <td> biofilm</td>\n",
        "      <td> B1</td>\n",
        "      <td> 500</td>\n",
        "      <td> high</td>\n",
        "      <td> 8</td>\n",
        "      <td> B1_15.7.10</td>\n",
        "    </tr>\n",
        "    <tr>\n",
        "      <th>4</th>\n",
        "      <td> B1.15.7.10</td>\n",
        "      <td> 50</td>\n",
        "      <td> 23.08</td>\n",
        "      <td> GTTGATTA</td>\n",
        "      <td> GGACAGAAAGACCCTATGAA</td>\n",
        "      <td> TCAGCCTGTTATCCCTAGAG</td>\n",
        "      <td> biofilm</td>\n",
        "      <td> B1</td>\n",
        "      <td> 500</td>\n",
        "      <td> high</td>\n",
        "      <td> 8</td>\n",
        "      <td> B1_15.7.10</td>\n",
        "    </tr>\n",
        "  </tbody>\n",
        "</table>\n",
        "</div>"
       ],
       "metadata": {},
       "output_type": "pyout",
       "prompt_number": 112,
       "text": [
        "     SampleID   x      y BarcodeSequence  LinkerPrimerSequence  \\\n",
        "0  B1.15.7.10  10   7.80        GTTGATTA  GGACAGAAAGACCCTATGAA   \n",
        "1  B1.15.7.10  20  13.44        GTTGATTA  GGACAGAAAGACCCTATGAA   \n",
        "2  B1.15.7.10  30  17.00        GTTGATTA  GGACAGAAAGACCCTATGAA   \n",
        "3  B1.15.7.10  40  20.04        GTTGATTA  GGACAGAAAGACCCTATGAA   \n",
        "4  B1.15.7.10  50  23.08        GTTGATTA  GGACAGAAAGACCCTATGAA   \n",
        "\n",
        "          ReversePrimer EnvironmentType Experiment CarbonToPhosphorous  \\\n",
        "0  TCAGCCTGTTATCCCTAGAG         biofilm         B1                 500   \n",
        "1  TCAGCCTGTTATCCCTAGAG         biofilm         B1                 500   \n",
        "2  TCAGCCTGTTATCCCTAGAG         biofilm         B1                 500   \n",
        "3  TCAGCCTGTTATCCCTAGAG         biofilm         B1                 500   \n",
        "4  TCAGCCTGTTATCCCTAGAG         biofilm         B1                 500   \n",
        "\n",
        "  HighLow  Date Description  \n",
        "0    high     8  B1_15.7.10  \n",
        "1    high     8  B1_15.7.10  \n",
        "2    high     8  B1_15.7.10  \n",
        "3    high     8  B1_15.7.10  \n",
        "4    high     8  B1_15.7.10  "
       ]
      }
     ],
     "prompt_number": 112
    },
    {
     "cell_type": "code",
     "collapsed": false,
     "input": [
      "pd.read_csv(\"../data/chachie_mapper_B.txt\", sep=\"\\t\")"
     ],
     "language": "python",
     "metadata": {},
     "outputs": [
      {
       "html": [
        "<div style=\"max-height:1000px;max-width:1500px;overflow:auto;\">\n",
        "<table border=\"1\" class=\"dataframe\">\n",
        "  <thead>\n",
        "    <tr style=\"text-align: right;\">\n",
        "      <th></th>\n",
        "      <th>#SampleID</th>\n",
        "      <th>BarcodeSequence</th>\n",
        "      <th>LinkerPrimerSequence</th>\n",
        "      <th>ReversePrimer</th>\n",
        "      <th>Variable</th>\n",
        "      <th>CarbonToPhosphorous</th>\n",
        "      <th>HighLow</th>\n",
        "      <th>EnvironmentType</th>\n",
        "      <th>Experiment</th>\n",
        "      <th>Date</th>\n",
        "      <th>Description</th>\n",
        "    </tr>\n",
        "  </thead>\n",
        "  <tbody>\n",
        "    <tr>\n",
        "      <th>0 </th>\n",
        "      <td> B1.15.7.10</td>\n",
        "      <td> ACCGCACA</td>\n",
        "      <td> GAGTTTGATCNTGGCTCAG </td>\n",
        "      <td> GTNTTACNGCGGCKGCTG</td>\n",
        "      <td> L</td>\n",
        "      <td>     500</td>\n",
        "      <td> high</td>\n",
        "      <td>    biofilm</td>\n",
        "      <td> B1</td>\n",
        "      <td>  8</td>\n",
        "      <td> B1_15.7.10</td>\n",
        "    </tr>\n",
        "    <tr>\n",
        "      <th>1 </th>\n",
        "      <td> B1.24.7.10</td>\n",
        "      <td> ACGCCGCA</td>\n",
        "      <td>  GAGTTTGATCNTGGCTCAG</td>\n",
        "      <td> GTNTTACNGCGGCKGCTG</td>\n",
        "      <td> H</td>\n",
        "      <td>     500</td>\n",
        "      <td> high</td>\n",
        "      <td>    biofilm</td>\n",
        "      <td> B1</td>\n",
        "      <td> 17</td>\n",
        "      <td> B1_24.7.10</td>\n",
        "    </tr>\n",
        "    <tr>\n",
        "      <th>2 </th>\n",
        "      <td> B2.15.7.10</td>\n",
        "      <td> ACCTCTAA</td>\n",
        "      <td>  GAGTTTGATCNTGGCTCAG</td>\n",
        "      <td> GTNTTACNGCGGCKGCTG</td>\n",
        "      <td> L</td>\n",
        "      <td>     100</td>\n",
        "      <td>  low</td>\n",
        "      <td>    biofilm</td>\n",
        "      <td> B2</td>\n",
        "      <td>  8</td>\n",
        "      <td> B2_15.7.10</td>\n",
        "    </tr>\n",
        "    <tr>\n",
        "      <th>3 </th>\n",
        "      <td> B2.24.7.10</td>\n",
        "      <td> ACGGAGTA</td>\n",
        "      <td>  GAGTTTGATCNTGGCTCAG</td>\n",
        "      <td> GTNTTACNGCGGCKGCTG</td>\n",
        "      <td> L</td>\n",
        "      <td>     100</td>\n",
        "      <td>  low</td>\n",
        "      <td>    biofilm</td>\n",
        "      <td> B2</td>\n",
        "      <td> 17</td>\n",
        "      <td> B2_24.7.10</td>\n",
        "    </tr>\n",
        "    <tr>\n",
        "      <th>4 </th>\n",
        "      <td> B3.15.7.10</td>\n",
        "      <td> ACGAATGA</td>\n",
        "      <td>  GAGTTTGATCNTGGCTCAG</td>\n",
        "      <td> GTNTTACNGCGGCKGCTG</td>\n",
        "      <td> L</td>\n",
        "      <td>      10</td>\n",
        "      <td>  low</td>\n",
        "      <td>    biofilm</td>\n",
        "      <td> B3</td>\n",
        "      <td>  8</td>\n",
        "      <td> B3_15.7.10</td>\n",
        "    </tr>\n",
        "    <tr>\n",
        "      <th>5 </th>\n",
        "      <td> B3.24.7.10</td>\n",
        "      <td> ACGGTTCA</td>\n",
        "      <td>  GAGTTTGATCNTGGCTCAG</td>\n",
        "      <td> GTNTTACNGCGGCKGCTG</td>\n",
        "      <td> L</td>\n",
        "      <td>      10</td>\n",
        "      <td>  low</td>\n",
        "      <td>    biofilm</td>\n",
        "      <td> B3</td>\n",
        "      <td> 17</td>\n",
        "      <td> B3_24.7.10</td>\n",
        "    </tr>\n",
        "    <tr>\n",
        "      <th>6 </th>\n",
        "      <td> B4.24.7.10</td>\n",
        "      <td> ACGTGTTA</td>\n",
        "      <td>  GAGTTTGATCNTGGCTCAG</td>\n",
        "      <td> GTNTTACNGCGGCKGCTG</td>\n",
        "      <td> L</td>\n",
        "      <td> control</td>\n",
        "      <td>  low</td>\n",
        "      <td>    biofilm</td>\n",
        "      <td> B4</td>\n",
        "      <td> 17</td>\n",
        "      <td> B4_24.7.10</td>\n",
        "    </tr>\n",
        "    <tr>\n",
        "      <th>7 </th>\n",
        "      <td> P1.15.7.10</td>\n",
        "      <td> ACCTAATA</td>\n",
        "      <td>  GAGTTTGATCNTGGCTCAG</td>\n",
        "      <td> GTNTTACNGCGGCKGCTG</td>\n",
        "      <td> L</td>\n",
        "      <td>     500</td>\n",
        "      <td> high</td>\n",
        "      <td> planktonic</td>\n",
        "      <td> P1</td>\n",
        "      <td>  8</td>\n",
        "      <td> P1_15.7.10</td>\n",
        "    </tr>\n",
        "    <tr>\n",
        "      <th>8 </th>\n",
        "      <td> P1.24.7.70</td>\n",
        "      <td> ACGCTAGA</td>\n",
        "      <td>  GAGTTTGATCNTGGCTCAG</td>\n",
        "      <td> GTNTTACNGCGGCKGCTG</td>\n",
        "      <td> H</td>\n",
        "      <td>     500</td>\n",
        "      <td> high</td>\n",
        "      <td> planktonic</td>\n",
        "      <td> P1</td>\n",
        "      <td> 17</td>\n",
        "      <td> P1_24.7.70</td>\n",
        "    </tr>\n",
        "    <tr>\n",
        "      <th>9 </th>\n",
        "      <td> P2.15.7.10</td>\n",
        "      <td> ACCTTCCA</td>\n",
        "      <td>  GAGTTTGATCNTGGCTCAG</td>\n",
        "      <td> GTNTTACNGCGGCKGCTG</td>\n",
        "      <td> L</td>\n",
        "      <td>     100</td>\n",
        "      <td>  low</td>\n",
        "      <td> planktonic</td>\n",
        "      <td> P2</td>\n",
        "      <td>  8</td>\n",
        "      <td> P2_15.7.10</td>\n",
        "    </tr>\n",
        "    <tr>\n",
        "      <th>10</th>\n",
        "      <td> P2.24.7.10</td>\n",
        "      <td> ACGGGCAA</td>\n",
        "      <td>  GAGTTTGATCNTGGCTCAG</td>\n",
        "      <td> GTNTTACNGCGGCKGCTG</td>\n",
        "      <td> L</td>\n",
        "      <td>     100</td>\n",
        "      <td>  low</td>\n",
        "      <td> planktonic</td>\n",
        "      <td> P2</td>\n",
        "      <td> 17</td>\n",
        "      <td> P2_24.7.10</td>\n",
        "    </tr>\n",
        "    <tr>\n",
        "      <th>11</th>\n",
        "      <td> P3.15.7.10</td>\n",
        "      <td> ACGAGCTA</td>\n",
        "      <td>  GAGTTTGATCNTGGCTCAG</td>\n",
        "      <td> GTNTTACNGCGGCKGCTG</td>\n",
        "      <td> L</td>\n",
        "      <td>      10</td>\n",
        "      <td>  low</td>\n",
        "      <td> planktonic</td>\n",
        "      <td> P3</td>\n",
        "      <td>  8</td>\n",
        "      <td> P3_15.7.10</td>\n",
        "    </tr>\n",
        "    <tr>\n",
        "      <th>12</th>\n",
        "      <td> P3.24.7.10</td>\n",
        "      <td> ACGTCCGA</td>\n",
        "      <td>  GAGTTTGATCNTGGCTCAG</td>\n",
        "      <td> GTNTTACNGCGGCKGCTG</td>\n",
        "      <td> L</td>\n",
        "      <td>      10</td>\n",
        "      <td>  low</td>\n",
        "      <td> planktonic</td>\n",
        "      <td> P3</td>\n",
        "      <td> 17</td>\n",
        "      <td> P3_24.7.10</td>\n",
        "    </tr>\n",
        "    <tr>\n",
        "      <th>13</th>\n",
        "      <td> P4.24.7.10</td>\n",
        "      <td> ACTAAGAA</td>\n",
        "      <td>  GAGTTTGATCNTGGCTCAG</td>\n",
        "      <td> GTNTTACNGCGGCKGCTG</td>\n",
        "      <td> L</td>\n",
        "      <td> control</td>\n",
        "      <td>  low</td>\n",
        "      <td> planktonic</td>\n",
        "      <td> P4</td>\n",
        "      <td> 17</td>\n",
        "      <td> P4_24.7.10</td>\n",
        "    </tr>\n",
        "  </tbody>\n",
        "</table>\n",
        "</div>"
       ],
       "metadata": {},
       "output_type": "pyout",
       "prompt_number": 113,
       "text": [
        "     #SampleID BarcodeSequence  LinkerPrimerSequence       ReversePrimer  \\\n",
        "0   B1.15.7.10        ACCGCACA  GAGTTTGATCNTGGCTCAG   GTNTTACNGCGGCKGCTG   \n",
        "1   B1.24.7.10        ACGCCGCA   GAGTTTGATCNTGGCTCAG  GTNTTACNGCGGCKGCTG   \n",
        "2   B2.15.7.10        ACCTCTAA   GAGTTTGATCNTGGCTCAG  GTNTTACNGCGGCKGCTG   \n",
        "3   B2.24.7.10        ACGGAGTA   GAGTTTGATCNTGGCTCAG  GTNTTACNGCGGCKGCTG   \n",
        "4   B3.15.7.10        ACGAATGA   GAGTTTGATCNTGGCTCAG  GTNTTACNGCGGCKGCTG   \n",
        "5   B3.24.7.10        ACGGTTCA   GAGTTTGATCNTGGCTCAG  GTNTTACNGCGGCKGCTG   \n",
        "6   B4.24.7.10        ACGTGTTA   GAGTTTGATCNTGGCTCAG  GTNTTACNGCGGCKGCTG   \n",
        "7   P1.15.7.10        ACCTAATA   GAGTTTGATCNTGGCTCAG  GTNTTACNGCGGCKGCTG   \n",
        "8   P1.24.7.70        ACGCTAGA   GAGTTTGATCNTGGCTCAG  GTNTTACNGCGGCKGCTG   \n",
        "9   P2.15.7.10        ACCTTCCA   GAGTTTGATCNTGGCTCAG  GTNTTACNGCGGCKGCTG   \n",
        "10  P2.24.7.10        ACGGGCAA   GAGTTTGATCNTGGCTCAG  GTNTTACNGCGGCKGCTG   \n",
        "11  P3.15.7.10        ACGAGCTA   GAGTTTGATCNTGGCTCAG  GTNTTACNGCGGCKGCTG   \n",
        "12  P3.24.7.10        ACGTCCGA   GAGTTTGATCNTGGCTCAG  GTNTTACNGCGGCKGCTG   \n",
        "13  P4.24.7.10        ACTAAGAA   GAGTTTGATCNTGGCTCAG  GTNTTACNGCGGCKGCTG   \n",
        "\n",
        "   Variable CarbonToPhosphorous HighLow EnvironmentType Experiment  Date  \\\n",
        "0         L                 500    high         biofilm         B1     8   \n",
        "1         H                 500    high         biofilm         B1    17   \n",
        "2         L                 100     low         biofilm         B2     8   \n",
        "3         L                 100     low         biofilm         B2    17   \n",
        "4         L                  10     low         biofilm         B3     8   \n",
        "5         L                  10     low         biofilm         B3    17   \n",
        "6         L             control     low         biofilm         B4    17   \n",
        "7         L                 500    high      planktonic         P1     8   \n",
        "8         H                 500    high      planktonic         P1    17   \n",
        "9         L                 100     low      planktonic         P2     8   \n",
        "10        L                 100     low      planktonic         P2    17   \n",
        "11        L                  10     low      planktonic         P3     8   \n",
        "12        L                  10     low      planktonic         P3    17   \n",
        "13        L             control     low      planktonic         P4    17   \n",
        "\n",
        "   Description  \n",
        "0   B1_15.7.10  \n",
        "1   B1_24.7.10  \n",
        "2   B2_15.7.10  \n",
        "3   B2_24.7.10  \n",
        "4   B3_15.7.10  \n",
        "5   B3_24.7.10  \n",
        "6   B4_24.7.10  \n",
        "7   P1_15.7.10  \n",
        "8   P1_24.7.70  \n",
        "9   P2_15.7.10  \n",
        "10  P2_24.7.10  \n",
        "11  P3_15.7.10  \n",
        "12  P3_24.7.10  \n",
        "13  P4_24.7.10  "
       ]
      }
     ],
     "prompt_number": 113
    },
    {
     "cell_type": "code",
     "collapsed": false,
     "input": [
      "t = otu_table_bact\n",
      "\n",
      "dfs = {}\n",
      "for sid in t.SampleIds:\n",
      "    counts = t.sampleData(sid)\n",
      "    x, raref_data = get_raref_vector(counts)\n",
      "    dfs[sid] = pd.DataFrame(data={\"x\" : x, \"y\" : raref_data})   \n",
      "    \n",
      "df_all = pd.concat(dfs, axis=0)\n",
      "df_all = df_all.reset_index()\n",
      "df_all.drop([\"level_1\"], axis=1, inplace=True)\n",
      "df_all.rename(columns = {\"level_0\" : \"SampleID\"}, inplace=True)\n",
      "sample_data = pd.read_csv(\"../data/chachie_mapper_A.txt\", sep=\"\\t\")\n",
      "sample_data.rename(columns={\"#SampleID\" : \"SampleID\"}, inplace=True)\n",
      "df_bact = df_all.merge(sample_data, on=\"SampleID\") \n",
      "df_bact.head()"
     ],
     "language": "python",
     "metadata": {},
     "outputs": [
      {
       "html": [
        "<div style=\"max-height:1000px;max-width:1500px;overflow:auto;\">\n",
        "<table border=\"1\" class=\"dataframe\">\n",
        "  <thead>\n",
        "    <tr style=\"text-align: right;\">\n",
        "      <th></th>\n",
        "      <th>SampleID</th>\n",
        "      <th>x</th>\n",
        "      <th>y</th>\n",
        "      <th>BarcodeSequence</th>\n",
        "      <th>LinkerPrimerSequence</th>\n",
        "      <th>ReversePrimer</th>\n",
        "      <th>EnvironmentType</th>\n",
        "      <th>Experiment</th>\n",
        "      <th>CarbonToPhosphorous</th>\n",
        "      <th>HighLow</th>\n",
        "      <th>Date</th>\n",
        "      <th>Description</th>\n",
        "    </tr>\n",
        "  </thead>\n",
        "  <tbody>\n",
        "    <tr>\n",
        "      <th>0</th>\n",
        "      <td> B1.15.7.10</td>\n",
        "      <td> 10</td>\n",
        "      <td>  7.60</td>\n",
        "      <td> GTTGATTA</td>\n",
        "      <td> GGACAGAAAGACCCTATGAA</td>\n",
        "      <td> TCAGCCTGTTATCCCTAGAG</td>\n",
        "      <td> biofilm</td>\n",
        "      <td> B1</td>\n",
        "      <td> 500</td>\n",
        "      <td> high</td>\n",
        "      <td> 8</td>\n",
        "      <td> B1_15.7.10</td>\n",
        "    </tr>\n",
        "    <tr>\n",
        "      <th>1</th>\n",
        "      <td> B1.15.7.10</td>\n",
        "      <td> 20</td>\n",
        "      <td> 13.64</td>\n",
        "      <td> GTTGATTA</td>\n",
        "      <td> GGACAGAAAGACCCTATGAA</td>\n",
        "      <td> TCAGCCTGTTATCCCTAGAG</td>\n",
        "      <td> biofilm</td>\n",
        "      <td> B1</td>\n",
        "      <td> 500</td>\n",
        "      <td> high</td>\n",
        "      <td> 8</td>\n",
        "      <td> B1_15.7.10</td>\n",
        "    </tr>\n",
        "    <tr>\n",
        "      <th>2</th>\n",
        "      <td> B1.15.7.10</td>\n",
        "      <td> 30</td>\n",
        "      <td> 19.00</td>\n",
        "      <td> GTTGATTA</td>\n",
        "      <td> GGACAGAAAGACCCTATGAA</td>\n",
        "      <td> TCAGCCTGTTATCCCTAGAG</td>\n",
        "      <td> biofilm</td>\n",
        "      <td> B1</td>\n",
        "      <td> 500</td>\n",
        "      <td> high</td>\n",
        "      <td> 8</td>\n",
        "      <td> B1_15.7.10</td>\n",
        "    </tr>\n",
        "    <tr>\n",
        "      <th>3</th>\n",
        "      <td> B1.15.7.10</td>\n",
        "      <td> 40</td>\n",
        "      <td> 24.08</td>\n",
        "      <td> GTTGATTA</td>\n",
        "      <td> GGACAGAAAGACCCTATGAA</td>\n",
        "      <td> TCAGCCTGTTATCCCTAGAG</td>\n",
        "      <td> biofilm</td>\n",
        "      <td> B1</td>\n",
        "      <td> 500</td>\n",
        "      <td> high</td>\n",
        "      <td> 8</td>\n",
        "      <td> B1_15.7.10</td>\n",
        "    </tr>\n",
        "    <tr>\n",
        "      <th>4</th>\n",
        "      <td> B1.15.7.10</td>\n",
        "      <td> 50</td>\n",
        "      <td> 28.76</td>\n",
        "      <td> GTTGATTA</td>\n",
        "      <td> GGACAGAAAGACCCTATGAA</td>\n",
        "      <td> TCAGCCTGTTATCCCTAGAG</td>\n",
        "      <td> biofilm</td>\n",
        "      <td> B1</td>\n",
        "      <td> 500</td>\n",
        "      <td> high</td>\n",
        "      <td> 8</td>\n",
        "      <td> B1_15.7.10</td>\n",
        "    </tr>\n",
        "  </tbody>\n",
        "</table>\n",
        "</div>"
       ],
       "metadata": {},
       "output_type": "pyout",
       "prompt_number": 114,
       "text": [
        "     SampleID   x      y BarcodeSequence  LinkerPrimerSequence  \\\n",
        "0  B1.15.7.10  10   7.60        GTTGATTA  GGACAGAAAGACCCTATGAA   \n",
        "1  B1.15.7.10  20  13.64        GTTGATTA  GGACAGAAAGACCCTATGAA   \n",
        "2  B1.15.7.10  30  19.00        GTTGATTA  GGACAGAAAGACCCTATGAA   \n",
        "3  B1.15.7.10  40  24.08        GTTGATTA  GGACAGAAAGACCCTATGAA   \n",
        "4  B1.15.7.10  50  28.76        GTTGATTA  GGACAGAAAGACCCTATGAA   \n",
        "\n",
        "          ReversePrimer EnvironmentType Experiment CarbonToPhosphorous  \\\n",
        "0  TCAGCCTGTTATCCCTAGAG         biofilm         B1                 500   \n",
        "1  TCAGCCTGTTATCCCTAGAG         biofilm         B1                 500   \n",
        "2  TCAGCCTGTTATCCCTAGAG         biofilm         B1                 500   \n",
        "3  TCAGCCTGTTATCCCTAGAG         biofilm         B1                 500   \n",
        "4  TCAGCCTGTTATCCCTAGAG         biofilm         B1                 500   \n",
        "\n",
        "  HighLow  Date Description  \n",
        "0    high     8  B1_15.7.10  \n",
        "1    high     8  B1_15.7.10  \n",
        "2    high     8  B1_15.7.10  \n",
        "3    high     8  B1_15.7.10  \n",
        "4    high     8  B1_15.7.10  "
       ]
      }
     ],
     "prompt_number": 114
    },
    {
     "cell_type": "code",
     "collapsed": false,
     "input": [
      "df_bact = com.convert_to_r_dataframe(df_bact)\n",
      "df_euk = com.convert_to_r_dataframe(df_euk)"
     ],
     "language": "python",
     "metadata": {},
     "outputs": [],
     "prompt_number": 115
    },
    {
     "cell_type": "code",
     "collapsed": false,
     "input": [
      "%Rpush df_bact\n",
      "%Rpush df_euk"
     ],
     "language": "python",
     "metadata": {},
     "outputs": [],
     "prompt_number": 116
    },
    {
     "cell_type": "code",
     "collapsed": false,
     "input": [
      "%%R\n",
      "df.both = ldply(list(Algae = df_euk, Bacteria = df_bact))\n",
      "colnames(df.both)[1] = \"libraryType\"\n",
      "print(head(df.both))"
     ],
     "language": "python",
     "metadata": {},
     "outputs": [
      {
       "metadata": {},
       "output_type": "display_data",
       "text": [
        "  libraryType   SampleID  x     y BarcodeSequence LinkerPrimerSequence\n",
        "1       Algae B1.15.7.10 10   7.8        GTTGATTA GGACAGAAAGACCCTATGAA\n",
        "2       Algae B1.15.7.10 20 13.44        GTTGATTA GGACAGAAAGACCCTATGAA\n",
        "3       Algae B1.15.7.10 30    17        GTTGATTA GGACAGAAAGACCCTATGAA\n",
        "4       Algae B1.15.7.10 40 20.04        GTTGATTA GGACAGAAAGACCCTATGAA\n",
        "5       Algae B1.15.7.10 50 23.08        GTTGATTA GGACAGAAAGACCCTATGAA\n",
        "6       Algae B1.15.7.10 60 25.64        GTTGATTA GGACAGAAAGACCCTATGAA\n",
        "         ReversePrimer EnvironmentType Experiment CarbonToPhosphorous HighLow\n",
        "1 TCAGCCTGTTATCCCTAGAG         biofilm         B1                 500    high\n",
        "2 TCAGCCTGTTATCCCTAGAG         biofilm         B1                 500    high\n",
        "3 TCAGCCTGTTATCCCTAGAG         biofilm         B1                 500    high\n",
        "4 TCAGCCTGTTATCCCTAGAG         biofilm         B1                 500    high\n",
        "5 TCAGCCTGTTATCCCTAGAG         biofilm         B1                 500    high\n",
        "6 TCAGCCTGTTATCCCTAGAG         biofilm         B1                 500    high\n",
        "  Date Description\n",
        "1    8  B1_15.7.10\n",
        "2    8  B1_15.7.10\n",
        "3    8  B1_15.7.10\n",
        "4    8  B1_15.7.10\n",
        "5    8  B1_15.7.10\n",
        "6    8  B1_15.7.10\n"
       ]
      }
     ],
     "prompt_number": 117
    },
    {
     "cell_type": "code",
     "collapsed": false,
     "input": [
      "%%R -w 600 -h 550\n",
      "library(ggplot2)\n",
      "df.both$x = as.numeric(df.both$x)\n",
      "df.both$y = as.numeric(df.both$y)\n",
      "df.both$EnvironmentType = as.factor(df.both$EnvironmentType)\n",
      "df.both$Date.strip = factor(paste(\"t=\",df.both$Date,sep=\"\"), levels = c(\"t=8\", \"t=17\"))\n",
      "df.both$CarbonToPhosphorous.strip = factor(paste(\"C:P=\",df.both$CarbonToPhosphorous,sep=\"\"),\n",
      "                                            levels = c(\"C:P=control\", \n",
      "                                                       \"C:P=10\", \n",
      "                                                       \"C:P=100\", \n",
      "                                                       \"C:P=500\"))\n",
      "p = ggplot(df.both, aes(x = x, y = y)) + geom_line(aes(color = EnvironmentType), size=1.5)\n",
      "p = p + facet_grid(CarbonToPhosphorous.strip ~ libraryType + Date.strip, scales = \"free_x\")\n",
      "p = p + xlab(\"Number of Sequences Sampled\")\n",
      "p = p + ylab(\"Number of Observed OTUs\")\n",
      "p = p + theme_bw()\n",
      "p = p + theme(axis.text.x = element_text(angle = 45, vjust = 1, hjust = 1), \n",
      "              strip.text.x = element_text(size = 14), \n",
      "              strip.text.y = element_text(size = 14),\n",
      "              strip.background = element_blank())\n",
      "p = p + labs(color = \"Sample Type\")\n",
      "p"
     ],
     "language": "python",
     "metadata": {},
     "outputs": [
      {
       "metadata": {},
       "output_type": "display_data",
       "png": "[encoded data removed]"
      }
     ],
     "prompt_number": 121
    },
    {
     "cell_type": "code",
     "collapsed": false,
     "input": [
      "%%R\n",
      "ggsave(\"figs/combined_rarefaction.pdf\", p, h = 8, w = 8)"
     ],
     "language": "python",
     "metadata": {},
     "outputs": [],
     "prompt_number": 122
    },
    {
     "cell_type": "code",
     "collapsed": false,
     "input": [
      "FileLink(\"figs/combined_rarefaction.pdf\")"
     ],
     "language": "python",
     "metadata": {},
     "outputs": [
      {
       "html": [
        "<a href='figs/combined_rarefaction.pdf' target='_blank'>figs/combined_rarefaction.pdf</a><br>"
       ],
       "metadata": {},
       "output_type": "pyout",
       "prompt_number": 123,
       "text": [
        "/home/chuck/working/chachie_nb/BvP_manuscript_figures/figs/combined_rarefaction.pdf"
       ]
      }
     ],
     "prompt_number": 123
    },
    {
     "cell_type": "code",
     "collapsed": false,
     "input": [
      "%%R\n",
      "ps.B = import_biom(\"../data/B/otu_table.wtax_wsd.biom\")\n",
      "ps.B = subset_samples(ps, EnvironmentType==\"planktonic\")\n",
      "OTU_avg_B = apply(otu_table(ps.B), 1, sum)"
     ],
     "language": "python",
     "metadata": {},
     "outputs": [],
     "prompt_number": 208
    },
    {
     "cell_type": "code",
     "collapsed": false,
     "input": [
      "%%R\n",
      "ps.A = import_biom(\"../data/A/otu_table.wtax_wsd.biom\")\n",
      "ps.A = subset_samples(ps.A, EnvironmentType==\"planktonic\")\n",
      "OTU_avg_A = apply(otu_table(ps.A), 1, sum)"
     ],
     "language": "python",
     "metadata": {},
     "outputs": [],
     "prompt_number": 209
    },
    {
     "cell_type": "code",
     "collapsed": false,
     "input": [
      "%%R\n",
      "ps.B"
     ],
     "language": "python",
     "metadata": {},
     "outputs": [
      {
       "metadata": {},
       "output_type": "display_data",
       "text": [
        "phyloseq-class experiment-level object\n",
        "otu_table()   OTU Table:         [ 636 taxa and 7 samples ]\n",
        "sample_data() Sample Data:       [ 7 samples by 10 sample variables ]\n",
        "tax_table()   Taxonomy Table:    [ 636 taxa by 7 taxonomic ranks ]\n"
       ]
      }
     ],
     "prompt_number": 210
    },
    {
     "cell_type": "code",
     "collapsed": false,
     "input": [
      "%%R\n",
      "ps.A"
     ],
     "language": "python",
     "metadata": {},
     "outputs": [
      {
       "metadata": {},
       "output_type": "display_data",
       "text": [
        "phyloseq-class experiment-level object\n",
        "otu_table()   OTU Table:         [ 359 taxa and 7 samples ]\n",
        "sample_data() Sample Data:       [ 7 samples by 9 sample variables ]\n",
        "tax_table()   Taxonomy Table:    [ 359 taxa by 9 taxonomic ranks ]\n"
       ]
      }
     ],
     "prompt_number": 211
    },
    {
     "cell_type": "code",
     "collapsed": false,
     "input": [
      "data_planktonic_bact = %Rget OTU_avg_B\n",
      "data_planktonic_euk = %Rget OTU_avg_A"
     ],
     "language": "python",
     "metadata": {},
     "outputs": [],
     "prompt_number": 212
    },
    {
     "cell_type": "code",
     "collapsed": false,
     "input": [
      "X_bact, Y_bact = get_raref_vector(np.array(data_planktonic_bact))\n",
      "X_euk, Y_euk = get_raref_vector(np.array(data_planktonic_euk))"
     ],
     "language": "python",
     "metadata": {},
     "outputs": [],
     "prompt_number": 213
    },
    {
     "cell_type": "code",
     "collapsed": false,
     "input": [
      "fig = plt.figure()\n",
      "ax = fig.add_subplot(111)\n",
      "ax.plot(X_bact, Y_bact)\n",
      "ax.plot(X_euk, Y_euk)"
     ],
     "language": "python",
     "metadata": {},
     "outputs": [
      {
       "metadata": {},
       "output_type": "pyout",
       "prompt_number": 214,
       "text": [
        "[<matplotlib.lines.Line2D at 0x98ed350>]"
       ]
      },
      {
       "metadata": {},
       "output_type": "display_data",
       "png": "[encoded data removed]",
       "text": [
        "<matplotlib.figure.Figure at 0x58d25d0>"
       ]
      }
     ],
     "prompt_number": 214
    },
    {
     "cell_type": "code",
     "collapsed": false,
     "input": [
      "%Rpush X_bact Y_bact X_euk Y_euk"
     ],
     "language": "python",
     "metadata": {},
     "outputs": [],
     "prompt_number": 215
    },
    {
     "cell_type": "code",
     "collapsed": false,
     "input": [
      "%%R -w 800 -h 350\n",
      "\n",
      "df.integrate.bact = data.frame(x = X_bact, \n",
      "                           y = Y_bact, \n",
      "                           libraryType = \"Bacteria\", \n",
      "                           Sample = \"integrage\", \n",
      "                           EnvironmentType = \"planktonic\\nintegrated\")\n",
      "\n",
      "df.integrate.euk = data.frame(x = X_euk, \n",
      "                           y = Y_euk, \n",
      "                           libraryType = \"Algae\", \n",
      "                           Sample = \"integrage\", \n",
      "                           EnvironmentType = \"planktonic\\nintegrated\")\n",
      "\n",
      "d = rbind.fill(df.integrate.bact, \n",
      "               df.integrate.euk, \n",
      "               df.both[df.both$EnvironmentType==\"biofilm\",])\n",
      "\n",
      "d$EnvironmentType = factor(d$EnvironmentType, levels = c(\"biofilm\", \"planktonic\\nintegrated\"))\n",
      "\n",
      "p = ggplot(d, aes(x = x, y = y, group = SampleID, color = EnvironmentType))\n",
      "\n",
      "p = p + facet_wrap( ~ libraryType, scales = \"free_x\")\n",
      "\n",
      "p = p + geom_line(size = 1.5)\n",
      "\n",
      "p = p + xlab(\"Number of Sequences Sampled\")\n",
      "p = p + ylab(\"Number of Observed OTUs\")\n",
      "p = p + labs(color = \"Sample Type\")\n",
      "\n",
      "p = p + theme_bw()\n",
      "\n",
      "p = p + theme(axis.text.x = element_text(angle = 45, vjust = 1, hjust = 1), \n",
      "              strip.text.x = element_text(size = 14), \n",
      "              axis.title.x = element_text(size = 16), \n",
      "              axis.title.y = element_text(size = 16), \n",
      "              strip.background = element_blank())\n",
      "\n",
      "p.integ = p \n",
      "\n",
      "p"
     ],
     "language": "python",
     "metadata": {},
     "outputs": [
      {
       "metadata": {},
       "output_type": "display_data",
       "text": [
        "Don't know how to automatically pick scale for object of type AsIs. Defaulting to continuous\n"
       ]
      },
      {
       "metadata": {},
       "output_type": "display_data",
       "png": "[encoded data removed]"
      }
     ],
     "prompt_number": 232
    },
    {
     "cell_type": "code",
     "collapsed": false,
     "input": [
      "%%R\n",
      "ggsave(\"figs/integrated_rarefaction.pdf\", p.integ, h = 5, w = 10)"
     ],
     "language": "python",
     "metadata": {},
     "outputs": [
      {
       "metadata": {},
       "output_type": "display_data",
       "text": [
        "Don't know how to automatically pick scale for object of type AsIs. Defaulting to continuous\n"
       ]
      }
     ],
     "prompt_number": 235
    },
    {
     "cell_type": "code",
     "collapsed": false,
     "input": [
      "FileLink(\"figs/integrated_rarefaction.pdf\")"
     ],
     "language": "python",
     "metadata": {},
     "outputs": [
      {
       "html": [
        "<a href='figs/integrated_rarefaction.pdf' target='_blank'>figs/integrated_rarefaction.pdf</a><br>"
       ],
       "metadata": {},
       "output_type": "pyout",
       "prompt_number": 234,
       "text": [
        "/home/chuck/working/chachie_nb/BvP_manuscript_figures/figs/integrated_rarefaction.pdf"
       ]
      }
     ],
     "prompt_number": 234
    }
   ],
   "metadata": {}
  }
 ]
}