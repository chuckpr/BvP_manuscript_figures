{
 "metadata": {
  "name": "",
  "signature": "sha256:04442307555d91a04d9bc9468a997c5ff78aec3e2945ad4883032d0d5f4505c3"
 },
 "nbformat": 3,
 "nbformat_minor": 0,
 "worksheets": [
  {
   "cells": [
    {
     "cell_type": "code",
     "collapsed": false,
     "input": [
      "%load_ext rpy2.ipython"
     ],
     "language": "python",
     "metadata": {},
     "outputs": [
      {
       "output_type": "stream",
       "stream": "stderr",
       "text": [
        "/opt/anaconda/lib/python2.7/site-packages/pytz/__init__.py:29: UserWarning: Module argparse was already imported from /opt/anaconda/lib/python2.7/argparse.pyc, but /opt/anaconda/lib/python2.7/site-packages is being added to sys.path\n",
        "  from pkg_resources import resource_stream\n"
       ]
      }
     ],
     "prompt_number": 1
    },
    {
     "cell_type": "code",
     "collapsed": false,
     "input": [
      "%%R\n",
      "library(phyloseq)\n",
      "library(dplyr)\n",
      "library(ggplot2)\n",
      "library(tidyr)"
     ],
     "language": "python",
     "metadata": {},
     "outputs": [],
     "prompt_number": 105
    },
    {
     "cell_type": "code",
     "collapsed": false,
     "input": [
      "%%R\n",
      "physeq.bact = import_biom(\"../data/B/otu_table.wtax_wsd.biom\")\n",
      "physeq.bact"
     ],
     "language": "python",
     "metadata": {},
     "outputs": [
      {
       "metadata": {},
       "output_type": "display_data",
       "text": [
        "phyloseq-class experiment-level object\n",
        "otu_table()   OTU Table:         [ 636 taxa and 14 samples ]\n",
        "sample_data() Sample Data:       [ 14 samples by 10 sample variables ]\n",
        "tax_table()   Taxonomy Table:    [ 636 taxa by 7 taxonomic ranks ]\n"
       ]
      }
     ],
     "prompt_number": 15
    },
    {
     "cell_type": "markdown",
     "metadata": {},
     "source": [
      "##Relative abundance of cyanobacteria in bacterial libraries."
     ]
    },
    {
     "cell_type": "code",
     "collapsed": false,
     "input": [
      "%%R -w 500 -h 300\n",
      "p = physeq.bact\n",
      "mdf = psmelt(p)\n",
      "d = mdf %>% \n",
      "    group_by(Sample) %>%\n",
      "    mutate(relative.abundance = Abundance / sum(Abundance)) %>%\n",
      "    group_by(Rank2, Sample) %>% \n",
      "    summarize(relative.abundance = sum(relative.abundance)) %>%\n",
      "    filter(Rank2 == \"Cyanobacteria\") %>%\n",
      "    arrange(desc(relative.abundance))\n",
      "\n",
      "md = data.frame(sample_data(p))\n",
      "md$Sample = rownames(md)\n",
      "\n",
      "d = left_join(d, md)\n",
      "\n",
      "p = ggplot(d, aes(x = Sample, y = relative.abundance))\n",
      "\n",
      "p = p + facet_wrap(~EnvironmentType, scales = \"free_x\")\n",
      "\n",
      "\n",
      "p = p + geom_bar(stat = \"identity\")\n",
      "\n",
      "p = p + theme_bw()\n",
      "\n",
      "p = p + theme(axis.text.x = element_text(angle = 45, hjust = 1, size = 14),\n",
      "              axis.text.y = element_text(size = 14),\n",
      "              axis.title = element_text(size = 14),\n",
      "              legend.title = element_text(size = 14),\n",
      "              strip.text = element_text(size = 16), \n",
      "              strip.background = element_blank())\n",
      "\n",
      "p = p + ggtitle(\"Cyanobacterial Relative Abundance\\nin 16S rRNA gene sequence Libraries\")\n",
      "\n",
      "p"
     ],
     "language": "python",
     "metadata": {},
     "outputs": [
      {
       "metadata": {},
       "output_type": "display_data",
       "text": [
        "Joining by: \"Sample\"\n"
       ]
      },
      {
       "metadata": {},
       "output_type": "display_data",
       "png": "[encoded data removed]"
      }
     ],
     "prompt_number": 153
    },
    {
     "cell_type": "markdown",
     "metadata": {},
     "source": [
      "##Relative abundance of cyanobacteria in plastic 23S libraries."
     ]
    },
    {
     "cell_type": "code",
     "collapsed": false,
     "input": [
      "%%R -w 500 -h 300\n",
      "p = physeq.algae\n",
      "mdf = psmelt(p)\n",
      "d = mdf %>% \n",
      "    group_by(Sample) %>%\n",
      "    mutate(relative.abundance = Abundance / sum(Abundance)) %>%\n",
      "    group_by(Rank2, Sample) %>% \n",
      "    summarize(relative.abundance = sum(relative.abundance)) %>%\n",
      "    filter(Rank2 == \"Cyanobacteria\") %>%\n",
      "    arrange(desc(relative.abundance))\n",
      "\n",
      "md = data.frame(sample_data(p))\n",
      "md$Sample = rownames(md)\n",
      "\n",
      "d = left_join(d, md)\n",
      "\n",
      "p = ggplot(d, aes(x = Sample, y = relative.abundance))\n",
      "\n",
      "p = p + facet_wrap(~EnvironmentType, scales = \"free_x\")\n",
      "\n",
      "p = p + geom_bar(stat = \"identity\")\n",
      "\n",
      "p = p + theme_bw()\n",
      "\n",
      "p = p + theme(axis.text.x = element_text(angle = 45, hjust = 1, size = 14),\n",
      "              axis.text.y = element_text(size = 14),\n",
      "              axis.title = element_text(size = 14),\n",
      "              legend.title = element_text(size = 14),\n",
      "              strip.text = element_text(size = 16), \n",
      "              strip.background = element_blank())\n",
      "\n",
      "p = p + ggtitle(\"Cyanobacterial Relative Abundance\\nin 23S plastid Libraries\")\n",
      "\n",
      "print(wilcox.test((d %>% filter(EnvironmentType == \"planktonic\"))$relative.abundance,\n",
      "            (d %>% filter(EnvironmentType == \"biofilm\"))$relative.abundance,\n",
      "            alternative = \"greater\"))\n",
      "\n",
      "p"
     ],
     "language": "python",
     "metadata": {},
     "outputs": [
      {
       "metadata": {},
       "output_type": "display_data",
       "text": [
        "Joining by: \"Sample\"\n",
        "\n",
        "\tWilcoxon rank sum test\n",
        "\n",
        "data:  (d %>% filter(EnvironmentType == \"planktonic\"))$relative.abundance and (d %>% filter(EnvironmentType == \"biofilm\"))$relative.abundance\n",
        "W = 49, p-value = 0.0002914\n",
        "alternative hypothesis: true location shift is greater than 0\n",
        "\n"
       ]
      },
      {
       "metadata": {},
       "output_type": "display_data",
       "png": "[encoded data removed]"
      }
     ],
     "prompt_number": 149
    },
    {
     "cell_type": "markdown",
     "metadata": {},
     "source": [
      "##Comparison of cyanobacterial genera structure with lifestyle in plastid 23S libraries. "
     ]
    },
    {
     "cell_type": "code",
     "collapsed": false,
     "input": [
      "%%R -w 400 -h 600\n",
      "p = physeq.algae\n",
      "mdf = psmelt(p)\n",
      "d = mdf %>% \n",
      "    filter(Rank2 == \"Cyanobacteria\") %>%\n",
      "    group_by(EnvironmentType) %>%\n",
      "    mutate(relative.abundance = Abundance / sum(Abundance)) %>%\n",
      "    group_by(Rank4, EnvironmentType) %>% \n",
      "    summarize(relative.abundance = sum(relative.abundance)) %>%\n",
      "    arrange(desc(relative.abundance))\n",
      "\n",
      "p = ggplot(d, aes(x = Rank4, y = relative.abundance))\n",
      "\n",
      "p = p + facet_wrap(~EnvironmentType, ncol = 1)\n",
      "\n",
      "p = p + geom_bar(stat = \"identity\")\n",
      "\n",
      "p = p + theme_bw()\n",
      "\n",
      "p = p + theme(axis.text.x = element_text(angle = 45, hjust = 1, size = 14),\n",
      "              axis.text.y = element_text(size = 14),\n",
      "              axis.title = element_text(size = 14),\n",
      "              legend.title = element_text(size = 14),\n",
      "              strip.text = element_text(size = 16), \n",
      "              strip.background = element_blank())\n",
      "\n",
      "p = p + ggtitle(\"Cyanobacterial Relative Abundance Within Lifestyle Type\")\n",
      "\n",
      "p"
     ],
     "language": "python",
     "metadata": {},
     "outputs": [
      {
       "metadata": {},
       "output_type": "display_data",
       "png": "[encoded data removed]"
      }
     ],
     "prompt_number": 85
    },
    {
     "cell_type": "markdown",
     "metadata": {},
     "source": [
      "##Assessing significance of Synechococcus and Cyanobium relative dynamics across lifestyles."
     ]
    },
    {
     "cell_type": "code",
     "collapsed": false,
     "input": [
      "%%R\n",
      "p = physeq.algae\n",
      "genus = \"Synechococcus\"\n",
      "mdf = psmelt(p)\n",
      "d = mdf %>% \n",
      "    filter(Rank2 == \"Cyanobacteria\") %>%\n",
      "    group_by(Rank2, Sample) %>%\n",
      "    mutate(relative.abundance = Abundance / sum(Abundance)) %>%\n",
      "    group_by(Rank4, Sample) %>% \n",
      "    summarize(relative.abundance = sum(relative.abundance)) %>%\n",
      "    filter(Rank4 == genus) %>%\n",
      "    arrange(desc(relative.abundance))\n",
      "\n",
      "md = data.frame(sample_data(p))\n",
      "md$Sample = rownames(md)\n",
      "\n",
      "d = left_join(d, md)\n",
      "\n",
      "p = ggplot(d, aes(x = EnvironmentType, y = relative.abundance))\n",
      "\n",
      "p = p + geom_boxplot()\n",
      "\n",
      "p = p + geom_point(position = \"jitter\", size = 5)\n",
      "\n",
      "p = p + theme_bw()\n",
      "\n",
      "p = p + theme(axis.text.x = element_text(angle = 45, hjust = 1, size = 14),\n",
      "              axis.text.y = element_text(size = 14),\n",
      "              axis.title = element_text(size = 14))\n",
      "\n",
      "p = p + ggtitle(genus)\n",
      "\n",
      "print(wilcox.test((d %>% filter(EnvironmentType == \"planktonic\"))$relative.abundance,\n",
      "            (d %>% filter(EnvironmentType == \"biofilm\"))$relative.abundance,\n",
      "            alternative = \"less\"))\n",
      "\n",
      "p"
     ],
     "language": "python",
     "metadata": {},
     "outputs": [
      {
       "metadata": {},
       "output_type": "display_data",
       "text": [
        "Joining by: \"Sample\"\n",
        "\n",
        "\tWilcoxon rank sum test\n",
        "\n",
        "data:  (d %>% filter(EnvironmentType == \"planktonic\"))$relative.abundance and (d %>% filter(EnvironmentType == \"biofilm\"))$relative.abundance\n",
        "W = 0, p-value = 0.0002914\n",
        "alternative hypothesis: true location shift is less than 0\n",
        "\n"
       ]
      },
      {
       "metadata": {},
       "output_type": "display_data",
       "png": "[encoded data removed]"
      }
     ],
     "prompt_number": 138
    },
    {
     "cell_type": "code",
     "collapsed": false,
     "input": [
      "%%R\n",
      "p = physeq.algae\n",
      "genus = \"Cyanobium\"\n",
      "mdf = psmelt(p)\n",
      "d = mdf %>% \n",
      "    filter(Rank2 == \"Cyanobacteria\") %>%\n",
      "    group_by(Rank2, Sample) %>%\n",
      "    mutate(relative.abundance = Abundance / sum(Abundance)) %>%\n",
      "    group_by(Rank4, Sample) %>% \n",
      "    summarize(relative.abundance = sum(relative.abundance)) %>%\n",
      "    filter(Rank4 == genus) %>%\n",
      "    arrange(desc(relative.abundance))\n",
      "\n",
      "md = data.frame(sample_data(p))\n",
      "md$Sample = rownames(md)\n",
      "\n",
      "d = left_join(d, md)\n",
      "\n",
      "p = ggplot(d, aes(x = EnvironmentType, y = relative.abundance))\n",
      "\n",
      "p = p + geom_boxplot()\n",
      "\n",
      "p = p + geom_point(position = \"jitter\", size = 5)\n",
      "\n",
      "p = p + theme_bw()\n",
      "\n",
      "p = p + theme(axis.text.x = element_text(angle = 45, hjust = 1, size = 14),\n",
      "              axis.text.y = element_text(size = 14),\n",
      "              axis.title = element_text(size = 14))\n",
      "\n",
      "p = p + ggtitle(genus)\n",
      "\n",
      "print(wilcox.test((d %>% filter(EnvironmentType == \"planktonic\"))$relative.abundance,\n",
      "            (d %>% filter(EnvironmentType == \"biofilm\"))$relative.abundance,\n",
      "            alternative = \"greater\"))\n",
      "\n",
      "p"
     ],
     "language": "python",
     "metadata": {},
     "outputs": [
      {
       "metadata": {},
       "output_type": "display_data",
       "text": [
        "Joining by: \"Sample\"\n",
        "\n",
        "\tWilcoxon rank sum test\n",
        "\n",
        "data:  (d %>% filter(EnvironmentType == \"planktonic\"))$relative.abundance and (d %>% filter(EnvironmentType == \"biofilm\"))$relative.abundance\n",
        "W = 49, p-value = 0.0002914\n",
        "alternative hypothesis: true location shift is greater than 0\n",
        "\n"
       ]
      },
      {
       "metadata": {},
       "output_type": "display_data",
       "png": "[encoded data removed]"
      }
     ],
     "prompt_number": 140
    }
   ],
   "metadata": {}
  }
 ]
}