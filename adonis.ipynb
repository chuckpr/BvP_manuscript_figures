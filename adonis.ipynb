{
 "metadata": {
  "name": "",
  "signature": "sha256:0858ef37f9903dfec40846bf726ac60db219b1577af9a1562a1db88ca73f0b30"
 },
 "nbformat": 3,
 "nbformat_minor": 0,
 "worksheets": [
  {
   "cells": [
    {
     "cell_type": "code",
     "collapsed": false,
     "input": [
      "%load_ext rpy2.ipython"
     ],
     "language": "python",
     "metadata": {},
     "outputs": [
      {
       "output_type": "stream",
       "stream": "stderr",
       "text": [
        "/opt/anaconda/lib/python2.7/site-packages/pytz/__init__.py:29: UserWarning: Module argparse was already imported from /opt/anaconda/lib/python2.7/argparse.pyc, but /opt/anaconda/lib/python2.7/site-packages is being added to sys.path\n",
        "  from pkg_resources import resource_stream\n"
       ]
      }
     ],
     "prompt_number": 1
    },
    {
     "cell_type": "code",
     "collapsed": false,
     "input": [
      "%%R\n",
      "library(phyloseq)\n",
      "library(vegan)"
     ],
     "language": "python",
     "metadata": {},
     "outputs": [
      {
       "metadata": {},
       "output_type": "display_data",
       "text": [
        "Loading required package: permute\n",
        "Loading required package: lattice\n",
        "This is vegan 2.0-10\n"
       ]
      }
     ],
     "prompt_number": 2
    },
    {
     "cell_type": "code",
     "collapsed": false,
     "input": [
      "%%R\n",
      "physeq = import_biom(\"../data/A/otu_table.wtax_wsd.biom\")\n",
      "physeq.snorm = transform_sample_counts(physeq, function(x) x/sum(x))\n",
      "physeq.euks = subset_taxa(physeq.snorm, Rank1 == \"Eukaryota\")\n",
      "physeq.thresh.euks = filter_taxa(physeq.euks, function(x) sum(x > 0) > length(x) * 0.25, TRUE)\n",
      "print(physeq)\n",
      "print(physeq.thresh.euks)"
     ],
     "language": "python",
     "metadata": {},
     "outputs": [
      {
       "metadata": {},
       "output_type": "display_data",
       "text": [
        "phyloseq-class experiment-level object\n",
        "otu_table()   OTU Table:         [ 359 taxa and 14 samples ]\n",
        "sample_data() Sample Data:       [ 14 samples by 8 sample variables ]\n",
        "tax_table()   Taxonomy Table:    [ 359 taxa by 9 taxonomic ranks ]\n",
        "phyloseq-class experiment-level object\n",
        "otu_table()   OTU Table:         [ 83 taxa and 14 samples ]\n",
        "sample_data() Sample Data:       [ 14 samples by 8 sample variables ]\n",
        "tax_table()   Taxonomy Table:    [ 83 taxa by 9 taxonomic ranks ]\n"
       ]
      }
     ],
     "prompt_number": 3
    },
    {
     "cell_type": "code",
     "collapsed": false,
     "input": [
      "%%R\n",
      "physeq = import_biom(\"../data/B/otu_table.wtax_wsd.biom\")\n",
      "physeq.snorm = transform_sample_counts(physeq, function(x) x/sum(x))\n",
      "physeq.thresh.bact = filter_taxa(physeq.snorm, function(x) sum(x > 0) > length(x) * 0.25, TRUE)\n",
      "print(physeq)\n",
      "print(physeq.thresh.bact)"
     ],
     "language": "python",
     "metadata": {},
     "outputs": [
      {
       "metadata": {},
       "output_type": "display_data",
       "text": [
        "phyloseq-class experiment-level object\n",
        "otu_table()   OTU Table:         [ 636 taxa and 14 samples ]\n",
        "sample_data() Sample Data:       [ 14 samples by 9 sample variables ]\n",
        "tax_table()   Taxonomy Table:    [ 636 taxa by 7 taxonomic ranks ]\n",
        "phyloseq-class experiment-level object\n",
        "otu_table()   OTU Table:         [ 233 taxa and 14 samples ]\n",
        "sample_data() Sample Data:       [ 14 samples by 9 sample variables ]\n",
        "tax_table()   Taxonomy Table:    [ 233 taxa by 7 taxonomic ranks ]\n"
       ]
      }
     ],
     "prompt_number": 4
    },
    {
     "cell_type": "code",
     "collapsed": false,
     "input": [
      "%%R\n",
      "dist.bact = distance(physeq.thresh.bact, method = \"bray\")\n",
      "dist.euks = distance(physeq.thresh.euks, method = \"bray\")"
     ],
     "language": "python",
     "metadata": {},
     "outputs": [],
     "prompt_number": 18
    },
    {
     "cell_type": "code",
     "collapsed": false,
     "input": [
      "%%R\n",
      "adonis(dist.bact ~ EnvironmentType, data.frame(sample_data(physeq.thresh.bact)), method = \"bray\")"
     ],
     "language": "python",
     "metadata": {},
     "outputs": [
      {
       "metadata": {},
       "output_type": "display_data",
       "text": [
        "\n",
        "Call:\n",
        "adonis(formula = dist.bact ~ EnvironmentType, data = data.frame(sample_data(physeq.thresh.bact)),      method = \"bray\") \n",
        "\n",
        "Terms added sequentially (first to last)\n",
        "\n",
        "                Df SumsOfSqs MeanSqs F.Model      R2 Pr(>F)   \n",
        "EnvironmentType  1    0.7969 0.79686  2.6292 0.17972  0.006 **\n",
        "Residuals       12    3.6370 0.30309         0.82028          \n",
        "Total           13    4.4339                 1.00000          \n",
        "---\n",
        "Signif. codes:  0 \u2018***\u2019 0.001 \u2018**\u2019 0.01 \u2018*\u2019 0.05 \u2018.\u2019 0.1 \u2018 \u2019 1\n"
       ]
      }
     ],
     "prompt_number": 19
    },
    {
     "cell_type": "code",
     "collapsed": false,
     "input": [
      "%%R\n",
      "adonis(dist.euks ~ EnvironmentType, data.frame(sample_data(physeq.thresh.euks)), method = \"bray\")"
     ],
     "language": "python",
     "metadata": {},
     "outputs": [
      {
       "metadata": {},
       "output_type": "display_data",
       "text": [
        "\n",
        "Call:\n",
        "adonis(formula = dist.euks ~ EnvironmentType, data = data.frame(sample_data(physeq.thresh.euks)),      method = \"bray\") \n",
        "\n",
        "Terms added sequentially (first to last)\n",
        "\n",
        "                Df SumsOfSqs MeanSqs F.Model      R2 Pr(>F)    \n",
        "EnvironmentType  1    1.2496 1.24956  6.8822 0.36448  0.001 ***\n",
        "Residuals       12    2.1788 0.18157         0.63552           \n",
        "Total           13    3.4284                 1.00000           \n",
        "---\n",
        "Signif. codes:  0 \u2018***\u2019 0.001 \u2018**\u2019 0.01 \u2018*\u2019 0.05 \u2018.\u2019 0.1 \u2018 \u2019 1\n"
       ]
      }
     ],
     "prompt_number": 20
    }
   ],
   "metadata": {}
  }
 ]
}